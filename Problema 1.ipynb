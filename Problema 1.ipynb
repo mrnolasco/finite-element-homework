{
 "cells": [
  {
   "cell_type": "markdown",
   "id": "b55b8ecf",
   "metadata": {},
   "source": [
    "# Teoría, Práctica y Aplicaciones de los Elementos Finitos\n",
    "## Tarea I\n",
    "### Curso de Posgrado en Matemáticas-UNAM\n",
    "\n",
    "> Profesor: Daniel Castañon Quiroz. daniel.castanon@iimas.unam.mx\n",
    "\n",
    "> Alumno: Mario Rafael Nolasco Estrada. mnolasco@ciencias.unam.mx"
   ]
  },
  {
   "cell_type": "markdown",
   "id": "157eb32c",
   "metadata": {},
   "source": [
    "# Problema 1\n",
    "\n",
    "Aproximar numericamente utilizando los elementos finitos de Lagrange de primer orden la\n",
    "solucion débil del siguiente problema con valores en la frontera: \n",
    "\n",
    "$$-u''(x) = f(x),\\qquad x\\in D := [0,1],$$\n",
    "\n",
    "con las condiciones de frontera $u(0) = 0\\ , \\  u(1) =0$.\n",
    "\n",
    "donde $f(x) = \\left(4\\pi\\right)^2 \\left(\\sin 4\\pi x \\right)  $. \n",
    "\n",
    "* Observar que $u(x) =  \\sin \\left(4\\pi x\\right)$ es la solución del problema.\n",
    "* Obtener entonces la tasa de convergencia para el error $e:=u_h-u$ en la norma $L^2(D)$ y la seminorma $H^1(D)$ para $N=10, 20, 40, 80, 160$; donde $N$ es el número de subintervalos que dividen a $D$."
   ]
  },
  {
   "cell_type": "markdown",
   "id": "0173a19f",
   "metadata": {},
   "source": [
    "## Solución\n",
    "\n",
    "Dada la partición del intervalo $[a,b]$ en $n$ intervalos: \n",
    "\n",
    "$$a= x_1 < x_2 < x_3 < \\ldots < x_n < x_{n+1}=b$$\n",
    "\n",
    "Definimos: \n",
    "\n",
    "$$h_i = x_{i+1}-x_i \\quad I_i : = x\\in [x_i, x_{i+1} ]$$\n",
    "\n",
    "Tomamos los elementos finitos de Lagrange de orden uno: \n",
    "$$\\left\\lbrace \\phi_1, \\phi_2, \\ldots, \\phi_{n+1}  \\right\\rbrace $$\n",
    "\n",
    "donde \n",
    "\n",
    "$$ \\phi_i(x) := \\begin{cases}  \\frac{x-x_{i-1}}{h_{i-1}}  & x\\in [x_{i-1},x_i]= I_{i-1} \\\\ \n",
    "1-\\frac{x-x_{i}}{h_{i}}  & x\\in [x_{i},x_{i+1}]= I_{i}\\\\ \n",
    "0 & \\text{ otro caso}\\end{cases} $$\n",
    "\n",
    "con derivada:\n",
    "\n",
    "$$\\phi_i(x)' := \\begin{cases}  \\frac{1}{h_{i-1}}  & x\\in I_{i-1} \\\\\n",
    "-\\frac{1}{h_{i}}  & x\\in I_{i}\\\\ \n",
    "0 & \\text{ otro caso}\\end{cases} $$\n",
    "\n",
    "Entonces el problema se convierte en \n",
    "\n",
    "$$a(u,v)=(f,v)$$\n",
    "\n",
    "con\n",
    "\n",
    "$$a(u,v)=\\int_{D} v'u' =  \\quad (f,v) =\\int_{D} f(x) v(x)dx  $$"
   ]
  },
  {
   "cell_type": "markdown",
   "id": "4927880e",
   "metadata": {},
   "source": [
    "Ahora si tomamos $u$ y $v$ tales que: \n",
    "\n",
    "$$u = \\sum_{j=1}^{n+1} u_j \\phi_j\\quad v = \\sum_{i=1}^{n+1} v_i \\phi_i $$ \n",
    "\n",
    "y $$v_1(x_1=0)=0\\quad v_{n+1}(x_{n+1}=1)=0 $$\n",
    "\n",
    "$a(u,v)-(f,v)=0$ se convierte en:\n",
    "\n",
    "$$\\sum_{i=2}^{n} v_i \\left [ \\sum_{j=1}^{n+1}\\int_{D} \\left( \\phi_i'\\phi_j'\\right)u_j - \\int_{D}f\\phi_i  \\right] =0$$\n",
    "\n",
    "donde \n",
    "\n",
    "$$ u_1 = 0, \\quad \\sum_{j=1}^{n+1}\\int_{D} \\left( \\phi_i'\\phi_j'\\right)u_j = \\int_{D}f\\phi_i \\quad i=2,3,\\ldots, n, \\quad u_{n+1} = 0$$\n",
    "\n",
    "es un sistema de $n+1$ ecuaciones."
   ]
  },
  {
   "cell_type": "markdown",
   "id": "19f8d32b",
   "metadata": {},
   "source": [
    "En forma matricial: $$Au=b$$\n",
    "\n",
    "con $$A_{ij}=\\int_{D} \\left( \\phi_i'\\phi_j'\\right) \\quad \\text{y} \\quad b_i =\\int_{D} f \\phi_i $$\n",
    "\n",
    "Ya que los soportes de $\\phi_i$ y $\\phi_{i+2}$ se intersectan solo en el punto $\\left\\lbrace x_{i+1} \\right\\rbrace$, entonces el coeficiente $A_{ij}$ se anula si $|i-j|\\geq 2$\n",
    "\n",
    "\n",
    "Para $j=i$, tenemos que \n",
    "\n",
    "$$A_{ii}=\\int_{D} \\phi_i'\\phi_i' \n",
    "= \\int_{x_{i-1}}^{x_{i+1}} \\left( \\phi_i'\\phi_i'\\right)\n",
    "=\\int_{x_{i-1}}^{x_{i}} \\left( \\phi_i'\\phi_i'\\right)+\\int_{x_{i}}^{x_{i+1}} \\left( \\phi_i'\\phi_i'\\right)\n",
    "$$\n",
    "\n",
    "Para $j=i\\pm 1$, tenemos que \n",
    "\n",
    "$$A_{i,i+1}=\\int_{D}  \\phi_i'\\phi_{i+1}' = \\int_{x_{i}}^{x_{i+1}}  \\phi_i'\\phi_{i+1}'$$\n",
    "\n",
    "$$A_{i,i-1}=\\int_{D}  \\phi_i'\\phi_{i-1}' = \\int_{x_{i-1}}^{x_{i}}  \\phi_i'\\phi_{i-1}'$$"
   ]
  },
  {
   "cell_type": "markdown",
   "id": "fdd0a43b",
   "metadata": {},
   "source": [
    "Entonces en el intervalo $[x_i, x_{i+1}]$ se actualizan los siguientes coeficientes de la matriz $A$:\n",
    "\n",
    "$$A_{ii}\\leftarrow \\int_{x_{i}}^{x_{i+1}} \\left( \\phi_i^{-}\\right)'\\left( \\phi_i^{-}\\right)'=  a\\left( \\phi_i^{-},\\phi_i^{-} \\right) $$\n",
    "\n",
    "$$A_{i+1,i+1}\\leftarrow \\int_{x_{i}}^{x_{i+1}}  \\left( \\phi_{i+1}^{+}\\right)'\\left( \\phi_{i+1}^{+}\\right)'=a\\left(\\phi_{i+1}^{+},\\phi_{i+1}^{+} \\right) $$\n",
    "\n",
    "$$A_{i,i+1}\\leftarrow \\int_{x_{i}}^{x_{i+1}}  \\left( \\phi_{i+1}^{+}\\right)'\\left( \\phi_{i}^{-}\\right)' = a\\left( \\phi_{i}^{-}, \\phi_{i+1}^{+}\\right) $$\n",
    "\n",
    "$$A_{i+1,i}\\leftarrow \\int_{x_{i}}^{x_{i+1}} \\left( \\phi_{i}^{-}\\right)'\\left( \\phi_{i+1}^{+}\\right)' = a \\left( \\phi_{i+1}^{+}, \\phi_{i}^{-}\\right) $$\n",
    "\n",
    "Y para el vector $b$ tenemos:\n",
    "\n",
    "$$ b_i \\leftarrow \\int_{x_{i}}^{x_{i+1}} f \\phi_{i}^{-} $$\n",
    "\n",
    "$$ b_{i+1} \\leftarrow \\int_{x_{i}}^{x_{i+1}} f  \\phi_{i+1}^{+} $$\n",
    "\n",
    "Aplicando las condiciones en la frontera:\n",
    "\n",
    "$$u_1 = 0$$\n",
    "\n",
    "$$u_{n+1} = 0$$\n"
   ]
  },
  {
   "cell_type": "markdown",
   "id": "099a2c33",
   "metadata": {},
   "source": [
    "## Códigos"
   ]
  },
  {
   "cell_type": "markdown",
   "id": "517c46a1",
   "metadata": {},
   "source": [
    "### Solución exacta `u_exact`"
   ]
  },
  {
   "cell_type": "code",
   "execution_count": 1,
   "id": "999484b9",
   "metadata": {},
   "outputs": [
    {
     "data": {
      "text/plain": [
       "u_exact (generic function with 1 method)"
      ]
     },
     "execution_count": 1,
     "metadata": {},
     "output_type": "execute_result"
    }
   ],
   "source": [
    "function u_exact(x)\n",
    "    return sin(4π*x)\n",
    "end"
   ]
  },
  {
   "cell_type": "markdown",
   "id": "a47972ad",
   "metadata": {},
   "source": [
    "### Derivada de la solución exacta `du_exact`"
   ]
  },
  {
   "cell_type": "code",
   "execution_count": 2,
   "id": "ae9dba16",
   "metadata": {},
   "outputs": [
    {
     "data": {
      "text/plain": [
       "du_exact (generic function with 1 method)"
      ]
     },
     "execution_count": 2,
     "metadata": {},
     "output_type": "execute_result"
    }
   ],
   "source": [
    "function du_exact(x)\n",
    "    return 4π*cos(4π*x)\n",
    "end"
   ]
  },
  {
   "cell_type": "markdown",
   "id": "b8b169c2",
   "metadata": {},
   "source": [
    "### Aproximación de la integral definida de una función `cuadratura_gauss`"
   ]
  },
  {
   "cell_type": "code",
   "execution_count": 3,
   "id": "e97f0545",
   "metadata": {},
   "outputs": [
    {
     "data": {
      "text/plain": [
       "cuadratura_gauss"
      ]
     },
     "execution_count": 3,
     "metadata": {},
     "output_type": "execute_result"
    }
   ],
   "source": [
    "\"\"\"\n",
    "###    cuadratura_gauss(f, a, b)\n",
    "\n",
    "Aproxima el valor de la integral de la función `f` en el intervalo `[a,b]` utilizando\n",
    "la fórmula de cuadratura de Gauss-Legendre con tres nodos.\n",
    "\n",
    "### Input:\n",
    "\n",
    "- `f`: Función a integrar.\n",
    "- `a`: Límite inferior del intervalo de integración.\n",
    "- `b`: Límite superior del intervalo de integración.\n",
    "\n",
    "### Output:\n",
    "\n",
    "- `val`: Aproximación del valor de la integral de `f` en el intervalo `[a,b]`.\n",
    "\n",
    "### Ejemplo:\n",
    "\n",
    "```julia\n",
    "f(x) = exp(x)\n",
    "a, b = 0, 1\n",
    "approx = cuadratura_gauss(f, a, b)\n",
    "```\n",
    "\"\"\"\n",
    "function cuadratura_gauss(f, a, b)\n",
    "        # Nodos de la cuadratura\n",
    "        x₁ = -0.5*(b-a)*sqrt(3/5) + 0.5*(a+b)   # Nodo x₁\n",
    "        x₂ = 0.5*(a + b)                        # Nodo x₂\n",
    "        x₃ = 0.5*(b-a)*sqrt(3/5) + 0.5*(a+b)    # Nodo x₃\n",
    "    \n",
    "        # Cálculo de integral utilizando la fórmula de cuadratura de Gauss-Legendre\n",
    "        val = 5*f(x₁) + 8*f(x₂) + 5*f(x₃)       # Suma ponderada de f en los nodos\n",
    "        val = 0.5*(b-a)*val/9                   # Multiplicación por el factor de escala\n",
    "    \n",
    "    return val  # Retorna el valor aproximado de la integral de f en [a,b]\n",
    "end"
   ]
  },
  {
   "cell_type": "markdown",
   "id": "26bebcff",
   "metadata": {},
   "source": [
    "### Cálculo del error de aproximación en un elemento de la malla `error_elemento`"
   ]
  },
  {
   "cell_type": "code",
   "execution_count": 4,
   "id": "b33579b2",
   "metadata": {},
   "outputs": [
    {
     "data": {
      "text/plain": [
       "error_elemento"
      ]
     },
     "execution_count": 4,
     "metadata": {},
     "output_type": "execute_result"
    }
   ],
   "source": [
    "\"\"\"\n",
    "###    error_elemento(nodes, dofs, i)\n",
    "\n",
    "Función que calcula el error de aproximación en la norma L²\n",
    "y en la seminorma H¹ en un elemento de la malla.\n",
    "\n",
    "### Input:\n",
    "\n",
    "- `nodes`: vector con los nodos de la malla\n",
    "- `dofs`: vector con los grados de libertad de la solución\n",
    "- `i`: índice del elemento en la malla\n",
    "\n",
    "### Output:\n",
    "\n",
    "- `val_L²`: valor del error L² en el elemento\n",
    "- `val_H¹`: valor del error H¹ en el elemento\n",
    "\"\"\"\n",
    "function error_elemento(nodes, dofs, i)    \n",
    "    # Obtención de las coordenadas de los nodos y los grados de libertad\n",
    "    xᵢ = nodes[i]\n",
    "    xᵢ₊₁ = nodes[i+1]\n",
    "    uᵢ = dofs[i]\n",
    "    uᵢ₊₁ = dofs[i+1]\n",
    "    \n",
    "    # Definición de funciones hat anónimas para aproximar la solución\n",
    "    hatᵢ = x -> uᵢ*(1 - (x - xᵢ)/(xᵢ₊₁ - xᵢ))\n",
    "    hatᵢ₊₁ = x -> uᵢ₊₁*(x - xᵢ)/(xᵢ₊₁ - xᵢ)  \n",
    "    \n",
    "    # Definición de función anónima de error en L²\n",
    "    L = x -> (u_exact(x) - hatᵢ(x) - hatᵢ₊₁(x))^2\n",
    "    \n",
    "    # Definición de las derivadas de las funciones hat\n",
    "    dhatᵢ = x-> -uᵢ/(xᵢ₊₁ - xᵢ)\n",
    "    dhatᵢ₊₁ = x-> uᵢ₊₁/(xᵢ₊₁ - xᵢ)\n",
    "    \n",
    "    # Definición de función anónima de error en H¹\n",
    "    H = x -> (du_exact(x) - dhatᵢ(x) - dhatᵢ₊₁(x))^2\n",
    "        \n",
    "    # Cuadratura de Gauss para aproximar la integral\n",
    "        val_L² = cuadratura_gauss(L, xᵢ, xᵢ₊₁)\n",
    "        val_H¹ = cuadratura_gauss(H, xᵢ, xᵢ₊₁)\n",
    "    \n",
    "    return val_L², val_H¹\n",
    "end"
   ]
  },
  {
   "cell_type": "markdown",
   "id": "2fdb2c87",
   "metadata": {},
   "source": [
    "### Ensamblado de la matriz A del problema de elementos finitos `ensamble_A`"
   ]
  },
  {
   "cell_type": "code",
   "execution_count": 5,
   "id": "c2e54670",
   "metadata": {},
   "outputs": [
    {
     "data": {
      "text/plain": [
       "ensamble_A"
      ]
     },
     "execution_count": 5,
     "metadata": {},
     "output_type": "execute_result"
    }
   ],
   "source": [
    "\"\"\"\n",
    "###    ensamble_A(x, n)\n",
    "\n",
    "Construye la matriz `A_global` de tamaño `(n+1)×(n+1)` del sistema de ecuaciones lineales\n",
    "`Au = b` correspondiente a la discretización del problema de valor de frontera dado.\n",
    "\n",
    "La matriz `A_global` es ensamblada a partir de una matriz local `A_local` de tamaño `2×2`\n",
    "que se construye para cada par de elementos consecutivos del vector `x`. \n",
    "\n",
    "### Input:\n",
    "\n",
    "- `x`: Vector con las coordenadas de los nodos de la malla equidistante.\n",
    "- `n`: Número de subintervalos en la malla (número de elementos finitos).\n",
    "\n",
    "### Output:\n",
    "\n",
    "- `A_global`: Matriz `A` del sistema de ecuaciones lineales `Au=b`.\n",
    "\n",
    "### Ejemplo:\n",
    "```julia\n",
    "n = 4\n",
    "x = range(0, stop=1, length=n+1)\n",
    "A = ensamble_A(x, n)\n",
    "```\n",
    "\"\"\"\n",
    "function ensamble_A(x, n)    \n",
    "    A_global = zeros(n+1, n+1) # Inicializar matriz A_global con ceros\n",
    "    A_local = zeros(2,2) # Inicializar matriz A_local con ceros \n",
    "\n",
    "    for i in 1:n\n",
    "        xᵢ = x[i] # Elemento i del vector x\n",
    "        xᵢ₊₁ = x[i+1] # Elemento i+1 del vector x\n",
    "\n",
    "        # Definición de derivadas de funciones sombrero anónimas       \n",
    "        dφ⁻ᵢ = x -> -1/(xᵢ₊₁ - xᵢ)    \n",
    "        dφ⁺ᵢ₊₁ = x -> 1/(xᵢ₊₁ - xᵢ)\n",
    "        \n",
    "        # Funciones a integrar para calcular las entradas de A_local\n",
    "        I_1 = x-> dφ⁻ᵢ(x)*dφ⁻ᵢ(x) \n",
    "        I_2 = x-> dφ⁻ᵢ(x)*dφ⁺ᵢ₊₁(x) \n",
    "        I_3 = x-> dφ⁺ᵢ₊₁(x)*dφ⁻ᵢ(x) \n",
    "        I_4 = x-> dφ⁺ᵢ₊₁(x)*dφ⁺ᵢ₊₁(x) \n",
    "        \n",
    "        # Integración numérica para calcular las entradas de A_local\n",
    "        A_local[1,1] = cuadratura_gauss(I_1, xᵢ, xᵢ₊₁)\n",
    "        A_local[1,2] = cuadratura_gauss(I_2, xᵢ, xᵢ₊₁)\n",
    "        A_local[2,1] = cuadratura_gauss(I_3, xᵢ, xᵢ₊₁)\n",
    "        A_local[2,2] = cuadratura_gauss(I_4, xᵢ, xᵢ₊₁)\n",
    "\n",
    "\n",
    "        # Actualización de las entradas correspondientes de A_global\n",
    "        A_global[i,i] = A_global[i,i] + A_local[1,1]\n",
    "        A_global[i+1,i+1] = A_global[i+1,i+1] + A_local[2,2]\n",
    "\n",
    "        A_global[i,i+1] = A_global[i,i+1] + A_local[2,1]\n",
    "        A_global[i+1,i] = A_global[i+1,i] + A_local[1,2]      \n",
    "    end\n",
    "    # Imponer condición de frontera u(0) = 0, u(1) = 0\n",
    "    A_global[1,1] = 1\n",
    "    A_global[1,2] = 0\n",
    "    \n",
    "    A_global[n+1,n] = 0\n",
    "    A_global[n+1,n+1] = 1\n",
    "    \n",
    "    return A_global\n",
    "end"
   ]
  },
  {
   "cell_type": "markdown",
   "id": "86271ab1",
   "metadata": {},
   "source": [
    "### Ensamblado del vector b del problema de elementos finitos `ensamble_b`"
   ]
  },
  {
   "cell_type": "code",
   "execution_count": 6,
   "id": "b6023b9f",
   "metadata": {},
   "outputs": [
    {
     "data": {
      "text/plain": [
       "ensamble_b"
      ]
     },
     "execution_count": 6,
     "metadata": {},
     "output_type": "execute_result"
    }
   ],
   "source": [
    "\"\"\"\n",
    "###    ensamble_b(x, n)\n",
    "\n",
    "Construye el vector `b` del sistema de ecuaciones lineales `Au = b` correspondiente\n",
    "a la discretización del problema de valor de frontera dado, en una malla de\n",
    "`n+1` nodos equidistantes en el intervalo `[0,1]`, utilizando el método\n",
    "de elementos finitos con funciones de forma lineales.\n",
    "\n",
    "### Input:\n",
    "\n",
    "- `x`: Vector con las coordenadas de los nodos de la malla equidistante.\n",
    "- `n`: Número de subintervalos en la malla (número de elementos finitos).\n",
    "\n",
    "### Output:\n",
    "\n",
    "- `b_global`: Vector `b` del sistema de ecuaciones lineales `Au = b`.\n",
    "\n",
    "### Ejemplo:\n",
    "```julia\n",
    "n = 4\n",
    "x = range(0, stop=1, length=n+1)\n",
    "b = ensamble_b(x, n)\n",
    "```\n",
    "\"\"\"\n",
    "function ensamble_b(x, n)\n",
    "    b_global = zeros(n+1, 1) # Vector b de tamaño n+1\n",
    "    b_local = zeros(2, 1) # Vector b_local de tamaño 2\n",
    "\n",
    "    for i in 1:n\n",
    "        xᵢ = x[i]           # Coordenada x del nodo i\n",
    "        xᵢ₊₁ = x[i+1]       # Coordenada x del nodo i+1\n",
    "\n",
    "        # Funciones de forma φ⁻ᵢ y φ⁺ᵢ₊₁\n",
    "        φᵢ⁻ = x -> 1 - (x-xᵢ)/(xᵢ₊₁-xᵢ)\n",
    "        φᵢ₊₁⁺ = x -> (x-xᵢ)/(xᵢ₊₁-xᵢ)\n",
    "        \n",
    "        # Función f(x), lado derecho de la ODE\n",
    "        f = x-> (4π)^2*sin(4π*x)\n",
    "\n",
    "        # Integración numérica para calcular las entradas de b_local\n",
    "        fφᵢ = x-> f(x)*φᵢ⁻(x)\n",
    "        fφᵢ₊₁ = x-> f(x)*φᵢ₊₁⁺(x)\n",
    "        \n",
    "        b_local[1] = cuadratura_gauss(fφᵢ, xᵢ, xᵢ₊₁)\n",
    "        b_local[2] = cuadratura_gauss(fφᵢ₊₁, xᵢ, xᵢ₊₁)\n",
    "\n",
    "        # Actualización de las entradas correspondientes de b_global\n",
    "        b_global[i] = b_global[i] + b_local[1]\n",
    "        b_global[i+1] = b_global[i+1] + b_local[2]\n",
    "    end\n",
    "\n",
    "    # Imponer condición de frontera u(0) = 0, u(1) = 0\n",
    "    b_global[1] = 0\n",
    "    b_global[n+1] = 0\n",
    "\n",
    "    return b_global  # Retorna el vector b del sistema de ecuaciones lineales\n",
    "end"
   ]
  },
  {
   "cell_type": "markdown",
   "id": "5ad7e3f5",
   "metadata": {},
   "source": [
    "### Solución del problema dado utilizando el método de elementos finitos `solve_u`"
   ]
  },
  {
   "cell_type": "code",
   "execution_count": 7,
   "id": "678ec7a3",
   "metadata": {},
   "outputs": [
    {
     "data": {
      "text/plain": [
       "solve_u"
      ]
     },
     "execution_count": 7,
     "metadata": {},
     "output_type": "execute_result"
    }
   ],
   "source": [
    "\"\"\"\n",
    "###    solve_u(n, part = 1)\n",
    "\n",
    "La función `solve_u` resuelve el problema dado utilizando el método de elementos finitos. \n",
    "\n",
    "### Input:\n",
    "\n",
    "- `n`: el número de puntos de malla\n",
    "- `part`: argumento opcional\n",
    "    * si es igual a 1 utiliza una malla uniforme\n",
    "    * si es igual a 2 utiliza una malla no uniforme generada aleatoriamente.\n",
    "\n",
    "### Output:\n",
    "\n",
    "- `x`: malla utilizada en el cálculo.\n",
    "- `u_h`: vector con la solución aproximada\n",
    "\n",
    "\"\"\"\n",
    "function solve_u(n, part = 1)\n",
    "    # Definición de la malla x en función del valor del argumento part.\n",
    "    if part == 1\n",
    "        # Se crea un vector de n+1 puntos equidistantes en el intervalo [0,1]\n",
    "        x = LinRange(0, 1, n+1)\n",
    "    elseif part == 2\n",
    "        x = zeros(n+1, 1)\n",
    "        # Se crea un vector de n-1 puntos aleatorios en el intervalo (0,1)\n",
    "        x_in= sort!(collect(rand(n-1,1)), dims = 1)\n",
    "        # Se agregan los puntos extremos 0 y 1 al principio y al final del vector x.\n",
    "        x[1] = 0\n",
    "        x[2:n] = x_in\n",
    "        x[n+1] = 1\n",
    "    end\n",
    "    # Ensamblado de las matrices A y el vector b del problema de elementos finitos.\n",
    "    # Se utiliza la malla x y el número de puntos de malla como argumentos para estas funciones.\n",
    "    A_global = ensamble_A(x, n)\n",
    "    b_global = ensamble_b(x, n)\n",
    "    \n",
    "    # Se resuelve el sistema lineal A_global u_h = b_global utilizando el operador \\ de Julia\n",
    "    # El resultado de la función es un vector u_h con la solución aproximada\n",
    "    # El vector x que representa la malla utilizada en el cálculo.\n",
    "    u_h = A_global\\b_global\n",
    "return x, u_h\n",
    "end"
   ]
  },
  {
   "cell_type": "markdown",
   "id": "fcf71739",
   "metadata": {},
   "source": [
    "### Ejemplo"
   ]
  },
  {
   "cell_type": "code",
   "execution_count": 8,
   "id": "9b185c8c",
   "metadata": {},
   "outputs": [],
   "source": [
    "# Cargamos paquete para graficar\n",
    "using Plots\n",
    "\n",
    "# Número de intervalos \n",
    "n = 100\n",
    "\n",
    "# Solución del problema con malla aleatoria\n",
    "x, u_h = solve_u(n,2);"
   ]
  },
  {
   "cell_type": "code",
   "execution_count": 9,
   "id": "2a0b06af",
   "metadata": {},
   "outputs": [
    {
     "data": {
      "image/svg+xml": [
       "<?xml version=\"1.0\" encoding=\"utf-8\"?>\n",
       "<svg xmlns=\"http://www.w3.org/2000/svg\" xmlns:xlink=\"http://www.w3.org/1999/xlink\" width=\"600\" height=\"400\" viewBox=\"0 0 2400 1600\">\n",
       "<defs>\n",
       "  <clipPath id=\"clip190\">\n",
       "    <rect x=\"0\" y=\"0\" width=\"2400\" height=\"1600\"/>\n",
       "  </clipPath>\n",
       "</defs>\n",
       "<path clip-path=\"url(#clip190)\" d=\"M0 1600 L2400 1600 L2400 0 L0 0  Z\" fill=\"#ffffff\" fill-rule=\"evenodd\" fill-opacity=\"1\"/>\n",
       "<defs>\n",
       "  <clipPath id=\"clip191\">\n",
       "    <rect x=\"480\" y=\"0\" width=\"1681\" height=\"1600\"/>\n",
       "  </clipPath>\n",
       "</defs>\n",
       "<path clip-path=\"url(#clip190)\" d=\"M193.936 1486.45 L2352.76 1486.45 L2352.76 47.2441 L193.936 47.2441  Z\" fill=\"#ffffff\" fill-rule=\"evenodd\" fill-opacity=\"1\"/>\n",
       "<defs>\n",
       "  <clipPath id=\"clip192\">\n",
       "    <rect x=\"193\" y=\"47\" width=\"2160\" height=\"1440\"/>\n",
       "  </clipPath>\n",
       "</defs>\n",
       "<polyline clip-path=\"url(#clip192)\" style=\"stroke:#000000; stroke-linecap:round; stroke-linejoin:round; stroke-width:2; stroke-opacity:0.1; fill:none\" points=\"255.035,1486.45 255.035,47.2441 \"/>\n",
       "<polyline clip-path=\"url(#clip192)\" style=\"stroke:#000000; stroke-linecap:round; stroke-linejoin:round; stroke-width:2; stroke-opacity:0.1; fill:none\" points=\"764.19,1486.45 764.19,47.2441 \"/>\n",
       "<polyline clip-path=\"url(#clip192)\" style=\"stroke:#000000; stroke-linecap:round; stroke-linejoin:round; stroke-width:2; stroke-opacity:0.1; fill:none\" points=\"1273.35,1486.45 1273.35,47.2441 \"/>\n",
       "<polyline clip-path=\"url(#clip192)\" style=\"stroke:#000000; stroke-linecap:round; stroke-linejoin:round; stroke-width:2; stroke-opacity:0.1; fill:none\" points=\"1782.5,1486.45 1782.5,47.2441 \"/>\n",
       "<polyline clip-path=\"url(#clip192)\" style=\"stroke:#000000; stroke-linecap:round; stroke-linejoin:round; stroke-width:2; stroke-opacity:0.1; fill:none\" points=\"2291.66,1486.45 2291.66,47.2441 \"/>\n",
       "<polyline clip-path=\"url(#clip190)\" style=\"stroke:#000000; stroke-linecap:round; stroke-linejoin:round; stroke-width:4; stroke-opacity:1; fill:none\" points=\"193.936,1486.45 2352.76,1486.45 \"/>\n",
       "<polyline clip-path=\"url(#clip190)\" style=\"stroke:#000000; stroke-linecap:round; stroke-linejoin:round; stroke-width:4; stroke-opacity:1; fill:none\" points=\"255.035,1486.45 255.035,1467.55 \"/>\n",
       "<polyline clip-path=\"url(#clip190)\" style=\"stroke:#000000; stroke-linecap:round; stroke-linejoin:round; stroke-width:4; stroke-opacity:1; fill:none\" points=\"764.19,1486.45 764.19,1467.55 \"/>\n",
       "<polyline clip-path=\"url(#clip190)\" style=\"stroke:#000000; stroke-linecap:round; stroke-linejoin:round; stroke-width:4; stroke-opacity:1; fill:none\" points=\"1273.35,1486.45 1273.35,1467.55 \"/>\n",
       "<polyline clip-path=\"url(#clip190)\" style=\"stroke:#000000; stroke-linecap:round; stroke-linejoin:round; stroke-width:4; stroke-opacity:1; fill:none\" points=\"1782.5,1486.45 1782.5,1467.55 \"/>\n",
       "<polyline clip-path=\"url(#clip190)\" style=\"stroke:#000000; stroke-linecap:round; stroke-linejoin:round; stroke-width:4; stroke-opacity:1; fill:none\" points=\"2291.66,1486.45 2291.66,1467.55 \"/>\n",
       "<path clip-path=\"url(#clip190)\" d=\"M217.338 1517.37 Q213.727 1517.37 211.898 1520.93 Q210.093 1524.47 210.093 1531.6 Q210.093 1538.71 211.898 1542.27 Q213.727 1545.82 217.338 1545.82 Q220.972 1545.82 222.778 1542.27 Q224.607 1538.71 224.607 1531.6 Q224.607 1524.47 222.778 1520.93 Q220.972 1517.37 217.338 1517.37 M217.338 1513.66 Q223.148 1513.66 226.204 1518.27 Q229.282 1522.85 229.282 1531.6 Q229.282 1540.33 226.204 1544.94 Q223.148 1549.52 217.338 1549.52 Q211.528 1549.52 208.449 1544.94 Q205.394 1540.33 205.394 1531.6 Q205.394 1522.85 208.449 1518.27 Q211.528 1513.66 217.338 1513.66 Z\" fill=\"#000000\" fill-rule=\"nonzero\" fill-opacity=\"1\" /><path clip-path=\"url(#clip190)\" d=\"M237.5 1542.97 L242.384 1542.97 L242.384 1548.85 L237.5 1548.85 L237.5 1542.97 Z\" fill=\"#000000\" fill-rule=\"nonzero\" fill-opacity=\"1\" /><path clip-path=\"url(#clip190)\" d=\"M262.569 1517.37 Q258.958 1517.37 257.13 1520.93 Q255.324 1524.47 255.324 1531.6 Q255.324 1538.71 257.13 1542.27 Q258.958 1545.82 262.569 1545.82 Q266.204 1545.82 268.009 1542.27 Q269.838 1538.71 269.838 1531.6 Q269.838 1524.47 268.009 1520.93 Q266.204 1517.37 262.569 1517.37 M262.569 1513.66 Q268.38 1513.66 271.435 1518.27 Q274.514 1522.85 274.514 1531.6 Q274.514 1540.33 271.435 1544.94 Q268.38 1549.52 262.569 1549.52 Q256.759 1549.52 253.681 1544.94 Q250.625 1540.33 250.625 1531.6 Q250.625 1522.85 253.681 1518.27 Q256.759 1513.66 262.569 1513.66 Z\" fill=\"#000000\" fill-rule=\"nonzero\" fill-opacity=\"1\" /><path clip-path=\"url(#clip190)\" d=\"M292.731 1517.37 Q289.12 1517.37 287.291 1520.93 Q285.486 1524.47 285.486 1531.6 Q285.486 1538.71 287.291 1542.27 Q289.12 1545.82 292.731 1545.82 Q296.365 1545.82 298.171 1542.27 Q300 1538.71 300 1531.6 Q300 1524.47 298.171 1520.93 Q296.365 1517.37 292.731 1517.37 M292.731 1513.66 Q298.541 1513.66 301.597 1518.27 Q304.676 1522.85 304.676 1531.6 Q304.676 1540.33 301.597 1544.94 Q298.541 1549.52 292.731 1549.52 Q286.921 1549.52 283.842 1544.94 Q280.787 1540.33 280.787 1531.6 Q280.787 1522.85 283.842 1518.27 Q286.921 1513.66 292.731 1513.66 Z\" fill=\"#000000\" fill-rule=\"nonzero\" fill-opacity=\"1\" /><path clip-path=\"url(#clip190)\" d=\"M726.991 1517.37 Q723.38 1517.37 721.552 1520.93 Q719.746 1524.47 719.746 1531.6 Q719.746 1538.71 721.552 1542.27 Q723.38 1545.82 726.991 1545.82 Q730.626 1545.82 732.431 1542.27 Q734.26 1538.71 734.26 1531.6 Q734.26 1524.47 732.431 1520.93 Q730.626 1517.37 726.991 1517.37 M726.991 1513.66 Q732.802 1513.66 735.857 1518.27 Q738.936 1522.85 738.936 1531.6 Q738.936 1540.33 735.857 1544.94 Q732.802 1549.52 726.991 1549.52 Q721.181 1549.52 718.103 1544.94 Q715.047 1540.33 715.047 1531.6 Q715.047 1522.85 718.103 1518.27 Q721.181 1513.66 726.991 1513.66 Z\" fill=\"#000000\" fill-rule=\"nonzero\" fill-opacity=\"1\" /><path clip-path=\"url(#clip190)\" d=\"M747.153 1542.97 L752.038 1542.97 L752.038 1548.85 L747.153 1548.85 L747.153 1542.97 Z\" fill=\"#000000\" fill-rule=\"nonzero\" fill-opacity=\"1\" /><path clip-path=\"url(#clip190)\" d=\"M766.25 1544.91 L782.57 1544.91 L782.57 1548.85 L760.626 1548.85 L760.626 1544.91 Q763.288 1542.16 767.871 1537.53 Q772.477 1532.88 773.658 1531.53 Q775.903 1529.01 776.783 1527.27 Q777.686 1525.51 777.686 1523.82 Q777.686 1521.07 775.741 1519.33 Q773.82 1517.6 770.718 1517.6 Q768.519 1517.6 766.065 1518.36 Q763.635 1519.13 760.857 1520.68 L760.857 1515.95 Q763.681 1514.82 766.135 1514.24 Q768.588 1513.66 770.625 1513.66 Q775.996 1513.66 779.19 1516.35 Q782.385 1519.03 782.385 1523.52 Q782.385 1525.65 781.574 1527.57 Q780.787 1529.47 778.681 1532.07 Q778.102 1532.74 775 1535.95 Q771.899 1539.15 766.25 1544.91 Z\" fill=\"#000000\" fill-rule=\"nonzero\" fill-opacity=\"1\" /><path clip-path=\"url(#clip190)\" d=\"M792.431 1514.29 L810.787 1514.29 L810.787 1518.22 L796.713 1518.22 L796.713 1526.7 Q797.732 1526.35 798.75 1526.19 Q799.769 1526 800.787 1526 Q806.574 1526 809.954 1529.17 Q813.334 1532.34 813.334 1537.76 Q813.334 1543.34 809.861 1546.44 Q806.389 1549.52 800.07 1549.52 Q797.894 1549.52 795.625 1549.15 Q793.38 1548.78 790.973 1548.04 L790.973 1543.34 Q793.056 1544.47 795.278 1545.03 Q797.5 1545.58 799.977 1545.58 Q803.982 1545.58 806.32 1543.48 Q808.658 1541.37 808.658 1537.76 Q808.658 1534.15 806.32 1532.04 Q803.982 1529.94 799.977 1529.94 Q798.102 1529.94 796.227 1530.35 Q794.375 1530.77 792.431 1531.65 L792.431 1514.29 Z\" fill=\"#000000\" fill-rule=\"nonzero\" fill-opacity=\"1\" /><path clip-path=\"url(#clip190)\" d=\"M1235.65 1517.37 Q1232.04 1517.37 1230.21 1520.93 Q1228.4 1524.47 1228.4 1531.6 Q1228.4 1538.71 1230.21 1542.27 Q1232.04 1545.82 1235.65 1545.82 Q1239.28 1545.82 1241.09 1542.27 Q1242.92 1538.71 1242.92 1531.6 Q1242.92 1524.47 1241.09 1520.93 Q1239.28 1517.37 1235.65 1517.37 M1235.65 1513.66 Q1241.46 1513.66 1244.52 1518.27 Q1247.59 1522.85 1247.59 1531.6 Q1247.59 1540.33 1244.52 1544.94 Q1241.46 1549.52 1235.65 1549.52 Q1229.84 1549.52 1226.76 1544.94 Q1223.71 1540.33 1223.71 1531.6 Q1223.71 1522.85 1226.76 1518.27 Q1229.84 1513.66 1235.65 1513.66 Z\" fill=\"#000000\" fill-rule=\"nonzero\" fill-opacity=\"1\" /><path clip-path=\"url(#clip190)\" d=\"M1255.81 1542.97 L1260.7 1542.97 L1260.7 1548.85 L1255.81 1548.85 L1255.81 1542.97 Z\" fill=\"#000000\" fill-rule=\"nonzero\" fill-opacity=\"1\" /><path clip-path=\"url(#clip190)\" d=\"M1270.93 1514.29 L1289.28 1514.29 L1289.28 1518.22 L1275.21 1518.22 L1275.21 1526.7 Q1276.23 1526.35 1277.25 1526.19 Q1278.26 1526 1279.28 1526 Q1285.07 1526 1288.45 1529.17 Q1291.83 1532.34 1291.83 1537.76 Q1291.83 1543.34 1288.36 1546.44 Q1284.89 1549.52 1278.57 1549.52 Q1276.39 1549.52 1274.12 1549.15 Q1271.88 1548.78 1269.47 1548.04 L1269.47 1543.34 Q1271.55 1544.47 1273.77 1545.03 Q1276 1545.58 1278.47 1545.58 Q1282.48 1545.58 1284.82 1543.48 Q1287.15 1541.37 1287.15 1537.76 Q1287.15 1534.15 1284.82 1532.04 Q1282.48 1529.94 1278.47 1529.94 Q1276.6 1529.94 1274.72 1530.35 Q1272.87 1530.77 1270.93 1531.65 L1270.93 1514.29 Z\" fill=\"#000000\" fill-rule=\"nonzero\" fill-opacity=\"1\" /><path clip-path=\"url(#clip190)\" d=\"M1311.04 1517.37 Q1307.43 1517.37 1305.6 1520.93 Q1303.8 1524.47 1303.8 1531.6 Q1303.8 1538.71 1305.6 1542.27 Q1307.43 1545.82 1311.04 1545.82 Q1314.68 1545.82 1316.48 1542.27 Q1318.31 1538.71 1318.31 1531.6 Q1318.31 1524.47 1316.48 1520.93 Q1314.68 1517.37 1311.04 1517.37 M1311.04 1513.66 Q1316.85 1513.66 1319.91 1518.27 Q1322.99 1522.85 1322.99 1531.6 Q1322.99 1540.33 1319.91 1544.94 Q1316.85 1549.52 1311.04 1549.52 Q1305.23 1549.52 1302.15 1544.94 Q1299.1 1540.33 1299.1 1531.6 Q1299.1 1522.85 1302.15 1518.27 Q1305.23 1513.66 1311.04 1513.66 Z\" fill=\"#000000\" fill-rule=\"nonzero\" fill-opacity=\"1\" /><path clip-path=\"url(#clip190)\" d=\"M1745.3 1517.37 Q1741.69 1517.37 1739.86 1520.93 Q1738.06 1524.47 1738.06 1531.6 Q1738.06 1538.71 1739.86 1542.27 Q1741.69 1545.82 1745.3 1545.82 Q1748.94 1545.82 1750.74 1542.27 Q1752.57 1538.71 1752.57 1531.6 Q1752.57 1524.47 1750.74 1520.93 Q1748.94 1517.37 1745.3 1517.37 M1745.3 1513.66 Q1751.11 1513.66 1754.17 1518.27 Q1757.25 1522.85 1757.25 1531.6 Q1757.25 1540.33 1754.17 1544.94 Q1751.11 1549.52 1745.3 1549.52 Q1739.49 1549.52 1736.41 1544.94 Q1733.36 1540.33 1733.36 1531.6 Q1733.36 1522.85 1736.41 1518.27 Q1739.49 1513.66 1745.3 1513.66 Z\" fill=\"#000000\" fill-rule=\"nonzero\" fill-opacity=\"1\" /><path clip-path=\"url(#clip190)\" d=\"M1765.46 1542.97 L1770.35 1542.97 L1770.35 1548.85 L1765.46 1548.85 L1765.46 1542.97 Z\" fill=\"#000000\" fill-rule=\"nonzero\" fill-opacity=\"1\" /><path clip-path=\"url(#clip190)\" d=\"M1779.35 1514.29 L1801.58 1514.29 L1801.58 1516.28 L1789.03 1548.85 L1784.15 1548.85 L1795.95 1518.22 L1779.35 1518.22 L1779.35 1514.29 Z\" fill=\"#000000\" fill-rule=\"nonzero\" fill-opacity=\"1\" /><path clip-path=\"url(#clip190)\" d=\"M1810.74 1514.29 L1829.1 1514.29 L1829.1 1518.22 L1815.02 1518.22 L1815.02 1526.7 Q1816.04 1526.35 1817.06 1526.19 Q1818.08 1526 1819.1 1526 Q1824.89 1526 1828.27 1529.17 Q1831.64 1532.34 1831.64 1537.76 Q1831.64 1543.34 1828.17 1546.44 Q1824.7 1549.52 1818.38 1549.52 Q1816.21 1549.52 1813.94 1549.15 Q1811.69 1548.78 1809.28 1548.04 L1809.28 1543.34 Q1811.37 1544.47 1813.59 1545.03 Q1815.81 1545.58 1818.29 1545.58 Q1822.29 1545.58 1824.63 1543.48 Q1826.97 1541.37 1826.97 1537.76 Q1826.97 1534.15 1824.63 1532.04 Q1822.29 1529.94 1818.29 1529.94 Q1816.41 1529.94 1814.54 1530.35 Q1812.69 1530.77 1810.74 1531.65 L1810.74 1514.29 Z\" fill=\"#000000\" fill-rule=\"nonzero\" fill-opacity=\"1\" /><path clip-path=\"url(#clip190)\" d=\"M2243.73 1544.91 L2251.37 1544.91 L2251.37 1518.55 L2243.06 1520.21 L2243.06 1515.95 L2251.32 1514.29 L2256 1514.29 L2256 1544.91 L2263.64 1544.91 L2263.64 1548.85 L2243.73 1548.85 L2243.73 1544.91 Z\" fill=\"#000000\" fill-rule=\"nonzero\" fill-opacity=\"1\" /><path clip-path=\"url(#clip190)\" d=\"M2273.08 1542.97 L2277.97 1542.97 L2277.97 1548.85 L2273.08 1548.85 L2273.08 1542.97 Z\" fill=\"#000000\" fill-rule=\"nonzero\" fill-opacity=\"1\" /><path clip-path=\"url(#clip190)\" d=\"M2298.15 1517.37 Q2294.54 1517.37 2292.71 1520.93 Q2290.9 1524.47 2290.9 1531.6 Q2290.9 1538.71 2292.71 1542.27 Q2294.54 1545.82 2298.15 1545.82 Q2301.78 1545.82 2303.59 1542.27 Q2305.42 1538.71 2305.42 1531.6 Q2305.42 1524.47 2303.59 1520.93 Q2301.78 1517.37 2298.15 1517.37 M2298.15 1513.66 Q2303.96 1513.66 2307.02 1518.27 Q2310.09 1522.85 2310.09 1531.6 Q2310.09 1540.33 2307.02 1544.94 Q2303.96 1549.52 2298.15 1549.52 Q2292.34 1549.52 2289.26 1544.94 Q2286.21 1540.33 2286.21 1531.6 Q2286.21 1522.85 2289.26 1518.27 Q2292.34 1513.66 2298.15 1513.66 Z\" fill=\"#000000\" fill-rule=\"nonzero\" fill-opacity=\"1\" /><path clip-path=\"url(#clip190)\" d=\"M2328.31 1517.37 Q2324.7 1517.37 2322.87 1520.93 Q2321.07 1524.47 2321.07 1531.6 Q2321.07 1538.71 2322.87 1542.27 Q2324.7 1545.82 2328.31 1545.82 Q2331.95 1545.82 2333.75 1542.27 Q2335.58 1538.71 2335.58 1531.6 Q2335.58 1524.47 2333.75 1520.93 Q2331.95 1517.37 2328.31 1517.37 M2328.31 1513.66 Q2334.12 1513.66 2337.18 1518.27 Q2340.26 1522.85 2340.26 1531.6 Q2340.26 1540.33 2337.18 1544.94 Q2334.12 1549.52 2328.31 1549.52 Q2322.5 1549.52 2319.42 1544.94 Q2316.37 1540.33 2316.37 1531.6 Q2316.37 1522.85 2319.42 1518.27 Q2322.5 1513.66 2328.31 1513.66 Z\" fill=\"#000000\" fill-rule=\"nonzero\" fill-opacity=\"1\" /><polyline clip-path=\"url(#clip192)\" style=\"stroke:#000000; stroke-linecap:round; stroke-linejoin:round; stroke-width:2; stroke-opacity:0.1; fill:none\" points=\"193.936,1445.73 2352.76,1445.73 \"/>\n",
       "<polyline clip-path=\"url(#clip192)\" style=\"stroke:#000000; stroke-linecap:round; stroke-linejoin:round; stroke-width:2; stroke-opacity:0.1; fill:none\" points=\"193.936,1106.29 2352.76,1106.29 \"/>\n",
       "<polyline clip-path=\"url(#clip192)\" style=\"stroke:#000000; stroke-linecap:round; stroke-linejoin:round; stroke-width:2; stroke-opacity:0.1; fill:none\" points=\"193.936,766.846 2352.76,766.846 \"/>\n",
       "<polyline clip-path=\"url(#clip192)\" style=\"stroke:#000000; stroke-linecap:round; stroke-linejoin:round; stroke-width:2; stroke-opacity:0.1; fill:none\" points=\"193.936,427.406 2352.76,427.406 \"/>\n",
       "<polyline clip-path=\"url(#clip192)\" style=\"stroke:#000000; stroke-linecap:round; stroke-linejoin:round; stroke-width:2; stroke-opacity:0.1; fill:none\" points=\"193.936,87.9661 2352.76,87.9661 \"/>\n",
       "<polyline clip-path=\"url(#clip190)\" style=\"stroke:#000000; stroke-linecap:round; stroke-linejoin:round; stroke-width:4; stroke-opacity:1; fill:none\" points=\"193.936,1486.45 193.936,47.2441 \"/>\n",
       "<polyline clip-path=\"url(#clip190)\" style=\"stroke:#000000; stroke-linecap:round; stroke-linejoin:round; stroke-width:4; stroke-opacity:1; fill:none\" points=\"193.936,1445.73 212.834,1445.73 \"/>\n",
       "<polyline clip-path=\"url(#clip190)\" style=\"stroke:#000000; stroke-linecap:round; stroke-linejoin:round; stroke-width:4; stroke-opacity:1; fill:none\" points=\"193.936,1106.29 212.834,1106.29 \"/>\n",
       "<polyline clip-path=\"url(#clip190)\" style=\"stroke:#000000; stroke-linecap:round; stroke-linejoin:round; stroke-width:4; stroke-opacity:1; fill:none\" points=\"193.936,766.846 212.834,766.846 \"/>\n",
       "<polyline clip-path=\"url(#clip190)\" style=\"stroke:#000000; stroke-linecap:round; stroke-linejoin:round; stroke-width:4; stroke-opacity:1; fill:none\" points=\"193.936,427.406 212.834,427.406 \"/>\n",
       "<polyline clip-path=\"url(#clip190)\" style=\"stroke:#000000; stroke-linecap:round; stroke-linejoin:round; stroke-width:4; stroke-opacity:1; fill:none\" points=\"193.936,87.9661 212.834,87.9661 \"/>\n",
       "<path clip-path=\"url(#clip190)\" d=\"M50.9921 1446.18 L80.6679 1446.18 L80.6679 1450.11 L50.9921 1450.11 L50.9921 1446.18 Z\" fill=\"#000000\" fill-rule=\"nonzero\" fill-opacity=\"1\" /><path clip-path=\"url(#clip190)\" d=\"M91.5706 1459.07 L99.2095 1459.07 L99.2095 1432.7 L90.8993 1434.37 L90.8993 1430.11 L99.1632 1428.45 L103.839 1428.45 L103.839 1459.07 L111.478 1459.07 L111.478 1463.01 L91.5706 1463.01 L91.5706 1459.07 Z\" fill=\"#000000\" fill-rule=\"nonzero\" fill-opacity=\"1\" /><path clip-path=\"url(#clip190)\" d=\"M120.922 1457.13 L125.807 1457.13 L125.807 1463.01 L120.922 1463.01 L120.922 1457.13 Z\" fill=\"#000000\" fill-rule=\"nonzero\" fill-opacity=\"1\" /><path clip-path=\"url(#clip190)\" d=\"M145.992 1431.52 Q142.381 1431.52 140.552 1435.09 Q138.746 1438.63 138.746 1445.76 Q138.746 1452.87 140.552 1456.43 Q142.381 1459.97 145.992 1459.97 Q149.626 1459.97 151.431 1456.43 Q153.26 1452.87 153.26 1445.76 Q153.26 1438.63 151.431 1435.09 Q149.626 1431.52 145.992 1431.52 M145.992 1427.82 Q151.802 1427.82 154.857 1432.43 Q157.936 1437.01 157.936 1445.76 Q157.936 1454.49 154.857 1459.09 Q151.802 1463.68 145.992 1463.68 Q140.181 1463.68 137.103 1459.09 Q134.047 1454.49 134.047 1445.76 Q134.047 1437.01 137.103 1432.43 Q140.181 1427.82 145.992 1427.82 Z\" fill=\"#000000\" fill-rule=\"nonzero\" fill-opacity=\"1\" /><path clip-path=\"url(#clip190)\" d=\"M51.9875 1106.74 L81.6633 1106.74 L81.6633 1110.67 L51.9875 1110.67 L51.9875 1106.74 Z\" fill=\"#000000\" fill-rule=\"nonzero\" fill-opacity=\"1\" /><path clip-path=\"url(#clip190)\" d=\"M101.756 1092.08 Q98.1447 1092.08 96.316 1095.65 Q94.5104 1099.19 94.5104 1106.32 Q94.5104 1113.43 96.316 1116.99 Q98.1447 1120.53 101.756 1120.53 Q105.39 1120.53 107.196 1116.99 Q109.024 1113.43 109.024 1106.32 Q109.024 1099.19 107.196 1095.65 Q105.39 1092.08 101.756 1092.08 M101.756 1088.38 Q107.566 1088.38 110.621 1092.99 Q113.7 1097.57 113.7 1106.32 Q113.7 1115.05 110.621 1119.65 Q107.566 1124.24 101.756 1124.24 Q95.9456 1124.24 92.8669 1119.65 Q89.8114 1115.05 89.8114 1106.32 Q89.8114 1097.57 92.8669 1092.99 Q95.9456 1088.38 101.756 1088.38 Z\" fill=\"#000000\" fill-rule=\"nonzero\" fill-opacity=\"1\" /><path clip-path=\"url(#clip190)\" d=\"M121.918 1117.69 L126.802 1117.69 L126.802 1123.57 L121.918 1123.57 L121.918 1117.69 Z\" fill=\"#000000\" fill-rule=\"nonzero\" fill-opacity=\"1\" /><path clip-path=\"url(#clip190)\" d=\"M137.033 1089.01 L155.39 1089.01 L155.39 1092.94 L141.316 1092.94 L141.316 1101.41 Q142.334 1101.07 143.353 1100.9 Q144.371 1100.72 145.39 1100.72 Q151.177 1100.72 154.556 1103.89 Q157.936 1107.06 157.936 1112.48 Q157.936 1118.06 154.464 1121.16 Q150.992 1124.24 144.672 1124.24 Q142.496 1124.24 140.228 1123.87 Q137.982 1123.5 135.575 1122.76 L135.575 1118.06 Q137.658 1119.19 139.881 1119.75 Q142.103 1120.3 144.58 1120.3 Q148.584 1120.3 150.922 1118.2 Q153.26 1116.09 153.26 1112.48 Q153.26 1108.87 150.922 1106.76 Q148.584 1104.65 144.58 1104.65 Q142.705 1104.65 140.83 1105.07 Q138.978 1105.49 137.033 1106.37 L137.033 1089.01 Z\" fill=\"#000000\" fill-rule=\"nonzero\" fill-opacity=\"1\" /><path clip-path=\"url(#clip190)\" d=\"M100.76 752.644 Q97.1493 752.644 95.3206 756.209 Q93.515 759.751 93.515 766.881 Q93.515 773.987 95.3206 777.552 Q97.1493 781.093 100.76 781.093 Q104.395 781.093 106.2 777.552 Q108.029 773.987 108.029 766.881 Q108.029 759.751 106.2 756.209 Q104.395 752.644 100.76 752.644 M100.76 748.941 Q106.571 748.941 109.626 753.547 Q112.705 758.131 112.705 766.881 Q112.705 775.607 109.626 780.214 Q106.571 784.797 100.76 784.797 Q94.9502 784.797 91.8715 780.214 Q88.816 775.607 88.816 766.881 Q88.816 758.131 91.8715 753.547 Q94.9502 748.941 100.76 748.941 Z\" fill=\"#000000\" fill-rule=\"nonzero\" fill-opacity=\"1\" /><path clip-path=\"url(#clip190)\" d=\"M120.922 778.246 L125.807 778.246 L125.807 784.126 L120.922 784.126 L120.922 778.246 Z\" fill=\"#000000\" fill-rule=\"nonzero\" fill-opacity=\"1\" /><path clip-path=\"url(#clip190)\" d=\"M145.992 752.644 Q142.381 752.644 140.552 756.209 Q138.746 759.751 138.746 766.881 Q138.746 773.987 140.552 777.552 Q142.381 781.093 145.992 781.093 Q149.626 781.093 151.431 777.552 Q153.26 773.987 153.26 766.881 Q153.26 759.751 151.431 756.209 Q149.626 752.644 145.992 752.644 M145.992 748.941 Q151.802 748.941 154.857 753.547 Q157.936 758.131 157.936 766.881 Q157.936 775.607 154.857 780.214 Q151.802 784.797 145.992 784.797 Q140.181 784.797 137.103 780.214 Q134.047 775.607 134.047 766.881 Q134.047 758.131 137.103 753.547 Q140.181 748.941 145.992 748.941 Z\" fill=\"#000000\" fill-rule=\"nonzero\" fill-opacity=\"1\" /><path clip-path=\"url(#clip190)\" d=\"M101.756 413.205 Q98.1447 413.205 96.316 416.769 Q94.5104 420.311 94.5104 427.441 Q94.5104 434.547 96.316 438.112 Q98.1447 441.654 101.756 441.654 Q105.39 441.654 107.196 438.112 Q109.024 434.547 109.024 427.441 Q109.024 420.311 107.196 416.769 Q105.39 413.205 101.756 413.205 M101.756 409.501 Q107.566 409.501 110.621 414.107 Q113.7 418.691 113.7 427.441 Q113.7 436.167 110.621 440.774 Q107.566 445.357 101.756 445.357 Q95.9456 445.357 92.8669 440.774 Q89.8114 436.167 89.8114 427.441 Q89.8114 418.691 92.8669 414.107 Q95.9456 409.501 101.756 409.501 Z\" fill=\"#000000\" fill-rule=\"nonzero\" fill-opacity=\"1\" /><path clip-path=\"url(#clip190)\" d=\"M121.918 438.806 L126.802 438.806 L126.802 444.686 L121.918 444.686 L121.918 438.806 Z\" fill=\"#000000\" fill-rule=\"nonzero\" fill-opacity=\"1\" /><path clip-path=\"url(#clip190)\" d=\"M137.033 410.126 L155.39 410.126 L155.39 414.061 L141.316 414.061 L141.316 422.533 Q142.334 422.186 143.353 422.024 Q144.371 421.839 145.39 421.839 Q151.177 421.839 154.556 425.01 Q157.936 428.181 157.936 433.598 Q157.936 439.177 154.464 442.279 Q150.992 445.357 144.672 445.357 Q142.496 445.357 140.228 444.987 Q137.982 444.616 135.575 443.876 L135.575 439.177 Q137.658 440.311 139.881 440.866 Q142.103 441.422 144.58 441.422 Q148.584 441.422 150.922 439.316 Q153.26 437.209 153.26 433.598 Q153.26 429.987 150.922 427.88 Q148.584 425.774 144.58 425.774 Q142.705 425.774 140.83 426.191 Q138.978 426.607 137.033 427.487 L137.033 410.126 Z\" fill=\"#000000\" fill-rule=\"nonzero\" fill-opacity=\"1\" /><path clip-path=\"url(#clip190)\" d=\"M91.5706 101.311 L99.2095 101.311 L99.2095 74.9453 L90.8993 76.6119 L90.8993 72.3527 L99.1632 70.6861 L103.839 70.6861 L103.839 101.311 L111.478 101.311 L111.478 105.246 L91.5706 105.246 L91.5706 101.311 Z\" fill=\"#000000\" fill-rule=\"nonzero\" fill-opacity=\"1\" /><path clip-path=\"url(#clip190)\" d=\"M120.922 99.3665 L125.807 99.3665 L125.807 105.246 L120.922 105.246 L120.922 99.3665 Z\" fill=\"#000000\" fill-rule=\"nonzero\" fill-opacity=\"1\" /><path clip-path=\"url(#clip190)\" d=\"M145.992 73.7647 Q142.381 73.7647 140.552 77.3295 Q138.746 80.8712 138.746 88.0008 Q138.746 95.1072 140.552 98.672 Q142.381 102.214 145.992 102.214 Q149.626 102.214 151.431 98.672 Q153.26 95.1072 153.26 88.0008 Q153.26 80.8712 151.431 77.3295 Q149.626 73.7647 145.992 73.7647 M145.992 70.0611 Q151.802 70.0611 154.857 74.6675 Q157.936 79.2508 157.936 88.0008 Q157.936 96.7276 154.857 101.334 Q151.802 105.917 145.992 105.917 Q140.181 105.917 137.103 101.334 Q134.047 96.7276 134.047 88.0008 Q134.047 79.2508 137.103 74.6675 Q140.181 70.0611 145.992 70.0611 Z\" fill=\"#000000\" fill-rule=\"nonzero\" fill-opacity=\"1\" /><circle clip-path=\"url(#clip192)\" cx=\"255.035\" cy=\"766.846\" r=\"14.4\" fill=\"#009af9\" fill-rule=\"evenodd\" fill-opacity=\"1\" stroke=\"#000000\" stroke-opacity=\"1\" stroke-width=\"3.2\"/>\n",
       "<circle clip-path=\"url(#clip192)\" cx=\"266.182\" cy=\"720.19\" r=\"14.4\" fill=\"#009af9\" fill-rule=\"evenodd\" fill-opacity=\"1\" stroke=\"#000000\" stroke-opacity=\"1\" stroke-width=\"3.2\"/>\n",
       "<circle clip-path=\"url(#clip192)\" cx=\"276.351\" cy=\"677.813\" r=\"14.4\" fill=\"#009af9\" fill-rule=\"evenodd\" fill-opacity=\"1\" stroke=\"#000000\" stroke-opacity=\"1\" stroke-width=\"3.2\"/>\n",
       "<circle clip-path=\"url(#clip192)\" cx=\"295.802\" cy=\"597.875\" r=\"14.4\" fill=\"#009af9\" fill-rule=\"evenodd\" fill-opacity=\"1\" stroke=\"#000000\" stroke-opacity=\"1\" stroke-width=\"3.2\"/>\n",
       "<circle clip-path=\"url(#clip192)\" cx=\"307.354\" cy=\"551.477\" r=\"14.4\" fill=\"#009af9\" fill-rule=\"evenodd\" fill-opacity=\"1\" stroke=\"#000000\" stroke-opacity=\"1\" stroke-width=\"3.2\"/>\n",
       "<circle clip-path=\"url(#clip192)\" cx=\"319.991\" cy=\"501.983\" r=\"14.4\" fill=\"#009af9\" fill-rule=\"evenodd\" fill-opacity=\"1\" stroke=\"#000000\" stroke-opacity=\"1\" stroke-width=\"3.2\"/>\n",
       "<circle clip-path=\"url(#clip192)\" cx=\"320.29\" cy=\"500.827\" r=\"14.4\" fill=\"#009af9\" fill-rule=\"evenodd\" fill-opacity=\"1\" stroke=\"#000000\" stroke-opacity=\"1\" stroke-width=\"3.2\"/>\n",
       "<circle clip-path=\"url(#clip192)\" cx=\"333.183\" cy=\"452.036\" r=\"14.4\" fill=\"#009af9\" fill-rule=\"evenodd\" fill-opacity=\"1\" stroke=\"#000000\" stroke-opacity=\"1\" stroke-width=\"3.2\"/>\n",
       "<circle clip-path=\"url(#clip192)\" cx=\"341.45\" cy=\"421.776\" r=\"14.4\" fill=\"#009af9\" fill-rule=\"evenodd\" fill-opacity=\"1\" stroke=\"#000000\" stroke-opacity=\"1\" stroke-width=\"3.2\"/>\n",
       "<circle clip-path=\"url(#clip192)\" cx=\"436.352\" cy=\"156.151\" r=\"14.4\" fill=\"#009af9\" fill-rule=\"evenodd\" fill-opacity=\"1\" stroke=\"#000000\" stroke-opacity=\"1\" stroke-width=\"3.2\"/>\n",
       "<circle clip-path=\"url(#clip192)\" cx=\"439.414\" cy=\"150.659\" r=\"14.4\" fill=\"#009af9\" fill-rule=\"evenodd\" fill-opacity=\"1\" stroke=\"#000000\" stroke-opacity=\"1\" stroke-width=\"3.2\"/>\n",
       "<circle clip-path=\"url(#clip192)\" cx=\"445.668\" cy=\"140.124\" r=\"14.4\" fill=\"#009af9\" fill-rule=\"evenodd\" fill-opacity=\"1\" stroke=\"#000000\" stroke-opacity=\"1\" stroke-width=\"3.2\"/>\n",
       "<circle clip-path=\"url(#clip192)\" cx=\"481.514\" cy=\"98.1437\" r=\"14.4\" fill=\"#009af9\" fill-rule=\"evenodd\" fill-opacity=\"1\" stroke=\"#000000\" stroke-opacity=\"1\" stroke-width=\"3.2\"/>\n",
       "<circle clip-path=\"url(#clip192)\" cx=\"507.546\" cy=\"88.0217\" r=\"14.4\" fill=\"#009af9\" fill-rule=\"evenodd\" fill-opacity=\"1\" stroke=\"#000000\" stroke-opacity=\"1\" stroke-width=\"3.2\"/>\n",
       "<circle clip-path=\"url(#clip192)\" cx=\"512.004\" cy=\"88.0404\" r=\"14.4\" fill=\"#009af9\" fill-rule=\"evenodd\" fill-opacity=\"1\" stroke=\"#000000\" stroke-opacity=\"1\" stroke-width=\"3.2\"/>\n",
       "<circle clip-path=\"url(#clip192)\" cx=\"540.253\" cy=\"100.063\" r=\"14.4\" fill=\"#009af9\" fill-rule=\"evenodd\" fill-opacity=\"1\" stroke=\"#000000\" stroke-opacity=\"1\" stroke-width=\"3.2\"/>\n",
       "<circle clip-path=\"url(#clip192)\" cx=\"563.046\" cy=\"124.53\" r=\"14.4\" fill=\"#009af9\" fill-rule=\"evenodd\" fill-opacity=\"1\" stroke=\"#000000\" stroke-opacity=\"1\" stroke-width=\"3.2\"/>\n",
       "<circle clip-path=\"url(#clip192)\" cx=\"571.234\" cy=\"136.45\" r=\"14.4\" fill=\"#009af9\" fill-rule=\"evenodd\" fill-opacity=\"1\" stroke=\"#000000\" stroke-opacity=\"1\" stroke-width=\"3.2\"/>\n",
       "<circle clip-path=\"url(#clip192)\" cx=\"576.831\" cy=\"145.525\" r=\"14.4\" fill=\"#009af9\" fill-rule=\"evenodd\" fill-opacity=\"1\" stroke=\"#000000\" stroke-opacity=\"1\" stroke-width=\"3.2\"/>\n",
       "<circle clip-path=\"url(#clip192)\" cx=\"638.55\" cy=\"291.715\" r=\"14.4\" fill=\"#009af9\" fill-rule=\"evenodd\" fill-opacity=\"1\" stroke=\"#000000\" stroke-opacity=\"1\" stroke-width=\"3.2\"/>\n",
       "<circle clip-path=\"url(#clip192)\" cx=\"641.501\" cy=\"300.621\" r=\"14.4\" fill=\"#009af9\" fill-rule=\"evenodd\" fill-opacity=\"1\" stroke=\"#000000\" stroke-opacity=\"1\" stroke-width=\"3.2\"/>\n",
       "<circle clip-path=\"url(#clip192)\" cx=\"644.837\" cy=\"310.878\" r=\"14.4\" fill=\"#009af9\" fill-rule=\"evenodd\" fill-opacity=\"1\" stroke=\"#000000\" stroke-opacity=\"1\" stroke-width=\"3.2\"/>\n",
       "<circle clip-path=\"url(#clip192)\" cx=\"676.995\" cy=\"418.969\" r=\"14.4\" fill=\"#009af9\" fill-rule=\"evenodd\" fill-opacity=\"1\" stroke=\"#000000\" stroke-opacity=\"1\" stroke-width=\"3.2\"/>\n",
       "<circle clip-path=\"url(#clip192)\" cx=\"682.796\" cy=\"440.052\" r=\"14.4\" fill=\"#009af9\" fill-rule=\"evenodd\" fill-opacity=\"1\" stroke=\"#000000\" stroke-opacity=\"1\" stroke-width=\"3.2\"/>\n",
       "<circle clip-path=\"url(#clip192)\" cx=\"717.19\" cy=\"572.717\" r=\"14.4\" fill=\"#009af9\" fill-rule=\"evenodd\" fill-opacity=\"1\" stroke=\"#000000\" stroke-opacity=\"1\" stroke-width=\"3.2\"/>\n",
       "<circle clip-path=\"url(#clip192)\" cx=\"721.097\" cy=\"588.455\" r=\"14.4\" fill=\"#009af9\" fill-rule=\"evenodd\" fill-opacity=\"1\" stroke=\"#000000\" stroke-opacity=\"1\" stroke-width=\"3.2\"/>\n",
       "<circle clip-path=\"url(#clip192)\" cx=\"751.821\" cy=\"715.083\" r=\"14.4\" fill=\"#009af9\" fill-rule=\"evenodd\" fill-opacity=\"1\" stroke=\"#000000\" stroke-opacity=\"1\" stroke-width=\"3.2\"/>\n",
       "<circle clip-path=\"url(#clip192)\" cx=\"785.91\" cy=\"857.555\" r=\"14.4\" fill=\"#009af9\" fill-rule=\"evenodd\" fill-opacity=\"1\" stroke=\"#000000\" stroke-opacity=\"1\" stroke-width=\"3.2\"/>\n",
       "<circle clip-path=\"url(#clip192)\" cx=\"806.64\" cy=\"942.636\" r=\"14.4\" fill=\"#009af9\" fill-rule=\"evenodd\" fill-opacity=\"1\" stroke=\"#000000\" stroke-opacity=\"1\" stroke-width=\"3.2\"/>\n",
       "<circle clip-path=\"url(#clip192)\" cx=\"812.201\" cy=\"965.026\" r=\"14.4\" fill=\"#009af9\" fill-rule=\"evenodd\" fill-opacity=\"1\" stroke=\"#000000\" stroke-opacity=\"1\" stroke-width=\"3.2\"/>\n",
       "<circle clip-path=\"url(#clip192)\" cx=\"826.441\" cy=\"1021.24\" r=\"14.4\" fill=\"#009af9\" fill-rule=\"evenodd\" fill-opacity=\"1\" stroke=\"#000000\" stroke-opacity=\"1\" stroke-width=\"3.2\"/>\n",
       "<circle clip-path=\"url(#clip192)\" cx=\"827.029\" cy=\"1023.52\" r=\"14.4\" fill=\"#009af9\" fill-rule=\"evenodd\" fill-opacity=\"1\" stroke=\"#000000\" stroke-opacity=\"1\" stroke-width=\"3.2\"/>\n",
       "<circle clip-path=\"url(#clip192)\" cx=\"828.567\" cy=\"1029.48\" r=\"14.4\" fill=\"#009af9\" fill-rule=\"evenodd\" fill-opacity=\"1\" stroke=\"#000000\" stroke-opacity=\"1\" stroke-width=\"3.2\"/>\n",
       "<circle clip-path=\"url(#clip192)\" cx=\"839.154\" cy=\"1069.78\" r=\"14.4\" fill=\"#009af9\" fill-rule=\"evenodd\" fill-opacity=\"1\" stroke=\"#000000\" stroke-opacity=\"1\" stroke-width=\"3.2\"/>\n",
       "<circle clip-path=\"url(#clip192)\" cx=\"839.215\" cy=\"1070.01\" r=\"14.4\" fill=\"#009af9\" fill-rule=\"evenodd\" fill-opacity=\"1\" stroke=\"#000000\" stroke-opacity=\"1\" stroke-width=\"3.2\"/>\n",
       "<circle clip-path=\"url(#clip192)\" cx=\"854.168\" cy=\"1124.68\" r=\"14.4\" fill=\"#009af9\" fill-rule=\"evenodd\" fill-opacity=\"1\" stroke=\"#000000\" stroke-opacity=\"1\" stroke-width=\"3.2\"/>\n",
       "<circle clip-path=\"url(#clip192)\" cx=\"855.158\" cy=\"1128.2\" r=\"14.4\" fill=\"#009af9\" fill-rule=\"evenodd\" fill-opacity=\"1\" stroke=\"#000000\" stroke-opacity=\"1\" stroke-width=\"3.2\"/>\n",
       "<circle clip-path=\"url(#clip192)\" cx=\"903.653\" cy=\"1281.56\" r=\"14.4\" fill=\"#009af9\" fill-rule=\"evenodd\" fill-opacity=\"1\" stroke=\"#000000\" stroke-opacity=\"1\" stroke-width=\"3.2\"/>\n",
       "<circle clip-path=\"url(#clip192)\" cx=\"917\" cy=\"1316.23\" r=\"14.4\" fill=\"#009af9\" fill-rule=\"evenodd\" fill-opacity=\"1\" stroke=\"#000000\" stroke-opacity=\"1\" stroke-width=\"3.2\"/>\n",
       "<circle clip-path=\"url(#clip192)\" cx=\"973.734\" cy=\"1419.69\" r=\"14.4\" fill=\"#009af9\" fill-rule=\"evenodd\" fill-opacity=\"1\" stroke=\"#000000\" stroke-opacity=\"1\" stroke-width=\"3.2\"/>\n",
       "<circle clip-path=\"url(#clip192)\" cx=\"1014.05\" cy=\"1445.44\" r=\"14.4\" fill=\"#009af9\" fill-rule=\"evenodd\" fill-opacity=\"1\" stroke=\"#000000\" stroke-opacity=\"1\" stroke-width=\"3.2\"/>\n",
       "<circle clip-path=\"url(#clip192)\" cx=\"1028.1\" cy=\"1444.6\" r=\"14.4\" fill=\"#009af9\" fill-rule=\"evenodd\" fill-opacity=\"1\" stroke=\"#000000\" stroke-opacity=\"1\" stroke-width=\"3.2\"/>\n",
       "<circle clip-path=\"url(#clip192)\" cx=\"1038.85\" cy=\"1440.52\" r=\"14.4\" fill=\"#009af9\" fill-rule=\"evenodd\" fill-opacity=\"1\" stroke=\"#000000\" stroke-opacity=\"1\" stroke-width=\"3.2\"/>\n",
       "<circle clip-path=\"url(#clip192)\" cx=\"1046.68\" cy=\"1435.69\" r=\"14.4\" fill=\"#009af9\" fill-rule=\"evenodd\" fill-opacity=\"1\" stroke=\"#000000\" stroke-opacity=\"1\" stroke-width=\"3.2\"/>\n",
       "<circle clip-path=\"url(#clip192)\" cx=\"1064.42\" cy=\"1418.97\" r=\"14.4\" fill=\"#009af9\" fill-rule=\"evenodd\" fill-opacity=\"1\" stroke=\"#000000\" stroke-opacity=\"1\" stroke-width=\"3.2\"/>\n",
       "<circle clip-path=\"url(#clip192)\" cx=\"1087.92\" cy=\"1384.86\" r=\"14.4\" fill=\"#009af9\" fill-rule=\"evenodd\" fill-opacity=\"1\" stroke=\"#000000\" stroke-opacity=\"1\" stroke-width=\"3.2\"/>\n",
       "<circle clip-path=\"url(#clip192)\" cx=\"1122.12\" cy=\"1312.31\" r=\"14.4\" fill=\"#009af9\" fill-rule=\"evenodd\" fill-opacity=\"1\" stroke=\"#000000\" stroke-opacity=\"1\" stroke-width=\"3.2\"/>\n",
       "<circle clip-path=\"url(#clip192)\" cx=\"1138.7\" cy=\"1268.17\" r=\"14.4\" fill=\"#009af9\" fill-rule=\"evenodd\" fill-opacity=\"1\" stroke=\"#000000\" stroke-opacity=\"1\" stroke-width=\"3.2\"/>\n",
       "<circle clip-path=\"url(#clip192)\" cx=\"1150.35\" cy=\"1234\" r=\"14.4\" fill=\"#009af9\" fill-rule=\"evenodd\" fill-opacity=\"1\" stroke=\"#000000\" stroke-opacity=\"1\" stroke-width=\"3.2\"/>\n",
       "<circle clip-path=\"url(#clip192)\" cx=\"1163.94\" cy=\"1191.11\" r=\"14.4\" fill=\"#009af9\" fill-rule=\"evenodd\" fill-opacity=\"1\" stroke=\"#000000\" stroke-opacity=\"1\" stroke-width=\"3.2\"/>\n",
       "<circle clip-path=\"url(#clip192)\" cx=\"1169.73\" cy=\"1171.91\" r=\"14.4\" fill=\"#009af9\" fill-rule=\"evenodd\" fill-opacity=\"1\" stroke=\"#000000\" stroke-opacity=\"1\" stroke-width=\"3.2\"/>\n",
       "<circle clip-path=\"url(#clip192)\" cx=\"1174.78\" cy=\"1154.75\" r=\"14.4\" fill=\"#009af9\" fill-rule=\"evenodd\" fill-opacity=\"1\" stroke=\"#000000\" stroke-opacity=\"1\" stroke-width=\"3.2\"/>\n",
       "<circle clip-path=\"url(#clip192)\" cx=\"1180.48\" cy=\"1134.91\" r=\"14.4\" fill=\"#009af9\" fill-rule=\"evenodd\" fill-opacity=\"1\" stroke=\"#000000\" stroke-opacity=\"1\" stroke-width=\"3.2\"/>\n",
       "<circle clip-path=\"url(#clip192)\" cx=\"1196.01\" cy=\"1078.66\" r=\"14.4\" fill=\"#009af9\" fill-rule=\"evenodd\" fill-opacity=\"1\" stroke=\"#000000\" stroke-opacity=\"1\" stroke-width=\"3.2\"/>\n",
       "<circle clip-path=\"url(#clip192)\" cx=\"1233.55\" cy=\"931.884\" r=\"14.4\" fill=\"#009af9\" fill-rule=\"evenodd\" fill-opacity=\"1\" stroke=\"#000000\" stroke-opacity=\"1\" stroke-width=\"3.2\"/>\n",
       "<circle clip-path=\"url(#clip192)\" cx=\"1248.5\" cy=\"870.523\" r=\"14.4\" fill=\"#009af9\" fill-rule=\"evenodd\" fill-opacity=\"1\" stroke=\"#000000\" stroke-opacity=\"1\" stroke-width=\"3.2\"/>\n",
       "<circle clip-path=\"url(#clip192)\" cx=\"1265.08\" cy=\"801.462\" r=\"14.4\" fill=\"#009af9\" fill-rule=\"evenodd\" fill-opacity=\"1\" stroke=\"#000000\" stroke-opacity=\"1\" stroke-width=\"3.2\"/>\n",
       "<circle clip-path=\"url(#clip192)\" cx=\"1286.79\" cy=\"710.614\" r=\"14.4\" fill=\"#009af9\" fill-rule=\"evenodd\" fill-opacity=\"1\" stroke=\"#000000\" stroke-opacity=\"1\" stroke-width=\"3.2\"/>\n",
       "<circle clip-path=\"url(#clip192)\" cx=\"1292.18\" cy=\"688.153\" r=\"14.4\" fill=\"#009af9\" fill-rule=\"evenodd\" fill-opacity=\"1\" stroke=\"#000000\" stroke-opacity=\"1\" stroke-width=\"3.2\"/>\n",
       "<circle clip-path=\"url(#clip192)\" cx=\"1300.6\" cy=\"653.226\" r=\"14.4\" fill=\"#009af9\" fill-rule=\"evenodd\" fill-opacity=\"1\" stroke=\"#000000\" stroke-opacity=\"1\" stroke-width=\"3.2\"/>\n",
       "<circle clip-path=\"url(#clip192)\" cx=\"1315.63\" cy=\"591.717\" r=\"14.4\" fill=\"#009af9\" fill-rule=\"evenodd\" fill-opacity=\"1\" stroke=\"#000000\" stroke-opacity=\"1\" stroke-width=\"3.2\"/>\n",
       "<circle clip-path=\"url(#clip192)\" cx=\"1322.04\" cy=\"565.936\" r=\"14.4\" fill=\"#009af9\" fill-rule=\"evenodd\" fill-opacity=\"1\" stroke=\"#000000\" stroke-opacity=\"1\" stroke-width=\"3.2\"/>\n",
       "<circle clip-path=\"url(#clip192)\" cx=\"1325.79\" cy=\"550.978\" r=\"14.4\" fill=\"#009af9\" fill-rule=\"evenodd\" fill-opacity=\"1\" stroke=\"#000000\" stroke-opacity=\"1\" stroke-width=\"3.2\"/>\n",
       "<circle clip-path=\"url(#clip192)\" cx=\"1330.48\" cy=\"532.443\" r=\"14.4\" fill=\"#009af9\" fill-rule=\"evenodd\" fill-opacity=\"1\" stroke=\"#000000\" stroke-opacity=\"1\" stroke-width=\"3.2\"/>\n",
       "<circle clip-path=\"url(#clip192)\" cx=\"1331.61\" cy=\"527.997\" r=\"14.4\" fill=\"#009af9\" fill-rule=\"evenodd\" fill-opacity=\"1\" stroke=\"#000000\" stroke-opacity=\"1\" stroke-width=\"3.2\"/>\n",
       "<circle clip-path=\"url(#clip192)\" cx=\"1380.44\" cy=\"350.193\" r=\"14.4\" fill=\"#009af9\" fill-rule=\"evenodd\" fill-opacity=\"1\" stroke=\"#000000\" stroke-opacity=\"1\" stroke-width=\"3.2\"/>\n",
       "<circle clip-path=\"url(#clip192)\" cx=\"1391.65\" cy=\"314.131\" r=\"14.4\" fill=\"#009af9\" fill-rule=\"evenodd\" fill-opacity=\"1\" stroke=\"#000000\" stroke-opacity=\"1\" stroke-width=\"3.2\"/>\n",
       "<circle clip-path=\"url(#clip192)\" cx=\"1502.25\" cy=\"96.4695\" r=\"14.4\" fill=\"#009af9\" fill-rule=\"evenodd\" fill-opacity=\"1\" stroke=\"#000000\" stroke-opacity=\"1\" stroke-width=\"3.2\"/>\n",
       "<circle clip-path=\"url(#clip192)\" cx=\"1506.95\" cy=\"93.6469\" r=\"14.4\" fill=\"#009af9\" fill-rule=\"evenodd\" fill-opacity=\"1\" stroke=\"#000000\" stroke-opacity=\"1\" stroke-width=\"3.2\"/>\n",
       "<circle clip-path=\"url(#clip192)\" cx=\"1509.33\" cy=\"92.4324\" r=\"14.4\" fill=\"#009af9\" fill-rule=\"evenodd\" fill-opacity=\"1\" stroke=\"#000000\" stroke-opacity=\"1\" stroke-width=\"3.2\"/>\n",
       "<circle clip-path=\"url(#clip192)\" cx=\"1525.98\" cy=\"88.0171\" r=\"14.4\" fill=\"#009af9\" fill-rule=\"evenodd\" fill-opacity=\"1\" stroke=\"#000000\" stroke-opacity=\"1\" stroke-width=\"3.2\"/>\n",
       "<circle clip-path=\"url(#clip192)\" cx=\"1528.71\" cy=\"87.9763\" r=\"14.4\" fill=\"#009af9\" fill-rule=\"evenodd\" fill-opacity=\"1\" stroke=\"#000000\" stroke-opacity=\"1\" stroke-width=\"3.2\"/>\n",
       "<circle clip-path=\"url(#clip192)\" cx=\"1534.66\" cy=\"88.5543\" r=\"14.4\" fill=\"#009af9\" fill-rule=\"evenodd\" fill-opacity=\"1\" stroke=\"#000000\" stroke-opacity=\"1\" stroke-width=\"3.2\"/>\n",
       "<circle clip-path=\"url(#clip192)\" cx=\"1561.53\" cy=\"102.508\" r=\"14.4\" fill=\"#009af9\" fill-rule=\"evenodd\" fill-opacity=\"1\" stroke=\"#000000\" stroke-opacity=\"1\" stroke-width=\"3.2\"/>\n",
       "<circle clip-path=\"url(#clip192)\" cx=\"1570.27\" cy=\"111.015\" r=\"14.4\" fill=\"#009af9\" fill-rule=\"evenodd\" fill-opacity=\"1\" stroke=\"#000000\" stroke-opacity=\"1\" stroke-width=\"3.2\"/>\n",
       "<circle clip-path=\"url(#clip192)\" cx=\"1574.41\" cy=\"115.703\" r=\"14.4\" fill=\"#009af9\" fill-rule=\"evenodd\" fill-opacity=\"1\" stroke=\"#000000\" stroke-opacity=\"1\" stroke-width=\"3.2\"/>\n",
       "<circle clip-path=\"url(#clip192)\" cx=\"1585.14\" cy=\"129.833\" r=\"14.4\" fill=\"#009af9\" fill-rule=\"evenodd\" fill-opacity=\"1\" stroke=\"#000000\" stroke-opacity=\"1\" stroke-width=\"3.2\"/>\n",
       "<circle clip-path=\"url(#clip192)\" cx=\"1585.95\" cy=\"131.025\" r=\"14.4\" fill=\"#009af9\" fill-rule=\"evenodd\" fill-opacity=\"1\" stroke=\"#000000\" stroke-opacity=\"1\" stroke-width=\"3.2\"/>\n",
       "<circle clip-path=\"url(#clip192)\" cx=\"1648.69\" cy=\"267.881\" r=\"14.4\" fill=\"#009af9\" fill-rule=\"evenodd\" fill-opacity=\"1\" stroke=\"#000000\" stroke-opacity=\"1\" stroke-width=\"3.2\"/>\n",
       "<circle clip-path=\"url(#clip192)\" cx=\"1655.36\" cy=\"287.253\" r=\"14.4\" fill=\"#009af9\" fill-rule=\"evenodd\" fill-opacity=\"1\" stroke=\"#000000\" stroke-opacity=\"1\" stroke-width=\"3.2\"/>\n",
       "<circle clip-path=\"url(#clip192)\" cx=\"1681.1\" cy=\"369.268\" r=\"14.4\" fill=\"#009af9\" fill-rule=\"evenodd\" fill-opacity=\"1\" stroke=\"#000000\" stroke-opacity=\"1\" stroke-width=\"3.2\"/>\n",
       "<circle clip-path=\"url(#clip192)\" cx=\"1683.98\" cy=\"379.102\" r=\"14.4\" fill=\"#009af9\" fill-rule=\"evenodd\" fill-opacity=\"1\" stroke=\"#000000\" stroke-opacity=\"1\" stroke-width=\"3.2\"/>\n",
       "<circle clip-path=\"url(#clip192)\" cx=\"1691.1\" cy=\"403.958\" r=\"14.4\" fill=\"#009af9\" fill-rule=\"evenodd\" fill-opacity=\"1\" stroke=\"#000000\" stroke-opacity=\"1\" stroke-width=\"3.2\"/>\n",
       "<circle clip-path=\"url(#clip192)\" cx=\"1731.18\" cy=\"555.436\" r=\"14.4\" fill=\"#009af9\" fill-rule=\"evenodd\" fill-opacity=\"1\" stroke=\"#000000\" stroke-opacity=\"1\" stroke-width=\"3.2\"/>\n",
       "<circle clip-path=\"url(#clip192)\" cx=\"1743.69\" cy=\"605.803\" r=\"14.4\" fill=\"#009af9\" fill-rule=\"evenodd\" fill-opacity=\"1\" stroke=\"#000000\" stroke-opacity=\"1\" stroke-width=\"3.2\"/>\n",
       "<circle clip-path=\"url(#clip192)\" cx=\"1781.68\" cy=\"763.392\" r=\"14.4\" fill=\"#009af9\" fill-rule=\"evenodd\" fill-opacity=\"1\" stroke=\"#000000\" stroke-opacity=\"1\" stroke-width=\"3.2\"/>\n",
       "<circle clip-path=\"url(#clip192)\" cx=\"1847.68\" cy=\"1032.58\" r=\"14.4\" fill=\"#009af9\" fill-rule=\"evenodd\" fill-opacity=\"1\" stroke=\"#000000\" stroke-opacity=\"1\" stroke-width=\"3.2\"/>\n",
       "<circle clip-path=\"url(#clip192)\" cx=\"1854.41\" cy=\"1058.26\" r=\"14.4\" fill=\"#009af9\" fill-rule=\"evenodd\" fill-opacity=\"1\" stroke=\"#000000\" stroke-opacity=\"1\" stroke-width=\"3.2\"/>\n",
       "<circle clip-path=\"url(#clip192)\" cx=\"1857.68\" cy=\"1070.59\" r=\"14.4\" fill=\"#009af9\" fill-rule=\"evenodd\" fill-opacity=\"1\" stroke=\"#000000\" stroke-opacity=\"1\" stroke-width=\"3.2\"/>\n",
       "<circle clip-path=\"url(#clip192)\" cx=\"1879.02\" cy=\"1147.66\" r=\"14.4\" fill=\"#009af9\" fill-rule=\"evenodd\" fill-opacity=\"1\" stroke=\"#000000\" stroke-opacity=\"1\" stroke-width=\"3.2\"/>\n",
       "<circle clip-path=\"url(#clip192)\" cx=\"2063.47\" cy=\"1436.74\" r=\"14.4\" fill=\"#009af9\" fill-rule=\"evenodd\" fill-opacity=\"1\" stroke=\"#000000\" stroke-opacity=\"1\" stroke-width=\"3.2\"/>\n",
       "<circle clip-path=\"url(#clip192)\" cx=\"2102.63\" cy=\"1390.95\" r=\"14.4\" fill=\"#009af9\" fill-rule=\"evenodd\" fill-opacity=\"1\" stroke=\"#000000\" stroke-opacity=\"1\" stroke-width=\"3.2\"/>\n",
       "<circle clip-path=\"url(#clip192)\" cx=\"2102.67\" cy=\"1390.88\" r=\"14.4\" fill=\"#009af9\" fill-rule=\"evenodd\" fill-opacity=\"1\" stroke=\"#000000\" stroke-opacity=\"1\" stroke-width=\"3.2\"/>\n",
       "<circle clip-path=\"url(#clip192)\" cx=\"2113.82\" cy=\"1371.04\" r=\"14.4\" fill=\"#009af9\" fill-rule=\"evenodd\" fill-opacity=\"1\" stroke=\"#000000\" stroke-opacity=\"1\" stroke-width=\"3.2\"/>\n",
       "<circle clip-path=\"url(#clip192)\" cx=\"2132.13\" cy=\"1332.28\" r=\"14.4\" fill=\"#009af9\" fill-rule=\"evenodd\" fill-opacity=\"1\" stroke=\"#000000\" stroke-opacity=\"1\" stroke-width=\"3.2\"/>\n",
       "<circle clip-path=\"url(#clip192)\" cx=\"2148.74\" cy=\"1290.87\" r=\"14.4\" fill=\"#009af9\" fill-rule=\"evenodd\" fill-opacity=\"1\" stroke=\"#000000\" stroke-opacity=\"1\" stroke-width=\"3.2\"/>\n",
       "<circle clip-path=\"url(#clip192)\" cx=\"2162.2\" cy=\"1253.26\" r=\"14.4\" fill=\"#009af9\" fill-rule=\"evenodd\" fill-opacity=\"1\" stroke=\"#000000\" stroke-opacity=\"1\" stroke-width=\"3.2\"/>\n",
       "<circle clip-path=\"url(#clip192)\" cx=\"2177.31\" cy=\"1207.08\" r=\"14.4\" fill=\"#009af9\" fill-rule=\"evenodd\" fill-opacity=\"1\" stroke=\"#000000\" stroke-opacity=\"1\" stroke-width=\"3.2\"/>\n",
       "<circle clip-path=\"url(#clip192)\" cx=\"2216.73\" cy=\"1069.64\" r=\"14.4\" fill=\"#009af9\" fill-rule=\"evenodd\" fill-opacity=\"1\" stroke=\"#000000\" stroke-opacity=\"1\" stroke-width=\"3.2\"/>\n",
       "<circle clip-path=\"url(#clip192)\" cx=\"2261.84\" cy=\"891.045\" r=\"14.4\" fill=\"#009af9\" fill-rule=\"evenodd\" fill-opacity=\"1\" stroke=\"#000000\" stroke-opacity=\"1\" stroke-width=\"3.2\"/>\n",
       "<circle clip-path=\"url(#clip192)\" cx=\"2291.66\" cy=\"766.846\" r=\"14.4\" fill=\"#009af9\" fill-rule=\"evenodd\" fill-opacity=\"1\" stroke=\"#000000\" stroke-opacity=\"1\" stroke-width=\"3.2\"/>\n",
       "<polyline clip-path=\"url(#clip192)\" style=\"stroke:#e26f46; stroke-linecap:round; stroke-linejoin:round; stroke-width:4; stroke-opacity:1; fill:none\" points=\"255.035,766.846 258.35,752.961 261.664,739.083 264.979,725.216 268.294,711.366 283.62,647.728 298.945,585.155 314.27,524.205 329.596,465.423 337.259,437.01 344.921,409.335 352.584,382.458 360.247,356.44 367.91,331.34 375.572,307.213 383.235,284.114 390.898,262.093 400.108,237.123 409.318,213.863 418.527,192.388 427.737,172.769 436.947,155.067 446.157,139.34 455.367,125.639 464.577,114.008 472.364,105.817 480.151,99.1521 487.938,94.0281 495.725,90.457 503.512,88.447 511.299,88.0028 519.085,89.1254 526.872,91.8122 535.331,96.496 543.79,103.005 552.249,111.323 560.707,121.425 569.166,133.286 577.625,146.871 586.084,162.146 594.542,179.067 602.341,196.086 610.139,214.426 617.937,234.045 625.735,254.897 633.533,276.934 641.332,300.105 649.13,324.357 656.928,349.633 665.289,377.802 673.649,407.007 682.01,437.169 690.37,468.208 707.091,532.585 723.812,599.453 762.558,760.009 801.304,920.953 818.52,990.186 835.737,1056.9 844.345,1089.08 852.953,1120.35 861.561,1150.62 870.17,1179.81 877.718,1204.45 885.267,1228.14 892.815,1250.83 900.364,1272.47 907.913,1293.01 915.461,1312.41 923.01,1330.63 930.558,1347.63 938.788,1364.72 947.018,1380.28 955.248,1394.25 963.478,1406.6 971.708,1417.31 979.938,1426.33 988.168,1433.66 996.398,1439.27 1004.68,1443.16 1012.96,1445.29 1021.24,1445.65 1029.51,1444.23 1037.79,1441.05 1046.07,1436.11 1054.35,1429.43 1062.63,1421.02 1071.78,1409.73 1080.94,1396.39 1090.09,1381.04 1099.24,1363.74 1108.4,1344.53 1117.55,1323.48 1126.7,1300.65 1135.86,1276.13 1144.57,1251.28 1153.28,1225.04 1161.98,1197.47 1170.69,1168.66 1179.4,1138.69 1188.11,1107.64 1196.82,1075.61 1205.53,1042.69 1223.64,971.797 1241.75,898.345 1259.86,823.252 1277.98,747.455 1293.22,683.799 1308.47,620.877 1323.71,559.247 1338.96,499.451 1348.27,464.079 1357.57,429.705 1366.88,396.442 1376.19,364.401 1385.49,333.686 1394.8,304.399 1404.11,276.636 1413.41,250.49 1421.94,228.03 1430.46,207.061 1438.99,187.64 1447.51,169.822 1456.04,153.656 1464.57,139.186 1473.09,126.452 1481.62,115.49 1489.49,106.966 1497.36,99.999 1505.24,94.6059 1513.11,90.7993 1520.99,88.588 1528.86,87.9774 1536.73,88.9688 1544.61,91.56 1552.58,95.8096 1560.56,101.684 1568.54,109.169 1576.51,118.247 1584.49,128.895 1592.46,141.088 1600.44,154.797 1608.42,169.987 1617.36,188.727 1626.29,209.226 1635.23,231.42 1644.17,255.242 1653.11,280.621 1662.05,307.478 1670.99,335.732 1679.93,365.298 1688.03,393.146 1696.13,421.928 1704.23,451.571 1712.33,482.001 1728.53,544.918 1744.73,610.051 1781.83,764.012 1818.92,918.122 1836.1,987.272 1853.27,1053.95 1861.86,1086.13 1870.44,1117.41 1879.03,1147.7 1887.62,1176.93 1896.08,1204.62 1904.55,1231.11 1913.01,1256.34 1921.48,1280.23 1929.95,1302.72 1938.41,1323.75 1946.88,1343.27 1955.34,1361.2 1963.56,1377.07 1971.78,1391.37 1980,1404.06 1988.22,1415.11 1996.44,1424.5 2004.66,1432.19 2012.88,1438.17 2021.1,1442.43 2029.53,1444.99 2037.95,1445.72 2046.38,1444.61 2054.8,1441.67 2063.23,1436.91 2071.66,1430.33 2080.08,1421.97 2088.51,1411.83 2097.74,1398.73 2106.97,1383.57 2116.2,1366.41 2125.44,1347.31 2134.67,1326.33 2143.9,1303.53 2153.13,1278.99 2162.36,1252.79 2175.77,1211.95 2189.18,1168.06 2202.59,1121.42 2216,1072.36 2229.42,1021.2 2242.83,968.31 2256.24,914.038 2269.65,858.758 2275.15,835.873 2280.65,812.908 2286.15,789.89 2291.66,766.846 \"/>\n",
       "<path clip-path=\"url(#clip190)\" d=\"M1572.55 250.738 L2280.8 250.738 L2280.8 95.2176 L1572.55 95.2176  Z\" fill=\"#ffffff\" fill-rule=\"evenodd\" fill-opacity=\"1\"/>\n",
       "<polyline clip-path=\"url(#clip190)\" style=\"stroke:#000000; stroke-linecap:round; stroke-linejoin:round; stroke-width:4; stroke-opacity:1; fill:none\" points=\"1572.55,250.738 2280.8,250.738 2280.8,95.2176 1572.55,95.2176 1572.55,250.738 \"/>\n",
       "<circle clip-path=\"url(#clip190)\" cx=\"1668.5\" cy=\"147.058\" r=\"23.04\" fill=\"#009af9\" fill-rule=\"evenodd\" fill-opacity=\"1\" stroke=\"#000000\" stroke-opacity=\"1\" stroke-width=\"5.12\"/>\n",
       "<path clip-path=\"url(#clip190)\" d=\"M1786.7 130.912 L1786.7 135.472 Q1784.03 134.199 1781.67 133.574 Q1779.31 132.949 1777.11 132.949 Q1773.29 132.949 1771.21 134.43 Q1769.15 135.912 1769.15 138.643 Q1769.15 140.935 1770.51 142.115 Q1771.9 143.273 1775.75 143.99 L1778.57 144.569 Q1783.8 145.565 1786.28 148.088 Q1788.78 150.588 1788.78 154.801 Q1788.78 159.824 1785.4 162.416 Q1782.04 165.009 1775.54 165.009 Q1773.08 165.009 1770.31 164.453 Q1767.55 163.898 1764.59 162.81 L1764.59 157.995 Q1767.44 159.592 1770.17 160.402 Q1772.9 161.213 1775.54 161.213 Q1779.54 161.213 1781.72 159.639 Q1783.89 158.064 1783.89 155.148 Q1783.89 152.602 1782.32 151.166 Q1780.77 149.731 1777.2 149.014 L1774.36 148.458 Q1769.13 147.416 1766.79 145.194 Q1764.45 142.972 1764.45 139.014 Q1764.45 134.43 1767.67 131.791 Q1770.91 129.153 1776.58 129.153 Q1779.01 129.153 1781.53 129.592 Q1784.06 130.032 1786.7 130.912 Z\" fill=\"#000000\" fill-rule=\"nonzero\" fill-opacity=\"1\" /><path clip-path=\"url(#clip190)\" d=\"M1805.93 141.398 Q1802.51 141.398 1800.51 144.083 Q1798.52 146.745 1798.52 151.398 Q1798.52 156.051 1800.49 158.736 Q1802.48 161.398 1805.93 161.398 Q1809.33 161.398 1811.32 158.713 Q1813.32 156.027 1813.32 151.398 Q1813.32 146.791 1811.32 144.106 Q1809.33 141.398 1805.93 141.398 M1805.93 137.787 Q1811.49 137.787 1814.66 141.398 Q1817.83 145.009 1817.83 151.398 Q1817.83 157.764 1814.66 161.398 Q1811.49 165.009 1805.93 165.009 Q1800.35 165.009 1797.18 161.398 Q1794.03 157.764 1794.03 151.398 Q1794.03 145.009 1797.18 141.398 Q1800.35 137.787 1805.93 137.787 Z\" fill=\"#000000\" fill-rule=\"nonzero\" fill-opacity=\"1\" /><path clip-path=\"url(#clip190)\" d=\"M1824.89 128.319 L1829.15 128.319 L1829.15 164.338 L1824.89 164.338 L1824.89 128.319 Z\" fill=\"#000000\" fill-rule=\"nonzero\" fill-opacity=\"1\" /><path clip-path=\"url(#clip190)\" d=\"M1837.62 154.106 L1837.62 138.412 L1841.88 138.412 L1841.88 153.944 Q1841.88 157.625 1843.32 159.476 Q1844.75 161.305 1847.62 161.305 Q1851.07 161.305 1853.06 159.106 Q1855.07 156.907 1855.07 153.111 L1855.07 138.412 L1859.33 138.412 L1859.33 164.338 L1855.07 164.338 L1855.07 160.356 Q1853.52 162.717 1851.46 163.875 Q1849.43 165.009 1846.72 165.009 Q1842.25 165.009 1839.94 162.231 Q1837.62 159.453 1837.62 154.106 M1848.34 137.787 L1848.34 137.787 Z\" fill=\"#000000\" fill-rule=\"nonzero\" fill-opacity=\"1\" /><path clip-path=\"url(#clip190)\" d=\"M1886.76 139.407 L1886.76 143.389 Q1884.96 142.393 1883.13 141.907 Q1881.32 141.398 1879.47 141.398 Q1875.33 141.398 1873.04 144.037 Q1870.75 146.652 1870.75 151.398 Q1870.75 156.143 1873.04 158.782 Q1875.33 161.398 1879.47 161.398 Q1881.32 161.398 1883.13 160.912 Q1884.96 160.402 1886.76 159.407 L1886.76 163.342 Q1884.98 164.176 1883.06 164.592 Q1881.16 165.009 1879.01 165.009 Q1873.15 165.009 1869.7 161.328 Q1866.25 157.648 1866.25 151.398 Q1866.25 145.055 1869.73 141.421 Q1873.22 137.787 1879.29 137.787 Q1881.25 137.787 1883.13 138.203 Q1885 138.597 1886.76 139.407 Z\" fill=\"#000000\" fill-rule=\"nonzero\" fill-opacity=\"1\" /><path clip-path=\"url(#clip190)\" d=\"M1894.17 138.412 L1898.43 138.412 L1898.43 164.338 L1894.17 164.338 L1894.17 138.412 M1894.17 128.319 L1898.43 128.319 L1898.43 133.713 L1894.17 133.713 L1894.17 128.319 Z\" fill=\"#000000\" fill-rule=\"nonzero\" fill-opacity=\"1\" /><path clip-path=\"url(#clip190)\" d=\"M1917.39 141.398 Q1913.96 141.398 1911.97 144.083 Q1909.98 146.745 1909.98 151.398 Q1909.98 156.051 1911.95 158.736 Q1913.94 161.398 1917.39 161.398 Q1920.79 161.398 1922.78 158.713 Q1924.77 156.027 1924.77 151.398 Q1924.77 146.791 1922.78 144.106 Q1920.79 141.398 1917.39 141.398 M1917.39 137.787 Q1922.94 137.787 1926.12 141.398 Q1929.29 145.009 1929.29 151.398 Q1929.29 157.764 1926.12 161.398 Q1922.94 165.009 1917.39 165.009 Q1911.81 165.009 1908.64 161.398 Q1905.49 157.764 1905.49 151.398 Q1905.49 145.009 1908.64 141.398 Q1911.81 137.787 1917.39 137.787 M1920.61 126.421 L1925.21 126.421 L1917.67 135.125 L1914.13 135.125 L1920.61 126.421 Z\" fill=\"#000000\" fill-rule=\"nonzero\" fill-opacity=\"1\" /><path clip-path=\"url(#clip190)\" d=\"M1957.9 148.689 L1957.9 164.338 L1953.64 164.338 L1953.64 148.828 Q1953.64 145.148 1952.2 143.319 Q1950.77 141.49 1947.9 141.49 Q1944.45 141.49 1942.46 143.69 Q1940.47 145.889 1940.47 149.685 L1940.47 164.338 L1936.19 164.338 L1936.19 138.412 L1940.47 138.412 L1940.47 142.44 Q1942 140.102 1944.06 138.944 Q1946.14 137.787 1948.85 137.787 Q1953.31 137.787 1955.61 140.565 Q1957.9 143.319 1957.9 148.689 Z\" fill=\"#000000\" fill-rule=\"nonzero\" fill-opacity=\"1\" /><path clip-path=\"url(#clip190)\" d=\"M1993.2 134.384 L1986.86 151.583 L1999.56 151.583 L1993.2 134.384 M1990.56 129.778 L1995.86 129.778 L2009.03 164.338 L2004.17 164.338 L2001.02 155.472 L1985.44 155.472 L1982.3 164.338 L1977.37 164.338 L1990.56 129.778 Z\" fill=\"#000000\" fill-rule=\"nonzero\" fill-opacity=\"1\" /><path clip-path=\"url(#clip190)\" d=\"M2018.01 160.449 L2018.01 174.199 L2013.73 174.199 L2013.73 138.412 L2018.01 138.412 L2018.01 142.347 Q2019.36 140.032 2021.39 138.921 Q2023.45 137.787 2026.3 137.787 Q2031.02 137.787 2033.96 141.537 Q2036.93 145.287 2036.93 151.398 Q2036.93 157.509 2033.96 161.259 Q2031.02 165.009 2026.3 165.009 Q2023.45 165.009 2021.39 163.898 Q2019.36 162.763 2018.01 160.449 M2032.5 151.398 Q2032.5 146.699 2030.56 144.037 Q2028.64 141.352 2025.26 141.352 Q2021.88 141.352 2019.93 144.037 Q2018.01 146.699 2018.01 151.398 Q2018.01 156.097 2019.93 158.782 Q2021.88 161.444 2025.26 161.444 Q2028.64 161.444 2030.56 158.782 Q2032.5 156.097 2032.5 151.398 Z\" fill=\"#000000\" fill-rule=\"nonzero\" fill-opacity=\"1\" /><path clip-path=\"url(#clip190)\" d=\"M2059.01 142.393 Q2058.29 141.977 2057.43 141.791 Q2056.6 141.583 2055.58 141.583 Q2051.97 141.583 2050.03 143.944 Q2048.11 146.282 2048.11 150.68 L2048.11 164.338 L2043.82 164.338 L2043.82 138.412 L2048.11 138.412 L2048.11 142.44 Q2049.45 140.078 2051.6 138.944 Q2053.75 137.787 2056.83 137.787 Q2057.27 137.787 2057.8 137.856 Q2058.34 137.903 2058.99 138.018 L2059.01 142.393 Z\" fill=\"#000000\" fill-rule=\"nonzero\" fill-opacity=\"1\" /><path clip-path=\"url(#clip190)\" d=\"M2072.48 141.398 Q2069.05 141.398 2067.06 144.083 Q2065.07 146.745 2065.07 151.398 Q2065.07 156.051 2067.04 158.736 Q2069.03 161.398 2072.48 161.398 Q2075.88 161.398 2077.87 158.713 Q2079.86 156.027 2079.86 151.398 Q2079.86 146.791 2077.87 144.106 Q2075.88 141.398 2072.48 141.398 M2072.48 137.787 Q2078.04 137.787 2081.21 141.398 Q2084.38 145.009 2084.38 151.398 Q2084.38 157.764 2081.21 161.398 Q2078.04 165.009 2072.48 165.009 Q2066.9 165.009 2063.73 161.398 Q2060.58 157.764 2060.58 151.398 Q2060.58 145.009 2063.73 141.398 Q2066.9 137.787 2072.48 137.787 Z\" fill=\"#000000\" fill-rule=\"nonzero\" fill-opacity=\"1\" /><path clip-path=\"url(#clip190)\" d=\"M2111.53 138.412 L2102.16 151.027 L2112.02 164.338 L2106.99 164.338 L2099.45 154.152 L2091.9 164.338 L2086.88 164.338 L2096.95 150.773 L2087.74 138.412 L2092.76 138.412 L2099.63 147.648 L2106.51 138.412 L2111.53 138.412 Z\" fill=\"#000000\" fill-rule=\"nonzero\" fill-opacity=\"1\" /><path clip-path=\"url(#clip190)\" d=\"M2118.04 138.412 L2122.3 138.412 L2122.3 164.338 L2118.04 164.338 L2118.04 138.412 M2118.04 128.319 L2122.3 128.319 L2122.3 133.713 L2118.04 133.713 L2118.04 128.319 Z\" fill=\"#000000\" fill-rule=\"nonzero\" fill-opacity=\"1\" /><path clip-path=\"url(#clip190)\" d=\"M2151.39 143.389 Q2152.99 140.518 2155.21 139.153 Q2157.43 137.787 2160.44 137.787 Q2164.49 137.787 2166.69 140.634 Q2168.89 143.458 2168.89 148.689 L2168.89 164.338 L2164.61 164.338 L2164.61 148.828 Q2164.61 145.102 2163.29 143.296 Q2161.97 141.49 2159.26 141.49 Q2155.95 141.49 2154.03 143.69 Q2152.11 145.889 2152.11 149.685 L2152.11 164.338 L2147.83 164.338 L2147.83 148.828 Q2147.83 145.078 2146.51 143.296 Q2145.19 141.49 2142.43 141.49 Q2139.17 141.49 2137.25 143.713 Q2135.33 145.912 2135.33 149.685 L2135.33 164.338 L2131.05 164.338 L2131.05 138.412 L2135.33 138.412 L2135.33 142.44 Q2136.79 140.055 2138.82 138.921 Q2140.86 137.787 2143.66 137.787 Q2146.48 137.787 2148.45 139.222 Q2150.44 140.657 2151.39 143.389 Z\" fill=\"#000000\" fill-rule=\"nonzero\" fill-opacity=\"1\" /><path clip-path=\"url(#clip190)\" d=\"M2189.17 151.305 Q2184.01 151.305 2182.02 152.486 Q2180.03 153.666 2180.03 156.514 Q2180.03 158.782 2181.51 160.125 Q2183.01 161.444 2185.58 161.444 Q2189.12 161.444 2191.25 158.944 Q2193.41 156.421 2193.41 152.254 L2193.41 151.305 L2189.17 151.305 M2197.67 149.546 L2197.67 164.338 L2193.41 164.338 L2193.41 160.402 Q2191.95 162.763 2189.77 163.898 Q2187.6 165.009 2184.45 165.009 Q2180.47 165.009 2178.11 162.787 Q2175.77 160.541 2175.77 156.791 Q2175.77 152.416 2178.68 150.194 Q2181.62 147.972 2187.43 147.972 L2193.41 147.972 L2193.41 147.555 Q2193.41 144.615 2191.46 143.018 Q2189.54 141.398 2186.04 141.398 Q2183.82 141.398 2181.72 141.93 Q2179.61 142.463 2177.67 143.527 L2177.67 139.592 Q2180 138.69 2182.2 138.25 Q2184.4 137.787 2186.48 137.787 Q2192.11 137.787 2194.89 140.703 Q2197.67 143.62 2197.67 149.546 Z\" fill=\"#000000\" fill-rule=\"nonzero\" fill-opacity=\"1\" /><path clip-path=\"url(#clip190)\" d=\"M2223.5 142.347 L2223.5 128.319 L2227.76 128.319 L2227.76 164.338 L2223.5 164.338 L2223.5 160.449 Q2222.16 162.763 2220.1 163.898 Q2218.06 165.009 2215.19 165.009 Q2210.49 165.009 2207.53 161.259 Q2204.59 157.509 2204.59 151.398 Q2204.59 145.287 2207.53 141.537 Q2210.49 137.787 2215.19 137.787 Q2218.06 137.787 2220.1 138.921 Q2222.16 140.032 2223.5 142.347 M2208.98 151.398 Q2208.98 156.097 2210.91 158.782 Q2212.85 161.444 2216.23 161.444 Q2219.61 161.444 2221.55 158.782 Q2223.5 156.097 2223.5 151.398 Q2223.5 146.699 2221.55 144.037 Q2219.61 141.352 2216.23 141.352 Q2212.85 141.352 2210.91 144.037 Q2208.98 146.699 2208.98 151.398 Z\" fill=\"#000000\" fill-rule=\"nonzero\" fill-opacity=\"1\" /><path clip-path=\"url(#clip190)\" d=\"M2248.31 151.305 Q2243.15 151.305 2241.16 152.486 Q2239.17 153.666 2239.17 156.514 Q2239.17 158.782 2240.65 160.125 Q2242.16 161.444 2244.73 161.444 Q2248.27 161.444 2250.4 158.944 Q2252.55 156.421 2252.55 152.254 L2252.55 151.305 L2248.31 151.305 M2256.81 149.546 L2256.81 164.338 L2252.55 164.338 L2252.55 160.402 Q2251.09 162.763 2248.91 163.898 Q2246.74 165.009 2243.59 165.009 Q2239.61 165.009 2237.25 162.787 Q2234.91 160.541 2234.91 156.791 Q2234.91 152.416 2237.83 150.194 Q2240.77 147.972 2246.58 147.972 L2252.55 147.972 L2252.55 147.555 Q2252.55 144.615 2250.6 143.018 Q2248.68 141.398 2245.19 141.398 Q2242.97 141.398 2240.86 141.93 Q2238.75 142.463 2236.81 143.527 L2236.81 139.592 Q2239.15 138.69 2241.35 138.25 Q2243.54 137.787 2245.63 137.787 Q2251.25 137.787 2254.03 140.703 Q2256.81 143.62 2256.81 149.546 Z\" fill=\"#000000\" fill-rule=\"nonzero\" fill-opacity=\"1\" /><polyline clip-path=\"url(#clip190)\" style=\"stroke:#e26f46; stroke-linecap:round; stroke-linejoin:round; stroke-width:4; stroke-opacity:1; fill:none\" points=\"1596.54,198.898 1740.46,198.898 \"/>\n",
       "<path clip-path=\"url(#clip190)\" d=\"M1786.7 182.752 L1786.7 187.312 Q1784.03 186.039 1781.67 185.414 Q1779.31 184.789 1777.11 184.789 Q1773.29 184.789 1771.21 186.27 Q1769.15 187.752 1769.15 190.483 Q1769.15 192.775 1770.51 193.955 Q1771.9 195.113 1775.75 195.83 L1778.57 196.409 Q1783.8 197.405 1786.28 199.928 Q1788.78 202.428 1788.78 206.641 Q1788.78 211.664 1785.4 214.256 Q1782.04 216.849 1775.54 216.849 Q1773.08 216.849 1770.31 216.293 Q1767.55 215.738 1764.59 214.65 L1764.59 209.835 Q1767.44 211.432 1770.17 212.242 Q1772.9 213.053 1775.54 213.053 Q1779.54 213.053 1781.72 211.479 Q1783.89 209.904 1783.89 206.988 Q1783.89 204.442 1782.32 203.006 Q1780.77 201.571 1777.2 200.854 L1774.36 200.298 Q1769.13 199.256 1766.79 197.034 Q1764.45 194.812 1764.45 190.854 Q1764.45 186.27 1767.67 183.631 Q1770.91 180.993 1776.58 180.993 Q1779.01 180.993 1781.53 181.432 Q1784.06 181.872 1786.7 182.752 Z\" fill=\"#000000\" fill-rule=\"nonzero\" fill-opacity=\"1\" /><path clip-path=\"url(#clip190)\" d=\"M1805.93 193.238 Q1802.51 193.238 1800.51 195.923 Q1798.52 198.585 1798.52 203.238 Q1798.52 207.891 1800.49 210.576 Q1802.48 213.238 1805.93 213.238 Q1809.33 213.238 1811.32 210.553 Q1813.32 207.867 1813.32 203.238 Q1813.32 198.631 1811.32 195.946 Q1809.33 193.238 1805.93 193.238 M1805.93 189.627 Q1811.49 189.627 1814.66 193.238 Q1817.83 196.849 1817.83 203.238 Q1817.83 209.604 1814.66 213.238 Q1811.49 216.849 1805.93 216.849 Q1800.35 216.849 1797.18 213.238 Q1794.03 209.604 1794.03 203.238 Q1794.03 196.849 1797.18 193.238 Q1800.35 189.627 1805.93 189.627 Z\" fill=\"#000000\" fill-rule=\"nonzero\" fill-opacity=\"1\" /><path clip-path=\"url(#clip190)\" d=\"M1824.89 180.159 L1829.15 180.159 L1829.15 216.178 L1824.89 216.178 L1824.89 180.159 Z\" fill=\"#000000\" fill-rule=\"nonzero\" fill-opacity=\"1\" /><path clip-path=\"url(#clip190)\" d=\"M1837.62 205.946 L1837.62 190.252 L1841.88 190.252 L1841.88 205.784 Q1841.88 209.465 1843.32 211.316 Q1844.75 213.145 1847.62 213.145 Q1851.07 213.145 1853.06 210.946 Q1855.07 208.747 1855.07 204.951 L1855.07 190.252 L1859.33 190.252 L1859.33 216.178 L1855.07 216.178 L1855.07 212.196 Q1853.52 214.557 1851.46 215.715 Q1849.43 216.849 1846.72 216.849 Q1842.25 216.849 1839.94 214.071 Q1837.62 211.293 1837.62 205.946 M1848.34 189.627 L1848.34 189.627 Z\" fill=\"#000000\" fill-rule=\"nonzero\" fill-opacity=\"1\" /><path clip-path=\"url(#clip190)\" d=\"M1886.76 191.247 L1886.76 195.229 Q1884.96 194.233 1883.13 193.747 Q1881.32 193.238 1879.47 193.238 Q1875.33 193.238 1873.04 195.877 Q1870.75 198.492 1870.75 203.238 Q1870.75 207.983 1873.04 210.622 Q1875.33 213.238 1879.47 213.238 Q1881.32 213.238 1883.13 212.752 Q1884.96 212.242 1886.76 211.247 L1886.76 215.182 Q1884.98 216.016 1883.06 216.432 Q1881.16 216.849 1879.01 216.849 Q1873.15 216.849 1869.7 213.168 Q1866.25 209.488 1866.25 203.238 Q1866.25 196.895 1869.73 193.261 Q1873.22 189.627 1879.29 189.627 Q1881.25 189.627 1883.13 190.043 Q1885 190.437 1886.76 191.247 Z\" fill=\"#000000\" fill-rule=\"nonzero\" fill-opacity=\"1\" /><path clip-path=\"url(#clip190)\" d=\"M1894.17 190.252 L1898.43 190.252 L1898.43 216.178 L1894.17 216.178 L1894.17 190.252 M1894.17 180.159 L1898.43 180.159 L1898.43 185.553 L1894.17 185.553 L1894.17 180.159 Z\" fill=\"#000000\" fill-rule=\"nonzero\" fill-opacity=\"1\" /><path clip-path=\"url(#clip190)\" d=\"M1917.39 193.238 Q1913.96 193.238 1911.97 195.923 Q1909.98 198.585 1909.98 203.238 Q1909.98 207.891 1911.95 210.576 Q1913.94 213.238 1917.39 213.238 Q1920.79 213.238 1922.78 210.553 Q1924.77 207.867 1924.77 203.238 Q1924.77 198.631 1922.78 195.946 Q1920.79 193.238 1917.39 193.238 M1917.39 189.627 Q1922.94 189.627 1926.12 193.238 Q1929.29 196.849 1929.29 203.238 Q1929.29 209.604 1926.12 213.238 Q1922.94 216.849 1917.39 216.849 Q1911.81 216.849 1908.64 213.238 Q1905.49 209.604 1905.49 203.238 Q1905.49 196.849 1908.64 193.238 Q1911.81 189.627 1917.39 189.627 M1920.61 178.261 L1925.21 178.261 L1917.67 186.965 L1914.13 186.965 L1920.61 178.261 Z\" fill=\"#000000\" fill-rule=\"nonzero\" fill-opacity=\"1\" /><path clip-path=\"url(#clip190)\" d=\"M1957.9 200.529 L1957.9 216.178 L1953.64 216.178 L1953.64 200.668 Q1953.64 196.988 1952.2 195.159 Q1950.77 193.33 1947.9 193.33 Q1944.45 193.33 1942.46 195.53 Q1940.47 197.729 1940.47 201.525 L1940.47 216.178 L1936.19 216.178 L1936.19 190.252 L1940.47 190.252 L1940.47 194.28 Q1942 191.942 1944.06 190.784 Q1946.14 189.627 1948.85 189.627 Q1953.31 189.627 1955.61 192.405 Q1957.9 195.159 1957.9 200.529 Z\" fill=\"#000000\" fill-rule=\"nonzero\" fill-opacity=\"1\" /><path clip-path=\"url(#clip190)\" d=\"M1981.65 181.618 L2003.5 181.618 L2003.5 185.553 L1986.32 185.553 L1986.32 195.784 L2002.78 195.784 L2002.78 199.719 L1986.32 199.719 L1986.32 212.242 L2003.92 212.242 L2003.92 216.178 L1981.65 216.178 L1981.65 181.618 Z\" fill=\"#000000\" fill-rule=\"nonzero\" fill-opacity=\"1\" /><path clip-path=\"url(#clip190)\" d=\"M2032.97 190.252 L2023.59 202.867 L2033.45 216.178 L2028.43 216.178 L2020.88 205.992 L2013.34 216.178 L2008.31 216.178 L2018.38 202.613 L2009.17 190.252 L2014.19 190.252 L2021.07 199.488 L2027.94 190.252 L2032.97 190.252 Z\" fill=\"#000000\" fill-rule=\"nonzero\" fill-opacity=\"1\" /><path clip-path=\"url(#clip190)\" d=\"M2051.25 203.145 Q2046.09 203.145 2044.1 204.326 Q2042.11 205.506 2042.11 208.354 Q2042.11 210.622 2043.59 211.965 Q2045.1 213.284 2047.67 213.284 Q2051.21 213.284 2053.34 210.784 Q2055.49 208.261 2055.49 204.094 L2055.49 203.145 L2051.25 203.145 M2059.75 201.386 L2059.75 216.178 L2055.49 216.178 L2055.49 212.242 Q2054.03 214.603 2051.86 215.738 Q2049.68 216.849 2046.53 216.849 Q2042.55 216.849 2040.19 214.627 Q2037.85 212.381 2037.85 208.631 Q2037.85 204.256 2040.77 202.034 Q2043.71 199.812 2049.52 199.812 L2055.49 199.812 L2055.49 199.395 Q2055.49 196.455 2053.55 194.858 Q2051.62 193.238 2048.13 193.238 Q2045.91 193.238 2043.8 193.77 Q2041.69 194.303 2039.75 195.367 L2039.75 191.432 Q2042.09 190.53 2044.29 190.09 Q2046.49 189.627 2048.57 189.627 Q2054.19 189.627 2056.97 192.543 Q2059.75 195.46 2059.75 201.386 Z\" fill=\"#000000\" fill-rule=\"nonzero\" fill-opacity=\"1\" /><path clip-path=\"url(#clip190)\" d=\"M2087.18 191.247 L2087.18 195.229 Q2085.37 194.233 2083.55 193.747 Q2081.74 193.238 2079.89 193.238 Q2075.74 193.238 2073.45 195.877 Q2071.16 198.492 2071.16 203.238 Q2071.16 207.983 2073.45 210.622 Q2075.74 213.238 2079.89 213.238 Q2081.74 213.238 2083.55 212.752 Q2085.37 212.242 2087.18 211.247 L2087.18 215.182 Q2085.4 216.016 2083.48 216.432 Q2081.58 216.849 2079.43 216.849 Q2073.57 216.849 2070.12 213.168 Q2066.67 209.488 2066.67 203.238 Q2066.67 196.895 2070.14 193.261 Q2073.64 189.627 2079.7 189.627 Q2081.67 189.627 2083.55 190.043 Q2085.42 190.437 2087.18 191.247 Z\" fill=\"#000000\" fill-rule=\"nonzero\" fill-opacity=\"1\" /><path clip-path=\"url(#clip190)\" d=\"M2098.8 182.891 L2098.8 190.252 L2107.57 190.252 L2107.57 193.562 L2098.8 193.562 L2098.8 207.636 Q2098.8 210.807 2099.66 211.71 Q2100.54 212.613 2103.2 212.613 L2107.57 212.613 L2107.57 216.178 L2103.2 216.178 Q2098.27 216.178 2096.39 214.349 Q2094.52 212.497 2094.52 207.636 L2094.52 193.562 L2091.39 193.562 L2091.39 190.252 L2094.52 190.252 L2094.52 182.891 L2098.8 182.891 Z\" fill=\"#000000\" fill-rule=\"nonzero\" fill-opacity=\"1\" /><path clip-path=\"url(#clip190)\" d=\"M2124.96 203.145 Q2119.8 203.145 2117.8 204.326 Q2115.81 205.506 2115.81 208.354 Q2115.81 210.622 2117.3 211.965 Q2118.8 213.284 2121.37 213.284 Q2124.91 213.284 2127.04 210.784 Q2129.19 208.261 2129.19 204.094 L2129.19 203.145 L2124.96 203.145 M2133.45 201.386 L2133.45 216.178 L2129.19 216.178 L2129.19 212.242 Q2127.73 214.603 2125.56 215.738 Q2123.38 216.849 2120.24 216.849 Q2116.25 216.849 2113.89 214.627 Q2111.55 212.381 2111.55 208.631 Q2111.55 204.256 2114.47 202.034 Q2117.41 199.812 2123.22 199.812 L2129.19 199.812 L2129.19 199.395 Q2129.19 196.455 2127.25 194.858 Q2125.33 193.238 2121.83 193.238 Q2119.61 193.238 2117.5 193.77 Q2115.4 194.303 2113.45 195.367 L2113.45 191.432 Q2115.79 190.53 2117.99 190.09 Q2120.19 189.627 2122.27 189.627 Q2127.9 189.627 2130.67 192.543 Q2133.45 195.46 2133.45 201.386 Z\" fill=\"#000000\" fill-rule=\"nonzero\" fill-opacity=\"1\" /></svg>\n"
      ]
     },
     "execution_count": 9,
     "metadata": {},
     "output_type": "execute_result"
    }
   ],
   "source": [
    "scatter(x, u_h, label = \"Solución Aproximada\")\n",
    "plot!(u_exact, label = \"Solución Exacta\")"
   ]
  },
  {
   "cell_type": "markdown",
   "id": "98f843c0",
   "metadata": {},
   "source": [
    "### Cálculo de errores de aproximación en la norma $L^2$ y la seminorma $H^1$ `refina`"
   ]
  },
  {
   "cell_type": "code",
   "execution_count": 10,
   "id": "116e92d4",
   "metadata": {},
   "outputs": [
    {
     "data": {
      "text/plain": [
       "refina"
      ]
     },
     "execution_count": 10,
     "metadata": {},
     "output_type": "execute_result"
    }
   ],
   "source": [
    "\"\"\"\n",
    "Función que calcula los errores de aproximación en norma L² y \n",
    "la seminorma H¹, y las tasas de convergencia en ambas normas, \n",
    "para un determinado números de ciclos de refinamiento. \n",
    "\n",
    "Input:\n",
    "- `nI_approx_init`: número inicial de subintervalos en el mallado.\n",
    "- `n_cicles`: número de ciclos de refinamiento a realizar.\n",
    "\n",
    "Output:\n",
    "- `L²_error_vec`: vector con error en L² para cada ciclo de refinamiento.\n",
    "- `err_rate_L²`: vector con tasa de convergencia en L² para cada ciclo de refinamiento.\n",
    "- `H¹_error_vec`: vector con error en H¹ para cada ciclo de refinamiento.\n",
    "- `err_rate_H¹`: vector con tasa de convergencia en H¹ para cada ciclo de refinamiento.\n",
    "\"\"\"\n",
    "function refina(nI_approx_init, n_cicles)\n",
    "    # Construimos un vector que contiene el número total de puntos en el mallado.\n",
    "    # Para cada ciclo de refinamiento el siguiente contiene el doble de puntos que el anterior\n",
    "    # El primer ciclo no se refina\n",
    "    nI_approx_vec = [2^i*nI_approx_init for i in 0:n_cicles-1]\n",
    "    \n",
    "    # Vector que contiene el error en L² para cada ciclo de refinamiento\n",
    "    L²_error_vec = zeros(n_cicles);\n",
    "\n",
    "    # Vector que contiene el error en H¹ para cada ciclo de refinamiento\n",
    "    H¹_error_vec = zeros(n_cicles);\n",
    "    \n",
    "    # Ciclos de refinamiento\n",
    "    for k = 1:n_cicles\n",
    "        # Número de subintervalos en el mallado para aproximar\n",
    "        nI_approx = nI_approx_vec[k]\n",
    "\n",
    "        # Nodos de la malla, vector fila\n",
    "        # Valores aproximados de la función u en los nodos de la malla\n",
    "        nodes, dofs = solve_u(nI_approx)\n",
    "        \n",
    "        # Incialización del error en L² y H¹\n",
    "        error_L² = 0.0\n",
    "        error_H¹ = 0.0\n",
    "\n",
    "        ## Calculo del error ||u - u_h||_2 en la norma L²\n",
    "        ## Calculo del error ||u' - u'_h||_2 en la seminorma H¹\n",
    "        for i = 1:nI_approx\n",
    "            errorL², errorH¹ = error_elemento(nodes, dofs, i)\n",
    "            error_L² += errorL²\n",
    "            error_H¹ += errorH¹\n",
    "        end\n",
    "        error_L² = sqrt(error_L²)\n",
    "        error_H¹ = sqrt(error_H¹)\n",
    "        L²_error_vec[k] = error_L²\n",
    "        H¹_error_vec[k] = error_H¹\n",
    "    end\n",
    "    \n",
    "    # Cálculo de la tasa de convergencia\n",
    "    err_rate_L² = zeros(n_cicles)\n",
    "    err_rate_L²[1] = 1\n",
    "    err_rate_H¹ = zeros(n_cicles)\n",
    "    err_rate_H¹[1] = 1\n",
    "\n",
    "    for i = 2:n_cicles\n",
    "        err_rate_L²[i] = log(L²_error_vec[i]/L²_error_vec[i-1])/log(1/2)\n",
    "        err_rate_H¹[i] = log(H¹_error_vec[i]/H¹_error_vec[i-1])/log(1/2)\n",
    "    end\n",
    "    return nI_approx_vec, L²_error_vec, err_rate_L², H¹_error_vec, err_rate_H¹\n",
    "end"
   ]
  },
  {
   "cell_type": "markdown",
   "id": "91696d5e",
   "metadata": {},
   "source": [
    "### Impresión de la tabla de resultados `tabla`"
   ]
  },
  {
   "cell_type": "code",
   "execution_count": 11,
   "id": "0d154387",
   "metadata": {},
   "outputs": [
    {
     "data": {
      "text/plain": [
       "tabla (generic function with 1 method)"
      ]
     },
     "execution_count": 11,
     "metadata": {},
     "output_type": "execute_result"
    }
   ],
   "source": [
    "using Printf\n",
    "function tabla(nI, L², r_L², H¹, r_H¹)\n",
    "    # Impresión de la tabla de resultados\n",
    "    println(\"     n   L²_error   L²_err_rate   H¹_error   H¹_err_rate\\n\")\n",
    "        s = @sprintf \"| %4d | %1.3e | %1.4e | %1.3e | %1.4e |\" nI[1] L²[1] r_L²[1] H¹[1] r_H¹[1];\n",
    "        println(s)\n",
    "    for i = 2:n_cicles\n",
    "        s = @sprintf \"| %4d | %1.3e | %1.4e | %1.3e | %1.4e |\" nI[i] L²[i] r_L²[i] H¹[i] r_H¹[i];\n",
    "        println(s)\n",
    "    end\n",
    "end"
   ]
  },
  {
   "cell_type": "code",
   "execution_count": 12,
   "id": "328c1479",
   "metadata": {},
   "outputs": [
    {
     "data": {
      "text/plain": [
       "8"
      ]
     },
     "execution_count": 12,
     "metadata": {},
     "output_type": "execute_result"
    }
   ],
   "source": [
    "# Numero inicial de subintervalos en el mallado\n",
    "nI_approx_init = 10\n",
    "# Número de ciclos que corre el algoritmo numérico\n",
    "n_cicles = 8"
   ]
  },
  {
   "cell_type": "code",
   "execution_count": 13,
   "id": "718b1300",
   "metadata": {},
   "outputs": [
    {
     "name": "stdout",
     "output_type": "stream",
     "text": [
      "     n   L²_error   L²_err_rate   H¹_error   H¹_err_rate\n",
      "\n",
      "|   10 | 9.852e-02 | 1.0000e+00 | 3.140e+00 | 1.0000e+00 |\n",
      "|   20 | 2.527e-02 | 1.9631e+00 | 1.601e+00 | 9.7157e-01 |\n",
      "|   40 | 6.357e-03 | 1.9908e+00 | 8.045e-01 | 9.9288e-01 |\n",
      "|   80 | 1.592e-03 | 1.9977e+00 | 4.028e-01 | 9.9822e-01 |\n",
      "|  160 | 3.981e-04 | 1.9994e+00 | 2.014e-01 | 9.9956e-01 |\n",
      "|  320 | 9.954e-05 | 1.9999e+00 | 1.007e-01 | 9.9989e-01 |\n",
      "|  640 | 2.489e-05 | 2.0000e+00 | 5.037e-02 | 9.9997e-01 |\n",
      "| 1280 | 6.221e-06 | 2.0000e+00 | 2.518e-02 | 9.9999e-01 |\n"
     ]
    }
   ],
   "source": [
    "nI, L², r_L², H¹, r_H¹ = refina(nI_approx_init, n_cicles);  \n",
    "\n",
    "tabla(nI, L², r_L², H¹, r_H¹)"
   ]
  }
 ],
 "metadata": {
  "kernelspec": {
   "display_name": "Julia 1.8.5",
   "language": "julia",
   "name": "julia-1.8"
  },
  "language_info": {
   "file_extension": ".jl",
   "mimetype": "application/julia",
   "name": "julia",
   "version": "1.8.5"
  }
 },
 "nbformat": 4,
 "nbformat_minor": 5
}

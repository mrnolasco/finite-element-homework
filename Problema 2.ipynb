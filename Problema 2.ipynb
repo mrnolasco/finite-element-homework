{
 "cells": [
  {
   "cell_type": "markdown",
   "id": "b55b8ecf",
   "metadata": {},
   "source": [
    "# Teoría, Práctica y Aplicaciones de los Elementos Finitos\n",
    "## Tarea I\n",
    "### Curso de Posgrado en Matemáticas-UNAM\n",
    "\n",
    "> Profesor: Daniel Castañon Quiroz. daniel.castanon@iimas.unam.mx\n",
    "\n",
    "> Alumno: Mario Rafael Nolasco Estrada. mnolasco@ciencias.unam.mx"
   ]
  },
  {
   "cell_type": "markdown",
   "id": "4a043ef3",
   "metadata": {},
   "source": [
    "# Problema 2\n",
    "\n",
    "Aproximar numéricamente utilizando los elementos finitos de Lagrange de primer orden la solución débil del siguiente problema con valores en la frontera:\n",
    "\n",
    "$$-u''(x)+u'(x)+u(x) = f(x),\\qquad x\\in D := [0,1],$$\n",
    "\n",
    "con las condiciones de frontera $u(0) =1\\ , \\  u'(1) =0$.\n",
    "\n",
    "donde $f(x)=-2e^x+2(1-x)e^x+(1-x)^2e^x$. \n",
    "\n",
    "* Observar que $u(x)=(1-x)^2e^x$ es la solución del problema.\n",
    "* Obtener entonces la tasa de convergencia para el error $e:=u_h-u$ en la norma $L^2(D)$ y la seminorma $H^1(D)$ para $N=10, 20, 40, 80, 160$; donde $N$ es el número de subintervalos que dividen a $D$."
   ]
  },
  {
   "cell_type": "markdown",
   "id": "ca7a56d8",
   "metadata": {},
   "source": [
    "## Solución\n",
    "\n",
    "Dada la partición del intervalo $[a,b]$ en $n$ intervalos: \n",
    "\n",
    "$$a= x_1 < x_2 < x_3 < \\ldots < x_n < x_{n+1}=b$$\n",
    "\n",
    "Definimos: \n",
    "\n",
    "$$h_i = x_{i+1}-x_i \\quad I_i : = x\\in [x_i, x_{i+1} ]$$\n",
    "\n",
    "Tomamos los elementos finitos de Lagrange de orden uno: \n",
    "$$\\left\\lbrace \\phi_1, \\phi_2, \\ldots, \\phi_{n+1}  \\right\\rbrace $$\n",
    "\n",
    "donde \n",
    "\n",
    "$$ \\phi_i(x) := \\begin{cases}  \\frac{x-x_{i-1}}{h_{i-1}}  & x\\in [x_{i-1},x_i]= I_{i-1} \\\\ \n",
    "1-\\frac{x-x_{i}}{h_{i}}  & x\\in [x_{i},x_{i+1}]= I_{i}\\\\ \n",
    "0 & \\text{ otro caso}\\end{cases} $$\n",
    "\n",
    "con derivada:\n",
    "\n",
    "$$\\phi_i(x)' := \\begin{cases}  \\frac{1}{h_{i-1}}  & x\\in I_{i-1} \\\\\n",
    "-\\frac{1}{h_{i}}  & x\\in I_{i}\\\\ \n",
    "0 & \\text{ otro caso}\\end{cases} $$\n",
    "\n",
    "Entonces el problema se convierte en \n",
    "\n",
    "$$a(u,v)=(f,v)$$\n",
    "\n",
    "con\n",
    "\n",
    "$$a(u,v)=\\int_{D} u'v'+u'v+uv =  \\quad (f,v) =\\int_{D} f(x) v(x)dx  $$"
   ]
  },
  {
   "cell_type": "markdown",
   "id": "4927880e",
   "metadata": {},
   "source": [
    "Ahora si tomamos $u$ y $v$ tales que: \n",
    "\n",
    "$$u = \\sum_{j=1}^{n+1} u_j \\phi_j\\quad v = \\sum_{i=1}^{n+1} v_i \\phi_i $$ \n",
    "\n",
    "\n",
    "$a(u,v)-(f,v)=0$ se convierte en:\n",
    "\n",
    "$$\\sum_{i=1}^{n+1} v_i \\left [ \\sum_{j=1}^{n+1}\\int_{D} \\left( \\phi_j'\\phi_i'+\\phi_j'\\phi_i+\\phi_j\\phi_i\\right)u_j - \\int_{D}f\\phi_i  \\right] =0$$\n",
    "\n",
    "donde \n",
    "\n",
    "$$ \\sum_{j=1}^{n+1}\\int_{D} \\left( \\phi_j'\\phi_i'+\\phi_j'\\phi_i+\\phi_j\\phi_i\\right)u_j = \\int_{D}f\\phi_i \\quad i=1, 2,3,\\ldots, n+1 $$ \n",
    "\n",
    "es un sistema de $n+1$ ecuaciones."
   ]
  },
  {
   "cell_type": "markdown",
   "id": "19f8d32b",
   "metadata": {},
   "source": [
    "En forma matricial: $$Au=b$$\n",
    "\n",
    "con $$A_{ij}=\\int_{D} \\left( \\phi_j'\\phi_i'+\\phi_j'\\phi_i+\\phi_j\\phi_i\\right) \\quad \\text{y} \\quad b_i =\\int_{D} f \\phi_i $$\n",
    "\n",
    "Ya que los soportes de $\\phi_i$ y $\\phi_{i+2}$ se intersectan solo en el punto $\\left\\lbrace x_{i+1} \\right\\rbrace$, entonces el coeficiente $A_{ij}$ se anula si $|i-j|\\geq 2$\n",
    "\n",
    "Para $j=i$, tenemos que \n",
    "\n",
    "$$A_{ii}=\\int_{D} \\phi_i'\\phi_i' \n",
    "= \\int_{x_{i-1}}^{x_{i+1}} \\left( \\phi_i'\\phi_i'+\\phi_i'\\phi_i+\\phi_i\\phi_i\\right)\n",
    "=\\int_{x_{i-1}}^{x_{i}} \\left( \\phi_i'\\phi_i'+\\phi_i'\\phi_i+\\phi_i\\phi_i\\right)+\\int_{x_{i}}^{x_{i+1}} \\left( \\phi_i'\\phi_i'+\\phi_i'\\phi_i+\\phi_i\\phi_i\\right)\n",
    "$$\n",
    "\n",
    "Para $j=i\\pm 1$, tenemos que \n",
    "\n",
    "$$A_{i,i+1}=\\int_{D}  \\phi_{i+1}'\\phi_i'+\\phi_{i+1}'\\phi_i+\\phi_{i+1}\\phi_i = \\int_{x_{i}}^{x_{i+1}}  \\phi_{i+1}'\\phi_i'+\\phi_{i+1}'\\phi_i+\\phi_{i+1}\\phi_i $$\n",
    "\n",
    "$$A_{i,i-1}=\\int_{D}  \\phi_{i-1}'\\phi_i'+\\phi_{i-1}'\\phi_i+\\phi_{i-1}\\phi_i = \\int_{x_{i-1}}^{x_{i}}  \\phi_{i-1}'\\phi_i'+\\phi_{i-1}'\\phi_i+\\phi_{i-1}\\phi_i $$"
   ]
  },
  {
   "cell_type": "markdown",
   "id": "cd09d808",
   "metadata": {},
   "source": [
    "Entonces en el intervalo $[x_i, x_{i+1}]$ se actualizan los siguientes coeficientes de la matriz $A$:\n",
    "$$A_{ii}\\leftarrow \\int_{x_{i}}^{x_{i+1}} \\left( \\left( \\phi_i^{-}\\right)'\\left( \\phi_i^{-}\\right)'+\\left( \\phi_i^{-}\\right)'\\left( \\phi_i^{-}\\right)+\\left( \\phi_i^{-}\\right)\\left( \\phi_i^{-}\\right)\\right)=  a\\left( \\phi_i^{-},\\phi_i^{-} \\right) $$\n",
    "$$A_{i+1,i+1}\\leftarrow \\int_{x_{i}}^{x_{i+1}} \\left( \\left( \\phi_{i+1}^{+}\\right)'\\left( \\phi_{i+1}^{+}\\right)'+\\left( \\phi_{i+1}^{+}\\right)'\\left( \\phi_{i+1}^{+}\\right)+\\left( \\phi_{i+1}^{+}\\right)\\left( \\phi_{i+1}^{+}\\right)\\right)=a\\left(\\phi_{i+1}^{+},\\phi_{i+1}^{+} \\right) $$\n",
    "\n",
    "$$A_{i,i+1}\\leftarrow \\int_{x_{i}}^{x_{i+1}} \\left( \\phi_{i+1}^{+}\\right)'\\left( \\phi_{i}^{-}\\right)'+\\left( \\phi_{i+1}^{+}\\right)'\\left( \\phi_{i}^{-}\\right)+\\left( \\phi_{i+1}^{+}\\right)\\left( \\phi_{i}^{-}\\right) = a \\left( \\phi_{i+1}^{+}, \\phi_{i}^{-}\\right) $$\n",
    "\n",
    "$$A_{i+1,i}\\leftarrow \\int_{x_{i}}^{x_{i+1}}  \\left( \\phi_{i}^{-}\\right)'\\left( \\phi_{i+1}^{+}\\right)'+\\left( \\phi_{i}^{-}\\right)'\\left( \\phi_{i+1}^{+}\\right)+\\left( \\phi_{i}^{-}\\right)\\left( \\phi_{i+1}^{+}\\right) = a\\left( \\phi_{i}^{-}, \\phi_{i+1}^{+}\\right) $$\n",
    "\n",
    "Y para el vector $b$ tenemos:\n",
    "\n",
    "$$ b_i \\leftarrow \\int_{x_{i}}^{x_{i+1}} f \\phi_{i}^{-} $$\n",
    "\n",
    "$$ b_{i+1} \\leftarrow \\int_{x_{i}}^{x_{i+1}} f  \\phi_{i+1}^{+} $$"
   ]
  },
  {
   "cell_type": "markdown",
   "id": "5e3f2b1d",
   "metadata": {},
   "source": [
    "## Códigos"
   ]
  },
  {
   "cell_type": "markdown",
   "id": "835f4005",
   "metadata": {},
   "source": [
    "### Solución exacta `u_exact`"
   ]
  },
  {
   "cell_type": "code",
   "execution_count": 1,
   "id": "999484b9",
   "metadata": {},
   "outputs": [
    {
     "data": {
      "text/plain": [
       "u_exact (generic function with 1 method)"
      ]
     },
     "execution_count": 1,
     "metadata": {},
     "output_type": "execute_result"
    }
   ],
   "source": [
    "function u_exact(x)\n",
    "    return exp(x)*(1 - x)^2\n",
    "end"
   ]
  },
  {
   "cell_type": "markdown",
   "id": "84634481",
   "metadata": {},
   "source": [
    "### Derivada de la solución exacta `du_exact`"
   ]
  },
  {
   "cell_type": "code",
   "execution_count": 2,
   "id": "3dec8587",
   "metadata": {},
   "outputs": [
    {
     "data": {
      "text/plain": [
       "du_exact (generic function with 1 method)"
      ]
     },
     "execution_count": 2,
     "metadata": {},
     "output_type": "execute_result"
    }
   ],
   "source": [
    "function du_exact(x)\n",
    "    return  exp(x)*(x^2 - 1)\n",
    "end"
   ]
  },
  {
   "cell_type": "markdown",
   "id": "2baa05d3",
   "metadata": {},
   "source": [
    "### Aproximación de la integral definida de una función `cuadratura_gauss`"
   ]
  },
  {
   "cell_type": "code",
   "execution_count": 3,
   "id": "e97f0545",
   "metadata": {},
   "outputs": [
    {
     "data": {
      "text/plain": [
       "cuadratura_gauss"
      ]
     },
     "execution_count": 3,
     "metadata": {},
     "output_type": "execute_result"
    }
   ],
   "source": [
    "\"\"\"\n",
    "###    cuadratura_gauss(f, a, b)\n",
    "\n",
    "Aproxima el valor de la integral de la función `f` en el intervalo `[a,b]` utilizando\n",
    "la fórmula de cuadratura de Gauss-Legendre con tres nodos.\n",
    "\n",
    "### Input:\n",
    "\n",
    "- `f`: Función a integrar.\n",
    "- `a`: Límite inferior del intervalo de integración.\n",
    "- `b`: Límite superior del intervalo de integración.\n",
    "\n",
    "### Output:\n",
    "\n",
    "- `val`: Aproximación del valor de la integral de `f` en el intervalo `[a,b]`.\n",
    "\n",
    "### Ejemplo:\n",
    "\n",
    "```julia\n",
    "f(x) = exp(x)\n",
    "a, b = 0, 1\n",
    "approx = cuadratura_gauss(f, a, b)\n",
    "```\n",
    "\"\"\"\n",
    "function cuadratura_gauss(f,a , b)\n",
    "        # Nodos de la cuadratura\n",
    "        x₁ = -0.5*(b-a)*sqrt(3/5) + 0.5*(a+b)   # Nodo x₁\n",
    "        x₂ = 0.5*(a + b)                        # Nodo x₂\n",
    "        x₃ = 0.5*(b-a)*sqrt(3/5) + 0.5*(a+b)    # Nodo x₃\n",
    "    \n",
    "        # Cálculo de integral utilizando la fórmula de cuadratura de Gauss-Legendre\n",
    "        val = 5*f(x₁) + 8*f(x₂) + 5*f(x₃)       # Suma ponderada de f en los nodos\n",
    "        val = 0.5*(b-a)*val/9                   # Multiplicación por el factor de escala\n",
    "    \n",
    "    return val  # Retorna el valor aproximado de la integral de f en [a,b]\n",
    "end"
   ]
  },
  {
   "cell_type": "markdown",
   "id": "cd443b65",
   "metadata": {},
   "source": [
    "### Cálculo del error de aproximación en un elemento de la malla `error_elemento`"
   ]
  },
  {
   "cell_type": "code",
   "execution_count": 4,
   "id": "b33579b2",
   "metadata": {},
   "outputs": [
    {
     "data": {
      "text/plain": [
       "error_elemento"
      ]
     },
     "execution_count": 4,
     "metadata": {},
     "output_type": "execute_result"
    }
   ],
   "source": [
    "\"\"\"\n",
    "###    error_elemento(nodes, dofs, i)\n",
    "\n",
    "Función que calcula el error de aproximación en la norma L²\n",
    "y en la seminorma H¹ en un elemento de la malla.\n",
    "\n",
    "### Input:\n",
    "\n",
    "- `nodes`: vector con los nodos de la malla\n",
    "- `dofs`: vector con los grados de libertad de la solución\n",
    "- `i`: índice del elemento en la malla\n",
    "\n",
    "### Output:\n",
    "\n",
    "- `val_L²`: valor del error L² en el elemento\n",
    "- `val_H¹`: valor del error H¹ en el elemento\n",
    "\"\"\"\n",
    "function error_elemento(nodes, dofs, i)    \n",
    "    # Obtención de las coordenadas de los nodos y los grados de libertad\n",
    "    xᵢ = nodes[i]\n",
    "    xᵢ₊₁ = nodes[i+1]\n",
    "    uᵢ = dofs[i]\n",
    "    uᵢ₊₁ = dofs[i+1]\n",
    "    \n",
    "    # Definición de funciones hat anónimas para aproximar la solución\n",
    "    hatᵢ = x -> uᵢ*(1 - (x - xᵢ)/(xᵢ₊₁ - xᵢ))\n",
    "    hatᵢ₊₁ = x -> uᵢ₊₁*(x - xᵢ)/(xᵢ₊₁ - xᵢ)  \n",
    "    \n",
    "    # Definición de función anónima de error en L²\n",
    "    L = x -> (u_exact(x) - hatᵢ(x) - hatᵢ₊₁(x))^2\n",
    "    \n",
    "    # Definición de las derivadas de las funciones hat\n",
    "    dhatᵢ = x-> -uᵢ/(xᵢ₊₁ - xᵢ)\n",
    "    dhatᵢ₊₁ = x-> uᵢ₊₁/(xᵢ₊₁ - xᵢ)\n",
    "    \n",
    "    # Definición de función anónima de error en H¹\n",
    "    H = x -> (du_exact(x) - dhatᵢ(x) - dhatᵢ₊₁(x))^2\n",
    "        \n",
    "    # Cuadratura de Gauss para aproximar la integral\n",
    "        val_L² = cuadratura_gauss(L, xᵢ, xᵢ₊₁)\n",
    "        val_H¹ = cuadratura_gauss(H, xᵢ, xᵢ₊₁)\n",
    "    \n",
    "    return val_L², val_H¹\n",
    "end"
   ]
  },
  {
   "cell_type": "markdown",
   "id": "8983112c",
   "metadata": {},
   "source": [
    "### Ensamblado de la matriz A del problema de elementos finitos `ensamble_A`"
   ]
  },
  {
   "cell_type": "code",
   "execution_count": 5,
   "id": "3376c87c",
   "metadata": {},
   "outputs": [
    {
     "data": {
      "text/plain": [
       "ensamble_A"
      ]
     },
     "execution_count": 5,
     "metadata": {},
     "output_type": "execute_result"
    }
   ],
   "source": [
    "\"\"\"\n",
    "###    ensamble_A(x, n)\n",
    "\n",
    "Construye la matriz `A_global` de tamaño `(n+1)×(n+1)` del sistema de ecuaciones lineales\n",
    "`Au = b` correspondiente a la discretización del problema de valor de frontera dado.\n",
    "\n",
    "La matriz `A_global` es ensamblada a partir de una matriz local `A_local` de tamaño `2×2`\n",
    "que se construye para cada par de elementos consecutivos del vector `x`. \n",
    "\n",
    "### Input:\n",
    "\n",
    "- `x`: Vector con las coordenadas de los nodos de la malla equidistante.\n",
    "- `n`: Número de subintervalos en la malla (número de elementos finitos).\n",
    "\n",
    "### Output:\n",
    "\n",
    "- `A_global`: Matriz `A` del sistema de ecuaciones lineales `Au=b`.\n",
    "\n",
    "### Ejemplo:\n",
    "```julia\n",
    "n = 4\n",
    "x = range(0, stop=1, length=n+1)\n",
    "A = ensamble_A(x, n)\n",
    "```\n",
    "\"\"\"\n",
    "function ensamble_A(x, n)    \n",
    "    A_global = zeros(n+1, n+1) # Inicializar matriz A_global con ceros\n",
    "    A_local = zeros(2,2) # Inicializar matriz A_local con ceros \n",
    "\n",
    "    for i in 1:n\n",
    "        xᵢ = x[i] # Elemento i del vector x\n",
    "        xᵢ₊₁ = x[i+1] # Elemento i+1 del vector x\n",
    "\n",
    "        # Definición de funciones sombrero anónimas (y derivadas)       \n",
    "        φ⁻ᵢ = x -> (1 - (x - xᵢ)/(xᵢ₊₁ - xᵢ))\n",
    "        dφ⁻ᵢ = x -> -1/(xᵢ₊₁ - xᵢ)    \n",
    "        φ⁺ᵢ₊₁ = x -> (x - xᵢ)/(xᵢ₊₁ - xᵢ) \n",
    "        dφ⁺ᵢ₊₁ = x -> 1/(xᵢ₊₁ - xᵢ)\n",
    "        \n",
    "        # Funciones a integrar para calcular las entradas de A_local\n",
    "        I_1 = x-> dφ⁻ᵢ(x)*dφ⁻ᵢ(x) + dφ⁻ᵢ(x)*φ⁻ᵢ(x) + φ⁻ᵢ(x)*φ⁻ᵢ(x)\n",
    "        I_2 = x-> dφ⁻ᵢ(x)*dφ⁺ᵢ₊₁(x) + dφ⁻ᵢ(x)*φ⁺ᵢ₊₁(x) + φ⁻ᵢ(x)*φ⁺ᵢ₊₁(x)\n",
    "        I_3 = x-> dφ⁺ᵢ₊₁(x)*dφ⁻ᵢ(x) + dφ⁺ᵢ₊₁(x)*φ⁻ᵢ(x) + φ⁺ᵢ₊₁(x)*φ⁻ᵢ(x)\n",
    "        I_4 = x-> dφ⁺ᵢ₊₁(x)*dφ⁺ᵢ₊₁(x) + dφ⁺ᵢ₊₁(x)*φ⁺ᵢ₊₁(x) + φ⁺ᵢ₊₁(x)*φ⁺ᵢ₊₁(x)\n",
    "        \n",
    "        # Integración numérica para calcular las entradas de A_local\n",
    "        A_local[1,1] = cuadratura_gauss(I_1, xᵢ, xᵢ₊₁)\n",
    "        A_local[1,2] = cuadratura_gauss(I_2, xᵢ, xᵢ₊₁)\n",
    "        A_local[2,1] = cuadratura_gauss(I_3, xᵢ, xᵢ₊₁)\n",
    "        A_local[2,2] = cuadratura_gauss(I_4, xᵢ, xᵢ₊₁)\n",
    "\n",
    "\n",
    "        # Actualización de las entradas correspondientes de A_global\n",
    "        A_global[i,i] = A_global[i,i] + A_local[1,1]\n",
    "        A_global[i+1,i+1] = A_global[i+1,i+1] + A_local[2,2]\n",
    "\n",
    "        A_global[i,i+1] = A_global[i,i+1] + A_local[2,1]\n",
    "        A_global[i+1,i] = A_global[i+1,i] + A_local[1,2]      \n",
    "    end\n",
    "    # Imponer condición de frontera u(0)=1\n",
    "    A_global[1,1] = 1\n",
    "    A_global[1,2] = 0\n",
    "    \n",
    "    return A_global\n",
    "end"
   ]
  },
  {
   "cell_type": "markdown",
   "id": "d8700fd9",
   "metadata": {},
   "source": [
    "### Ensamblado del vector b del problema de elementos finitos `ensamble_b`"
   ]
  },
  {
   "cell_type": "code",
   "execution_count": 6,
   "id": "b6023b9f",
   "metadata": {},
   "outputs": [
    {
     "data": {
      "text/plain": [
       "ensamble_b"
      ]
     },
     "execution_count": 6,
     "metadata": {},
     "output_type": "execute_result"
    }
   ],
   "source": [
    "\"\"\"\n",
    "###    ensamble_b(x, n)\n",
    "\n",
    "Construye el vector `b` del sistema de ecuaciones lineales `Au = b` correspondiente\n",
    "a la discretización del problema de valor de frontera dado, en una malla de\n",
    "`n+1` nodos equidistantes en el intervalo `[0,1]`, utilizando el método\n",
    "de elementos finitos con funciones de forma lineales.\n",
    "\n",
    "### Input:\n",
    "\n",
    "- `x`: Vector con las coordenadas de los nodos de la malla equidistante.\n",
    "- `n`: Número de subintervalos en la malla (número de elementos finitos).\n",
    "\n",
    "### Output:\n",
    "\n",
    "- `b_global`: Vector `b` del sistema de ecuaciones lineales `Au = b`.\n",
    "\n",
    "### Ejemplo:\n",
    "```julia\n",
    "n = 4\n",
    "x = range(0, stop=1, length=n+1)\n",
    "b = ensamble_b(x, n)\n",
    "```\n",
    "\"\"\"\n",
    "function ensamble_b(x, n)\n",
    "    b_global = zeros(n+1, 1) # Vector b de tamaño n+1\n",
    "    b_local = zeros(2, 1) # Vector b_local de tamaño 2\n",
    "\n",
    "    for i in 1:n\n",
    "        xᵢ = x[i]           # Coordenada x del nodo i\n",
    "        xᵢ₊₁ = x[i+1]       # Coordenada x del nodo i+1\n",
    "\n",
    "        # Funciones de forma φ⁻ᵢ y φ⁺ᵢ₊₁\n",
    "        φᵢ⁻ = x -> 1 - (x-xᵢ)/(xᵢ₊₁-xᵢ)\n",
    "        φᵢ₊₁⁺ = x -> (x-xᵢ)/(xᵢ₊₁-xᵢ)\n",
    "        \n",
    "        # Función f(x), lado derecho de la ODE\n",
    "        f = x-> -2*exp(x) + 2*(1 - x)*exp(x) + exp(x)*(1 - x)^2\n",
    "\n",
    "        # Integración numérica para calcular las entradas de b_local\n",
    "        fφᵢ = x-> f(x)*φᵢ⁻(x)\n",
    "        fφᵢ₊₁ = x-> f(x)*φᵢ₊₁⁺(x)\n",
    "        \n",
    "        b_local[1] = cuadratura_gauss(fφᵢ, xᵢ, xᵢ₊₁)\n",
    "        b_local[2] = cuadratura_gauss(fφᵢ₊₁, xᵢ, xᵢ₊₁)\n",
    "\n",
    "        # Actualización de las entradas correspondientes de b_global\n",
    "        b_global[i] = b_global[i] + b_local[1]\n",
    "        b_global[i+1] = b_global[i+1] + b_local[2]\n",
    "    end\n",
    "\n",
    "    # Imponer condición de frontera u(0)=1\n",
    "    b_global[1] = 1\n",
    "\n",
    "    return b_global  # Retorna el vector b del sistema de ecuaciones lineales\n",
    "end"
   ]
  },
  {
   "cell_type": "markdown",
   "id": "c2187892",
   "metadata": {},
   "source": [
    "### Solución del problema dado utilizando el método de elementos finitos `solve_u`"
   ]
  },
  {
   "cell_type": "code",
   "execution_count": 7,
   "id": "678ec7a3",
   "metadata": {},
   "outputs": [
    {
     "data": {
      "text/plain": [
       "solve_u"
      ]
     },
     "execution_count": 7,
     "metadata": {},
     "output_type": "execute_result"
    }
   ],
   "source": [
    "\"\"\"\n",
    "###    solve_u(n, part = 1)\n",
    "\n",
    "La función `solve_u` resuelve el problema dado utilizando el método de elementos finitos. \n",
    "\n",
    "### Input:\n",
    "\n",
    "- `n`: el número de puntos de malla\n",
    "- `part`: argumento opcional\n",
    "    * si es igual a 1 utiliza una malla uniforme\n",
    "    * si es igual a 2 utiliza una malla no uniforme generada aleatoriamente.\n",
    "\n",
    "### Output:\n",
    "\n",
    "- `x`: malla utilizada en el cálculo.\n",
    "- `u_h`: vector con la solución aproximada\n",
    "\n",
    "\"\"\"\n",
    "function solve_u(n, part = 1)\n",
    "    # Definición de la malla x en función del valor del argumento part.\n",
    "    if part == 1\n",
    "        # Se crea un vector de n+1 puntos equidistantes en el intervalo [0,1]\n",
    "        x = LinRange(0, 1, n+1)\n",
    "    elseif part == 2\n",
    "        x = zeros(n+1, 1)\n",
    "        # Se crea un vector de n-1 puntos aleatorios en el intervalo (0,1)\n",
    "        x_in= sort!(collect(rand(n-1,1)), dims = 1)\n",
    "        # Se agregan los puntos extremos 0 y 1 al principio y al final del vector x.\n",
    "        x[1] = 0\n",
    "        x[2:n] = x_in\n",
    "        x[n+1] = 1\n",
    "    end\n",
    "    # Ensamblado de las matrices A y el vector b del problema de elementos finitos.\n",
    "    # Se utiliza la malla x y el número de puntos de malla como argumentos para estas funciones.\n",
    "    A_global = ensamble_A(x, n)\n",
    "    b_global = ensamble_b(x, n)\n",
    "    \n",
    "    # Se resuelve el sistema lineal A_global u_h = b_global utilizando el operador \\ de Julia\n",
    "    # El resultado de la función es un vector u_h con la solución aproximada\n",
    "    # El vector x que representa la malla utilizada en el cálculo.\n",
    "    u_h = A_global\\b_global\n",
    "return x, u_h\n",
    "end"
   ]
  },
  {
   "cell_type": "markdown",
   "id": "683cf93b",
   "metadata": {},
   "source": [
    "### Ejemplo"
   ]
  },
  {
   "cell_type": "code",
   "execution_count": 8,
   "id": "3b7aea7d",
   "metadata": {},
   "outputs": [],
   "source": [
    "# Cargamos paquete para graficar\n",
    "using Plots\n",
    "\n",
    "# Número de intervalos \n",
    "n = 30\n",
    "\n",
    "# Solución del problema con malla aleatoria\n",
    "x, u_h = solve_u(n,2);"
   ]
  },
  {
   "cell_type": "code",
   "execution_count": 9,
   "id": "2a0b06af",
   "metadata": {},
   "outputs": [
    {
     "data": {
      "image/svg+xml": [
       "<?xml version=\"1.0\" encoding=\"utf-8\"?>\n",
       "<svg xmlns=\"http://www.w3.org/2000/svg\" xmlns:xlink=\"http://www.w3.org/1999/xlink\" width=\"600\" height=\"400\" viewBox=\"0 0 2400 1600\">\n",
       "<defs>\n",
       "  <clipPath id=\"clip560\">\n",
       "    <rect x=\"0\" y=\"0\" width=\"2400\" height=\"1600\"/>\n",
       "  </clipPath>\n",
       "</defs>\n",
       "<path clip-path=\"url(#clip560)\" d=\"M0 1600 L2400 1600 L2400 0 L0 0  Z\" fill=\"#ffffff\" fill-rule=\"evenodd\" fill-opacity=\"1\"/>\n",
       "<defs>\n",
       "  <clipPath id=\"clip561\">\n",
       "    <rect x=\"480\" y=\"0\" width=\"1681\" height=\"1600\"/>\n",
       "  </clipPath>\n",
       "</defs>\n",
       "<path clip-path=\"url(#clip560)\" d=\"M186.274 1486.45 L2352.76 1486.45 L2352.76 47.2441 L186.274 47.2441  Z\" fill=\"#ffffff\" fill-rule=\"evenodd\" fill-opacity=\"1\"/>\n",
       "<defs>\n",
       "  <clipPath id=\"clip562\">\n",
       "    <rect x=\"186\" y=\"47\" width=\"2167\" height=\"1440\"/>\n",
       "  </clipPath>\n",
       "</defs>\n",
       "<polyline clip-path=\"url(#clip562)\" style=\"stroke:#000000; stroke-linecap:round; stroke-linejoin:round; stroke-width:2; stroke-opacity:0.1; fill:none\" points=\"247.59,1486.45 247.59,47.2441 \"/>\n",
       "<polyline clip-path=\"url(#clip562)\" style=\"stroke:#000000; stroke-linecap:round; stroke-linejoin:round; stroke-width:2; stroke-opacity:0.1; fill:none\" points=\"758.552,1486.45 758.552,47.2441 \"/>\n",
       "<polyline clip-path=\"url(#clip562)\" style=\"stroke:#000000; stroke-linecap:round; stroke-linejoin:round; stroke-width:2; stroke-opacity:0.1; fill:none\" points=\"1269.51,1486.45 1269.51,47.2441 \"/>\n",
       "<polyline clip-path=\"url(#clip562)\" style=\"stroke:#000000; stroke-linecap:round; stroke-linejoin:round; stroke-width:2; stroke-opacity:0.1; fill:none\" points=\"1780.48,1486.45 1780.48,47.2441 \"/>\n",
       "<polyline clip-path=\"url(#clip562)\" style=\"stroke:#000000; stroke-linecap:round; stroke-linejoin:round; stroke-width:2; stroke-opacity:0.1; fill:none\" points=\"2291.44,1486.45 2291.44,47.2441 \"/>\n",
       "<polyline clip-path=\"url(#clip560)\" style=\"stroke:#000000; stroke-linecap:round; stroke-linejoin:round; stroke-width:4; stroke-opacity:1; fill:none\" points=\"186.274,1486.45 2352.76,1486.45 \"/>\n",
       "<polyline clip-path=\"url(#clip560)\" style=\"stroke:#000000; stroke-linecap:round; stroke-linejoin:round; stroke-width:4; stroke-opacity:1; fill:none\" points=\"247.59,1486.45 247.59,1467.55 \"/>\n",
       "<polyline clip-path=\"url(#clip560)\" style=\"stroke:#000000; stroke-linecap:round; stroke-linejoin:round; stroke-width:4; stroke-opacity:1; fill:none\" points=\"758.552,1486.45 758.552,1467.55 \"/>\n",
       "<polyline clip-path=\"url(#clip560)\" style=\"stroke:#000000; stroke-linecap:round; stroke-linejoin:round; stroke-width:4; stroke-opacity:1; fill:none\" points=\"1269.51,1486.45 1269.51,1467.55 \"/>\n",
       "<polyline clip-path=\"url(#clip560)\" style=\"stroke:#000000; stroke-linecap:round; stroke-linejoin:round; stroke-width:4; stroke-opacity:1; fill:none\" points=\"1780.48,1486.45 1780.48,1467.55 \"/>\n",
       "<polyline clip-path=\"url(#clip560)\" style=\"stroke:#000000; stroke-linecap:round; stroke-linejoin:round; stroke-width:4; stroke-opacity:1; fill:none\" points=\"2291.44,1486.45 2291.44,1467.55 \"/>\n",
       "<path clip-path=\"url(#clip560)\" d=\"M209.893 1517.37 Q206.282 1517.37 204.453 1520.93 Q202.648 1524.47 202.648 1531.6 Q202.648 1538.71 204.453 1542.27 Q206.282 1545.82 209.893 1545.82 Q213.527 1545.82 215.333 1542.27 Q217.161 1538.71 217.161 1531.6 Q217.161 1524.47 215.333 1520.93 Q213.527 1517.37 209.893 1517.37 M209.893 1513.66 Q215.703 1513.66 218.759 1518.27 Q221.837 1522.85 221.837 1531.6 Q221.837 1540.33 218.759 1544.94 Q215.703 1549.52 209.893 1549.52 Q204.083 1549.52 201.004 1544.94 Q197.949 1540.33 197.949 1531.6 Q197.949 1522.85 201.004 1518.27 Q204.083 1513.66 209.893 1513.66 Z\" fill=\"#000000\" fill-rule=\"nonzero\" fill-opacity=\"1\" /><path clip-path=\"url(#clip560)\" d=\"M230.055 1542.97 L234.939 1542.97 L234.939 1548.85 L230.055 1548.85 L230.055 1542.97 Z\" fill=\"#000000\" fill-rule=\"nonzero\" fill-opacity=\"1\" /><path clip-path=\"url(#clip560)\" d=\"M255.124 1517.37 Q251.513 1517.37 249.684 1520.93 Q247.879 1524.47 247.879 1531.6 Q247.879 1538.71 249.684 1542.27 Q251.513 1545.82 255.124 1545.82 Q258.758 1545.82 260.564 1542.27 Q262.393 1538.71 262.393 1531.6 Q262.393 1524.47 260.564 1520.93 Q258.758 1517.37 255.124 1517.37 M255.124 1513.66 Q260.934 1513.66 263.99 1518.27 Q267.069 1522.85 267.069 1531.6 Q267.069 1540.33 263.99 1544.94 Q260.934 1549.52 255.124 1549.52 Q249.314 1549.52 246.235 1544.94 Q243.18 1540.33 243.18 1531.6 Q243.18 1522.85 246.235 1518.27 Q249.314 1513.66 255.124 1513.66 Z\" fill=\"#000000\" fill-rule=\"nonzero\" fill-opacity=\"1\" /><path clip-path=\"url(#clip560)\" d=\"M285.286 1517.37 Q281.675 1517.37 279.846 1520.93 Q278.041 1524.47 278.041 1531.6 Q278.041 1538.71 279.846 1542.27 Q281.675 1545.82 285.286 1545.82 Q288.92 1545.82 290.726 1542.27 Q292.555 1538.71 292.555 1531.6 Q292.555 1524.47 290.726 1520.93 Q288.92 1517.37 285.286 1517.37 M285.286 1513.66 Q291.096 1513.66 294.152 1518.27 Q297.23 1522.85 297.23 1531.6 Q297.23 1540.33 294.152 1544.94 Q291.096 1549.52 285.286 1549.52 Q279.476 1549.52 276.397 1544.94 Q273.342 1540.33 273.342 1531.6 Q273.342 1522.85 276.397 1518.27 Q279.476 1513.66 285.286 1513.66 Z\" fill=\"#000000\" fill-rule=\"nonzero\" fill-opacity=\"1\" /><path clip-path=\"url(#clip560)\" d=\"M721.353 1517.37 Q717.742 1517.37 715.914 1520.93 Q714.108 1524.47 714.108 1531.6 Q714.108 1538.71 715.914 1542.27 Q717.742 1545.82 721.353 1545.82 Q724.988 1545.82 726.793 1542.27 Q728.622 1538.71 728.622 1531.6 Q728.622 1524.47 726.793 1520.93 Q724.988 1517.37 721.353 1517.37 M721.353 1513.66 Q727.164 1513.66 730.219 1518.27 Q733.298 1522.85 733.298 1531.6 Q733.298 1540.33 730.219 1544.94 Q727.164 1549.52 721.353 1549.52 Q715.543 1549.52 712.465 1544.94 Q709.409 1540.33 709.409 1531.6 Q709.409 1522.85 712.465 1518.27 Q715.543 1513.66 721.353 1513.66 Z\" fill=\"#000000\" fill-rule=\"nonzero\" fill-opacity=\"1\" /><path clip-path=\"url(#clip560)\" d=\"M741.515 1542.97 L746.4 1542.97 L746.4 1548.85 L741.515 1548.85 L741.515 1542.97 Z\" fill=\"#000000\" fill-rule=\"nonzero\" fill-opacity=\"1\" /><path clip-path=\"url(#clip560)\" d=\"M760.612 1544.91 L776.932 1544.91 L776.932 1548.85 L754.987 1548.85 L754.987 1544.91 Q757.649 1542.16 762.233 1537.53 Q766.839 1532.88 768.02 1531.53 Q770.265 1529.01 771.145 1527.27 Q772.048 1525.51 772.048 1523.82 Q772.048 1521.07 770.103 1519.33 Q768.182 1517.6 765.08 1517.6 Q762.881 1517.6 760.427 1518.36 Q757.997 1519.13 755.219 1520.68 L755.219 1515.95 Q758.043 1514.82 760.497 1514.24 Q762.95 1513.66 764.987 1513.66 Q770.358 1513.66 773.552 1516.35 Q776.747 1519.03 776.747 1523.52 Q776.747 1525.65 775.936 1527.57 Q775.149 1529.47 773.043 1532.07 Q772.464 1532.74 769.362 1535.95 Q766.261 1539.15 760.612 1544.91 Z\" fill=\"#000000\" fill-rule=\"nonzero\" fill-opacity=\"1\" /><path clip-path=\"url(#clip560)\" d=\"M786.793 1514.29 L805.149 1514.29 L805.149 1518.22 L791.075 1518.22 L791.075 1526.7 Q792.094 1526.35 793.112 1526.19 Q794.131 1526 795.149 1526 Q800.936 1526 804.316 1529.17 Q807.695 1532.34 807.695 1537.76 Q807.695 1543.34 804.223 1546.44 Q800.751 1549.52 794.432 1549.52 Q792.256 1549.52 789.987 1549.15 Q787.742 1548.78 785.335 1548.04 L785.335 1543.34 Q787.418 1544.47 789.64 1545.03 Q791.862 1545.58 794.339 1545.58 Q798.344 1545.58 800.682 1543.48 Q803.02 1541.37 803.02 1537.76 Q803.02 1534.15 800.682 1532.04 Q798.344 1529.94 794.339 1529.94 Q792.464 1529.94 790.589 1530.35 Q788.737 1530.77 786.793 1531.65 L786.793 1514.29 Z\" fill=\"#000000\" fill-rule=\"nonzero\" fill-opacity=\"1\" /><path clip-path=\"url(#clip560)\" d=\"M1231.82 1517.37 Q1228.21 1517.37 1226.38 1520.93 Q1224.57 1524.47 1224.57 1531.6 Q1224.57 1538.71 1226.38 1542.27 Q1228.21 1545.82 1231.82 1545.82 Q1235.45 1545.82 1237.26 1542.27 Q1239.09 1538.71 1239.09 1531.6 Q1239.09 1524.47 1237.26 1520.93 Q1235.45 1517.37 1231.82 1517.37 M1231.82 1513.66 Q1237.63 1513.66 1240.68 1518.27 Q1243.76 1522.85 1243.76 1531.6 Q1243.76 1540.33 1240.68 1544.94 Q1237.63 1549.52 1231.82 1549.52 Q1226.01 1549.52 1222.93 1544.94 Q1219.87 1540.33 1219.87 1531.6 Q1219.87 1522.85 1222.93 1518.27 Q1226.01 1513.66 1231.82 1513.66 Z\" fill=\"#000000\" fill-rule=\"nonzero\" fill-opacity=\"1\" /><path clip-path=\"url(#clip560)\" d=\"M1251.98 1542.97 L1256.86 1542.97 L1256.86 1548.85 L1251.98 1548.85 L1251.98 1542.97 Z\" fill=\"#000000\" fill-rule=\"nonzero\" fill-opacity=\"1\" /><path clip-path=\"url(#clip560)\" d=\"M1267.1 1514.29 L1285.45 1514.29 L1285.45 1518.22 L1271.38 1518.22 L1271.38 1526.7 Q1272.4 1526.35 1273.42 1526.19 Q1274.43 1526 1275.45 1526 Q1281.24 1526 1284.62 1529.17 Q1288 1532.34 1288 1537.76 Q1288 1543.34 1284.53 1546.44 Q1281.05 1549.52 1274.73 1549.52 Q1272.56 1549.52 1270.29 1549.15 Q1268.05 1548.78 1265.64 1548.04 L1265.64 1543.34 Q1267.72 1544.47 1269.94 1545.03 Q1272.17 1545.58 1274.64 1545.58 Q1278.65 1545.58 1280.98 1543.48 Q1283.32 1541.37 1283.32 1537.76 Q1283.32 1534.15 1280.98 1532.04 Q1278.65 1529.94 1274.64 1529.94 Q1272.77 1529.94 1270.89 1530.35 Q1269.04 1530.77 1267.1 1531.65 L1267.1 1514.29 Z\" fill=\"#000000\" fill-rule=\"nonzero\" fill-opacity=\"1\" /><path clip-path=\"url(#clip560)\" d=\"M1307.21 1517.37 Q1303.6 1517.37 1301.77 1520.93 Q1299.97 1524.47 1299.97 1531.6 Q1299.97 1538.71 1301.77 1542.27 Q1303.6 1545.82 1307.21 1545.82 Q1310.85 1545.82 1312.65 1542.27 Q1314.48 1538.71 1314.48 1531.6 Q1314.48 1524.47 1312.65 1520.93 Q1310.85 1517.37 1307.21 1517.37 M1307.21 1513.66 Q1313.02 1513.66 1316.08 1518.27 Q1319.16 1522.85 1319.16 1531.6 Q1319.16 1540.33 1316.08 1544.94 Q1313.02 1549.52 1307.21 1549.52 Q1301.4 1549.52 1298.32 1544.94 Q1295.27 1540.33 1295.27 1531.6 Q1295.27 1522.85 1298.32 1518.27 Q1301.4 1513.66 1307.21 1513.66 Z\" fill=\"#000000\" fill-rule=\"nonzero\" fill-opacity=\"1\" /><path clip-path=\"url(#clip560)\" d=\"M1743.28 1517.37 Q1739.67 1517.37 1737.84 1520.93 Q1736.03 1524.47 1736.03 1531.6 Q1736.03 1538.71 1737.84 1542.27 Q1739.67 1545.82 1743.28 1545.82 Q1746.91 1545.82 1748.72 1542.27 Q1750.55 1538.71 1750.55 1531.6 Q1750.55 1524.47 1748.72 1520.93 Q1746.91 1517.37 1743.28 1517.37 M1743.28 1513.66 Q1749.09 1513.66 1752.14 1518.27 Q1755.22 1522.85 1755.22 1531.6 Q1755.22 1540.33 1752.14 1544.94 Q1749.09 1549.52 1743.28 1549.52 Q1737.47 1549.52 1734.39 1544.94 Q1731.33 1540.33 1731.33 1531.6 Q1731.33 1522.85 1734.39 1518.27 Q1737.47 1513.66 1743.28 1513.66 Z\" fill=\"#000000\" fill-rule=\"nonzero\" fill-opacity=\"1\" /><path clip-path=\"url(#clip560)\" d=\"M1763.44 1542.97 L1768.32 1542.97 L1768.32 1548.85 L1763.44 1548.85 L1763.44 1542.97 Z\" fill=\"#000000\" fill-rule=\"nonzero\" fill-opacity=\"1\" /><path clip-path=\"url(#clip560)\" d=\"M1777.33 1514.29 L1799.55 1514.29 L1799.55 1516.28 L1787.01 1548.85 L1782.12 1548.85 L1793.93 1518.22 L1777.33 1518.22 L1777.33 1514.29 Z\" fill=\"#000000\" fill-rule=\"nonzero\" fill-opacity=\"1\" /><path clip-path=\"url(#clip560)\" d=\"M1808.72 1514.29 L1827.07 1514.29 L1827.07 1518.22 L1813 1518.22 L1813 1526.7 Q1814.02 1526.35 1815.04 1526.19 Q1816.06 1526 1817.07 1526 Q1822.86 1526 1826.24 1529.17 Q1829.62 1532.34 1829.62 1537.76 Q1829.62 1543.34 1826.15 1546.44 Q1822.68 1549.52 1816.36 1549.52 Q1814.18 1549.52 1811.91 1549.15 Q1809.67 1548.78 1807.26 1548.04 L1807.26 1543.34 Q1809.34 1544.47 1811.57 1545.03 Q1813.79 1545.58 1816.26 1545.58 Q1820.27 1545.58 1822.61 1543.48 Q1824.95 1541.37 1824.95 1537.76 Q1824.95 1534.15 1822.61 1532.04 Q1820.27 1529.94 1816.26 1529.94 Q1814.39 1529.94 1812.51 1530.35 Q1810.66 1530.77 1808.72 1531.65 L1808.72 1514.29 Z\" fill=\"#000000\" fill-rule=\"nonzero\" fill-opacity=\"1\" /><path clip-path=\"url(#clip560)\" d=\"M2243.51 1544.91 L2251.15 1544.91 L2251.15 1518.55 L2242.84 1520.21 L2242.84 1515.95 L2251.1 1514.29 L2255.78 1514.29 L2255.78 1544.91 L2263.42 1544.91 L2263.42 1548.85 L2243.51 1548.85 L2243.51 1544.91 Z\" fill=\"#000000\" fill-rule=\"nonzero\" fill-opacity=\"1\" /><path clip-path=\"url(#clip560)\" d=\"M2272.86 1542.97 L2277.75 1542.97 L2277.75 1548.85 L2272.86 1548.85 L2272.86 1542.97 Z\" fill=\"#000000\" fill-rule=\"nonzero\" fill-opacity=\"1\" /><path clip-path=\"url(#clip560)\" d=\"M2297.93 1517.37 Q2294.32 1517.37 2292.49 1520.93 Q2290.69 1524.47 2290.69 1531.6 Q2290.69 1538.71 2292.49 1542.27 Q2294.32 1545.82 2297.93 1545.82 Q2301.57 1545.82 2303.37 1542.27 Q2305.2 1538.71 2305.2 1531.6 Q2305.2 1524.47 2303.37 1520.93 Q2301.57 1517.37 2297.93 1517.37 M2297.93 1513.66 Q2303.74 1513.66 2306.8 1518.27 Q2309.88 1522.85 2309.88 1531.6 Q2309.88 1540.33 2306.8 1544.94 Q2303.74 1549.52 2297.93 1549.52 Q2292.12 1549.52 2289.04 1544.94 Q2285.99 1540.33 2285.99 1531.6 Q2285.99 1522.85 2289.04 1518.27 Q2292.12 1513.66 2297.93 1513.66 Z\" fill=\"#000000\" fill-rule=\"nonzero\" fill-opacity=\"1\" /><path clip-path=\"url(#clip560)\" d=\"M2328.1 1517.37 Q2324.48 1517.37 2322.66 1520.93 Q2320.85 1524.47 2320.85 1531.6 Q2320.85 1538.71 2322.66 1542.27 Q2324.48 1545.82 2328.1 1545.82 Q2331.73 1545.82 2333.54 1542.27 Q2335.36 1538.71 2335.36 1531.6 Q2335.36 1524.47 2333.54 1520.93 Q2331.73 1517.37 2328.1 1517.37 M2328.1 1513.66 Q2333.91 1513.66 2336.96 1518.27 Q2340.04 1522.85 2340.04 1531.6 Q2340.04 1540.33 2336.96 1544.94 Q2333.91 1549.52 2328.1 1549.52 Q2322.29 1549.52 2319.21 1544.94 Q2316.15 1540.33 2316.15 1531.6 Q2316.15 1522.85 2319.21 1518.27 Q2322.29 1513.66 2328.1 1513.66 Z\" fill=\"#000000\" fill-rule=\"nonzero\" fill-opacity=\"1\" /><polyline clip-path=\"url(#clip562)\" style=\"stroke:#000000; stroke-linecap:round; stroke-linejoin:round; stroke-width:2; stroke-opacity:0.1; fill:none\" points=\"186.274,1445.72 2352.76,1445.72 \"/>\n",
       "<polyline clip-path=\"url(#clip562)\" style=\"stroke:#000000; stroke-linecap:round; stroke-linejoin:round; stroke-width:2; stroke-opacity:0.1; fill:none\" points=\"186.274,1106.28 2352.76,1106.28 \"/>\n",
       "<polyline clip-path=\"url(#clip562)\" style=\"stroke:#000000; stroke-linecap:round; stroke-linejoin:round; stroke-width:2; stroke-opacity:0.1; fill:none\" points=\"186.274,766.846 2352.76,766.846 \"/>\n",
       "<polyline clip-path=\"url(#clip562)\" style=\"stroke:#000000; stroke-linecap:round; stroke-linejoin:round; stroke-width:2; stroke-opacity:0.1; fill:none\" points=\"186.274,427.411 2352.76,427.411 \"/>\n",
       "<polyline clip-path=\"url(#clip562)\" style=\"stroke:#000000; stroke-linecap:round; stroke-linejoin:round; stroke-width:2; stroke-opacity:0.1; fill:none\" points=\"186.274,87.9763 2352.76,87.9763 \"/>\n",
       "<polyline clip-path=\"url(#clip560)\" style=\"stroke:#000000; stroke-linecap:round; stroke-linejoin:round; stroke-width:4; stroke-opacity:1; fill:none\" points=\"186.274,1486.45 186.274,47.2441 \"/>\n",
       "<polyline clip-path=\"url(#clip560)\" style=\"stroke:#000000; stroke-linecap:round; stroke-linejoin:round; stroke-width:4; stroke-opacity:1; fill:none\" points=\"186.274,1445.72 205.172,1445.72 \"/>\n",
       "<polyline clip-path=\"url(#clip560)\" style=\"stroke:#000000; stroke-linecap:round; stroke-linejoin:round; stroke-width:4; stroke-opacity:1; fill:none\" points=\"186.274,1106.28 205.172,1106.28 \"/>\n",
       "<polyline clip-path=\"url(#clip560)\" style=\"stroke:#000000; stroke-linecap:round; stroke-linejoin:round; stroke-width:4; stroke-opacity:1; fill:none\" points=\"186.274,766.846 205.172,766.846 \"/>\n",
       "<polyline clip-path=\"url(#clip560)\" style=\"stroke:#000000; stroke-linecap:round; stroke-linejoin:round; stroke-width:4; stroke-opacity:1; fill:none\" points=\"186.274,427.411 205.172,427.411 \"/>\n",
       "<polyline clip-path=\"url(#clip560)\" style=\"stroke:#000000; stroke-linecap:round; stroke-linejoin:round; stroke-width:4; stroke-opacity:1; fill:none\" points=\"186.274,87.9763 205.172,87.9763 \"/>\n",
       "<path clip-path=\"url(#clip560)\" d=\"M62.9365 1431.51 Q59.3254 1431.51 57.4967 1435.08 Q55.6912 1438.62 55.6912 1445.75 Q55.6912 1452.86 57.4967 1456.42 Q59.3254 1459.96 62.9365 1459.96 Q66.5707 1459.96 68.3763 1456.42 Q70.205 1452.86 70.205 1445.75 Q70.205 1438.62 68.3763 1435.08 Q66.5707 1431.51 62.9365 1431.51 M62.9365 1427.81 Q68.7467 1427.81 71.8022 1432.42 Q74.8809 1437 74.8809 1445.75 Q74.8809 1454.48 71.8022 1459.08 Q68.7467 1463.67 62.9365 1463.67 Q57.1264 1463.67 54.0477 1459.08 Q50.9921 1454.48 50.9921 1445.75 Q50.9921 1437 54.0477 1432.42 Q57.1264 1427.81 62.9365 1427.81 Z\" fill=\"#000000\" fill-rule=\"nonzero\" fill-opacity=\"1\" /><path clip-path=\"url(#clip560)\" d=\"M83.0984 1457.12 L87.9827 1457.12 L87.9827 1463 L83.0984 1463 L83.0984 1457.12 Z\" fill=\"#000000\" fill-rule=\"nonzero\" fill-opacity=\"1\" /><path clip-path=\"url(#clip560)\" d=\"M108.168 1431.51 Q104.557 1431.51 102.728 1435.08 Q100.922 1438.62 100.922 1445.75 Q100.922 1452.86 102.728 1456.42 Q104.557 1459.96 108.168 1459.96 Q111.802 1459.96 113.608 1456.42 Q115.436 1452.86 115.436 1445.75 Q115.436 1438.62 113.608 1435.08 Q111.802 1431.51 108.168 1431.51 M108.168 1427.81 Q113.978 1427.81 117.033 1432.42 Q120.112 1437 120.112 1445.75 Q120.112 1454.48 117.033 1459.08 Q113.978 1463.67 108.168 1463.67 Q102.358 1463.67 99.2789 1459.08 Q96.2234 1454.48 96.2234 1445.75 Q96.2234 1437 99.2789 1432.42 Q102.358 1427.81 108.168 1427.81 Z\" fill=\"#000000\" fill-rule=\"nonzero\" fill-opacity=\"1\" /><path clip-path=\"url(#clip560)\" d=\"M138.33 1431.51 Q134.719 1431.51 132.89 1435.08 Q131.084 1438.62 131.084 1445.75 Q131.084 1452.86 132.89 1456.42 Q134.719 1459.96 138.33 1459.96 Q141.964 1459.96 143.769 1456.42 Q145.598 1452.86 145.598 1445.75 Q145.598 1438.62 143.769 1435.08 Q141.964 1431.51 138.33 1431.51 M138.33 1427.81 Q144.14 1427.81 147.195 1432.42 Q150.274 1437 150.274 1445.75 Q150.274 1454.48 147.195 1459.08 Q144.14 1463.67 138.33 1463.67 Q132.519 1463.67 129.441 1459.08 Q126.385 1454.48 126.385 1445.75 Q126.385 1437 129.441 1432.42 Q132.519 1427.81 138.33 1427.81 Z\" fill=\"#000000\" fill-rule=\"nonzero\" fill-opacity=\"1\" /><path clip-path=\"url(#clip560)\" d=\"M63.9319 1092.08 Q60.3208 1092.08 58.4921 1095.64 Q56.6865 1099.19 56.6865 1106.32 Q56.6865 1113.42 58.4921 1116.99 Q60.3208 1120.53 63.9319 1120.53 Q67.5661 1120.53 69.3717 1116.99 Q71.2004 1113.42 71.2004 1106.32 Q71.2004 1099.19 69.3717 1095.64 Q67.5661 1092.08 63.9319 1092.08 M63.9319 1088.38 Q69.742 1088.38 72.7976 1092.98 Q75.8763 1097.57 75.8763 1106.32 Q75.8763 1115.04 72.7976 1119.65 Q69.742 1124.23 63.9319 1124.23 Q58.1217 1124.23 55.043 1119.65 Q51.9875 1115.04 51.9875 1106.32 Q51.9875 1097.57 55.043 1092.98 Q58.1217 1088.38 63.9319 1088.38 Z\" fill=\"#000000\" fill-rule=\"nonzero\" fill-opacity=\"1\" /><path clip-path=\"url(#clip560)\" d=\"M84.0938 1117.68 L88.978 1117.68 L88.978 1123.56 L84.0938 1123.56 L84.0938 1117.68 Z\" fill=\"#000000\" fill-rule=\"nonzero\" fill-opacity=\"1\" /><path clip-path=\"url(#clip560)\" d=\"M103.191 1119.63 L119.51 1119.63 L119.51 1123.56 L97.566 1123.56 L97.566 1119.63 Q100.228 1116.87 104.811 1112.24 Q109.418 1107.59 110.598 1106.25 Q112.844 1103.72 113.723 1101.99 Q114.626 1100.23 114.626 1098.54 Q114.626 1095.78 112.682 1094.05 Q110.76 1092.31 107.658 1092.31 Q105.459 1092.31 103.006 1093.07 Q100.575 1093.84 97.7974 1095.39 L97.7974 1090.67 Q100.621 1089.53 103.075 1088.95 Q105.529 1088.38 107.566 1088.38 Q112.936 1088.38 116.131 1091.06 Q119.325 1093.75 119.325 1098.24 Q119.325 1100.37 118.515 1102.29 Q117.728 1104.19 115.621 1106.78 Q115.043 1107.45 111.941 1110.67 Q108.839 1113.86 103.191 1119.63 Z\" fill=\"#000000\" fill-rule=\"nonzero\" fill-opacity=\"1\" /><path clip-path=\"url(#clip560)\" d=\"M129.371 1089 L147.728 1089 L147.728 1092.94 L133.654 1092.94 L133.654 1101.41 Q134.672 1101.06 135.691 1100.9 Q136.709 1100.71 137.728 1100.71 Q143.515 1100.71 146.894 1103.89 Q150.274 1107.06 150.274 1112.47 Q150.274 1118.05 146.802 1121.15 Q143.33 1124.23 137.01 1124.23 Q134.834 1124.23 132.566 1123.86 Q130.32 1123.49 127.913 1122.75 L127.913 1118.05 Q129.996 1119.19 132.219 1119.74 Q134.441 1120.3 136.918 1120.3 Q140.922 1120.3 143.26 1118.19 Q145.598 1116.08 145.598 1112.47 Q145.598 1108.86 143.26 1106.76 Q140.922 1104.65 136.918 1104.65 Q135.043 1104.65 133.168 1105.07 Q131.316 1105.48 129.371 1106.36 L129.371 1089 Z\" fill=\"#000000\" fill-rule=\"nonzero\" fill-opacity=\"1\" /><path clip-path=\"url(#clip560)\" d=\"M62.9365 752.645 Q59.3254 752.645 57.4967 756.209 Q55.6912 759.751 55.6912 766.881 Q55.6912 773.987 57.4967 777.552 Q59.3254 781.094 62.9365 781.094 Q66.5707 781.094 68.3763 777.552 Q70.205 773.987 70.205 766.881 Q70.205 759.751 68.3763 756.209 Q66.5707 752.645 62.9365 752.645 M62.9365 748.941 Q68.7467 748.941 71.8022 753.547 Q74.8809 758.131 74.8809 766.881 Q74.8809 775.608 71.8022 780.214 Q68.7467 784.797 62.9365 784.797 Q57.1264 784.797 54.0477 780.214 Q50.9921 775.608 50.9921 766.881 Q50.9921 758.131 54.0477 753.547 Q57.1264 748.941 62.9365 748.941 Z\" fill=\"#000000\" fill-rule=\"nonzero\" fill-opacity=\"1\" /><path clip-path=\"url(#clip560)\" d=\"M83.0984 778.246 L87.9827 778.246 L87.9827 784.126 L83.0984 784.126 L83.0984 778.246 Z\" fill=\"#000000\" fill-rule=\"nonzero\" fill-opacity=\"1\" /><path clip-path=\"url(#clip560)\" d=\"M98.2141 749.566 L116.57 749.566 L116.57 753.501 L102.496 753.501 L102.496 761.973 Q103.515 761.626 104.534 761.464 Q105.552 761.279 106.571 761.279 Q112.358 761.279 115.737 764.45 Q119.117 767.621 119.117 773.038 Q119.117 778.617 115.645 781.719 Q112.172 784.797 105.853 784.797 Q103.677 784.797 101.409 784.427 Q99.1632 784.057 96.7558 783.316 L96.7558 778.617 Q98.8391 779.751 101.061 780.307 Q103.284 780.862 105.76 780.862 Q109.765 780.862 112.103 778.756 Q114.441 776.649 114.441 773.038 Q114.441 769.427 112.103 767.321 Q109.765 765.214 105.76 765.214 Q103.885 765.214 102.01 765.631 Q100.159 766.047 98.2141 766.927 L98.2141 749.566 Z\" fill=\"#000000\" fill-rule=\"nonzero\" fill-opacity=\"1\" /><path clip-path=\"url(#clip560)\" d=\"M138.33 752.645 Q134.719 752.645 132.89 756.209 Q131.084 759.751 131.084 766.881 Q131.084 773.987 132.89 777.552 Q134.719 781.094 138.33 781.094 Q141.964 781.094 143.769 777.552 Q145.598 773.987 145.598 766.881 Q145.598 759.751 143.769 756.209 Q141.964 752.645 138.33 752.645 M138.33 748.941 Q144.14 748.941 147.195 753.547 Q150.274 758.131 150.274 766.881 Q150.274 775.608 147.195 780.214 Q144.14 784.797 138.33 784.797 Q132.519 784.797 129.441 780.214 Q126.385 775.608 126.385 766.881 Q126.385 758.131 129.441 753.547 Q132.519 748.941 138.33 748.941 Z\" fill=\"#000000\" fill-rule=\"nonzero\" fill-opacity=\"1\" /><path clip-path=\"url(#clip560)\" d=\"M63.9319 413.21 Q60.3208 413.21 58.4921 416.775 Q56.6865 420.316 56.6865 427.446 Q56.6865 434.552 58.4921 438.117 Q60.3208 441.659 63.9319 441.659 Q67.5661 441.659 69.3717 438.117 Q71.2004 434.552 71.2004 427.446 Q71.2004 420.316 69.3717 416.775 Q67.5661 413.21 63.9319 413.21 M63.9319 409.506 Q69.742 409.506 72.7976 414.113 Q75.8763 418.696 75.8763 427.446 Q75.8763 436.173 72.7976 440.779 Q69.742 445.362 63.9319 445.362 Q58.1217 445.362 55.043 440.779 Q51.9875 436.173 51.9875 427.446 Q51.9875 418.696 55.043 414.113 Q58.1217 409.506 63.9319 409.506 Z\" fill=\"#000000\" fill-rule=\"nonzero\" fill-opacity=\"1\" /><path clip-path=\"url(#clip560)\" d=\"M84.0938 438.812 L88.978 438.812 L88.978 444.691 L84.0938 444.691 L84.0938 438.812 Z\" fill=\"#000000\" fill-rule=\"nonzero\" fill-opacity=\"1\" /><path clip-path=\"url(#clip560)\" d=\"M97.9826 410.131 L120.205 410.131 L120.205 412.122 L107.658 444.691 L102.774 444.691 L114.58 414.066 L97.9826 414.066 L97.9826 410.131 Z\" fill=\"#000000\" fill-rule=\"nonzero\" fill-opacity=\"1\" /><path clip-path=\"url(#clip560)\" d=\"M129.371 410.131 L147.728 410.131 L147.728 414.066 L133.654 414.066 L133.654 422.538 Q134.672 422.191 135.691 422.029 Q136.709 421.844 137.728 421.844 Q143.515 421.844 146.894 425.015 Q150.274 428.187 150.274 433.603 Q150.274 439.182 146.802 442.284 Q143.33 445.362 137.01 445.362 Q134.834 445.362 132.566 444.992 Q130.32 444.622 127.913 443.881 L127.913 439.182 Q129.996 440.316 132.219 440.872 Q134.441 441.427 136.918 441.427 Q140.922 441.427 143.26 439.321 Q145.598 437.214 145.598 433.603 Q145.598 429.992 143.26 427.886 Q140.922 425.779 136.918 425.779 Q135.043 425.779 133.168 426.196 Q131.316 426.613 129.371 427.492 L129.371 410.131 Z\" fill=\"#000000\" fill-rule=\"nonzero\" fill-opacity=\"1\" /><path clip-path=\"url(#clip560)\" d=\"M53.7467 101.321 L61.3856 101.321 L61.3856 74.9555 L53.0754 76.6222 L53.0754 72.3629 L61.3393 70.6963 L66.0152 70.6963 L66.0152 101.321 L73.654 101.321 L73.654 105.256 L53.7467 105.256 L53.7467 101.321 Z\" fill=\"#000000\" fill-rule=\"nonzero\" fill-opacity=\"1\" /><path clip-path=\"url(#clip560)\" d=\"M83.0984 99.3767 L87.9827 99.3767 L87.9827 105.256 L83.0984 105.256 L83.0984 99.3767 Z\" fill=\"#000000\" fill-rule=\"nonzero\" fill-opacity=\"1\" /><path clip-path=\"url(#clip560)\" d=\"M108.168 73.775 Q104.557 73.775 102.728 77.3398 Q100.922 80.8814 100.922 88.011 Q100.922 95.1174 102.728 98.6822 Q104.557 102.224 108.168 102.224 Q111.802 102.224 113.608 98.6822 Q115.436 95.1174 115.436 88.011 Q115.436 80.8814 113.608 77.3398 Q111.802 73.775 108.168 73.775 M108.168 70.0713 Q113.978 70.0713 117.033 74.6777 Q120.112 79.261 120.112 88.011 Q120.112 96.7378 117.033 101.344 Q113.978 105.928 108.168 105.928 Q102.358 105.928 99.2789 101.344 Q96.2234 96.7378 96.2234 88.011 Q96.2234 79.261 99.2789 74.6777 Q102.358 70.0713 108.168 70.0713 Z\" fill=\"#000000\" fill-rule=\"nonzero\" fill-opacity=\"1\" /><path clip-path=\"url(#clip560)\" d=\"M138.33 73.775 Q134.719 73.775 132.89 77.3398 Q131.084 80.8814 131.084 88.011 Q131.084 95.1174 132.89 98.6822 Q134.719 102.224 138.33 102.224 Q141.964 102.224 143.769 98.6822 Q145.598 95.1174 145.598 88.011 Q145.598 80.8814 143.769 77.3398 Q141.964 73.775 138.33 73.775 M138.33 70.0713 Q144.14 70.0713 147.195 74.6777 Q150.274 79.261 150.274 88.011 Q150.274 96.7378 147.195 101.344 Q144.14 105.928 138.33 105.928 Q132.519 105.928 129.441 101.344 Q126.385 96.7378 126.385 88.011 Q126.385 79.261 129.441 74.6777 Q132.519 70.0713 138.33 70.0713 Z\" fill=\"#000000\" fill-rule=\"nonzero\" fill-opacity=\"1\" /><circle clip-path=\"url(#clip562)\" cx=\"247.59\" cy=\"87.9763\" r=\"14.4\" fill=\"#009af9\" fill-rule=\"evenodd\" fill-opacity=\"1\" stroke=\"#000000\" stroke-opacity=\"1\" stroke-width=\"3.2\"/>\n",
       "<circle clip-path=\"url(#clip562)\" cx=\"265.487\" cy=\"99.9361\" r=\"14.4\" fill=\"#009af9\" fill-rule=\"evenodd\" fill-opacity=\"1\" stroke=\"#000000\" stroke-opacity=\"1\" stroke-width=\"3.2\"/>\n",
       "<circle clip-path=\"url(#clip562)\" cx=\"273.693\" cy=\"105.454\" r=\"14.4\" fill=\"#009af9\" fill-rule=\"evenodd\" fill-opacity=\"1\" stroke=\"#000000\" stroke-opacity=\"1\" stroke-width=\"3.2\"/>\n",
       "<circle clip-path=\"url(#clip562)\" cx=\"326.146\" cy=\"141.234\" r=\"14.4\" fill=\"#009af9\" fill-rule=\"evenodd\" fill-opacity=\"1\" stroke=\"#000000\" stroke-opacity=\"1\" stroke-width=\"3.2\"/>\n",
       "<circle clip-path=\"url(#clip562)\" cx=\"331.944\" cy=\"145.242\" r=\"14.4\" fill=\"#009af9\" fill-rule=\"evenodd\" fill-opacity=\"1\" stroke=\"#000000\" stroke-opacity=\"1\" stroke-width=\"3.2\"/>\n",
       "<circle clip-path=\"url(#clip562)\" cx=\"360.944\" cy=\"165.446\" r=\"14.4\" fill=\"#009af9\" fill-rule=\"evenodd\" fill-opacity=\"1\" stroke=\"#000000\" stroke-opacity=\"1\" stroke-width=\"3.2\"/>\n",
       "<circle clip-path=\"url(#clip562)\" cx=\"370.726\" cy=\"172.319\" r=\"14.4\" fill=\"#009af9\" fill-rule=\"evenodd\" fill-opacity=\"1\" stroke=\"#000000\" stroke-opacity=\"1\" stroke-width=\"3.2\"/>\n",
       "<circle clip-path=\"url(#clip562)\" cx=\"474.649\" cy=\"247.097\" r=\"14.4\" fill=\"#009af9\" fill-rule=\"evenodd\" fill-opacity=\"1\" stroke=\"#000000\" stroke-opacity=\"1\" stroke-width=\"3.2\"/>\n",
       "<circle clip-path=\"url(#clip562)\" cx=\"525.569\" cy=\"284.848\" r=\"14.4\" fill=\"#009af9\" fill-rule=\"evenodd\" fill-opacity=\"1\" stroke=\"#000000\" stroke-opacity=\"1\" stroke-width=\"3.2\"/>\n",
       "<circle clip-path=\"url(#clip562)\" cx=\"574.405\" cy=\"321.698\" r=\"14.4\" fill=\"#009af9\" fill-rule=\"evenodd\" fill-opacity=\"1\" stroke=\"#000000\" stroke-opacity=\"1\" stroke-width=\"3.2\"/>\n",
       "<circle clip-path=\"url(#clip562)\" cx=\"577.07\" cy=\"323.726\" r=\"14.4\" fill=\"#009af9\" fill-rule=\"evenodd\" fill-opacity=\"1\" stroke=\"#000000\" stroke-opacity=\"1\" stroke-width=\"3.2\"/>\n",
       "<circle clip-path=\"url(#clip562)\" cx=\"670.122\" cy=\"395.626\" r=\"14.4\" fill=\"#009af9\" fill-rule=\"evenodd\" fill-opacity=\"1\" stroke=\"#000000\" stroke-opacity=\"1\" stroke-width=\"3.2\"/>\n",
       "<circle clip-path=\"url(#clip562)\" cx=\"791.748\" cy=\"492.404\" r=\"14.4\" fill=\"#009af9\" fill-rule=\"evenodd\" fill-opacity=\"1\" stroke=\"#000000\" stroke-opacity=\"1\" stroke-width=\"3.2\"/>\n",
       "<circle clip-path=\"url(#clip562)\" cx=\"851.512\" cy=\"540.915\" r=\"14.4\" fill=\"#009af9\" fill-rule=\"evenodd\" fill-opacity=\"1\" stroke=\"#000000\" stroke-opacity=\"1\" stroke-width=\"3.2\"/>\n",
       "<circle clip-path=\"url(#clip562)\" cx=\"891.302\" cy=\"573.499\" r=\"14.4\" fill=\"#009af9\" fill-rule=\"evenodd\" fill-opacity=\"1\" stroke=\"#000000\" stroke-opacity=\"1\" stroke-width=\"3.2\"/>\n",
       "<circle clip-path=\"url(#clip562)\" cx=\"1092.07\" cy=\"740.146\" r=\"14.4\" fill=\"#009af9\" fill-rule=\"evenodd\" fill-opacity=\"1\" stroke=\"#000000\" stroke-opacity=\"1\" stroke-width=\"3.2\"/>\n",
       "<circle clip-path=\"url(#clip562)\" cx=\"1151.38\" cy=\"789.619\" r=\"14.4\" fill=\"#009af9\" fill-rule=\"evenodd\" fill-opacity=\"1\" stroke=\"#000000\" stroke-opacity=\"1\" stroke-width=\"3.2\"/>\n",
       "<circle clip-path=\"url(#clip562)\" cx=\"1186.9\" cy=\"819.193\" r=\"14.4\" fill=\"#009af9\" fill-rule=\"evenodd\" fill-opacity=\"1\" stroke=\"#000000\" stroke-opacity=\"1\" stroke-width=\"3.2\"/>\n",
       "<circle clip-path=\"url(#clip562)\" cx=\"1274.69\" cy=\"891.849\" r=\"14.4\" fill=\"#009af9\" fill-rule=\"evenodd\" fill-opacity=\"1\" stroke=\"#000000\" stroke-opacity=\"1\" stroke-width=\"3.2\"/>\n",
       "<circle clip-path=\"url(#clip562)\" cx=\"1340.15\" cy=\"945.364\" r=\"14.4\" fill=\"#009af9\" fill-rule=\"evenodd\" fill-opacity=\"1\" stroke=\"#000000\" stroke-opacity=\"1\" stroke-width=\"3.2\"/>\n",
       "<circle clip-path=\"url(#clip562)\" cx=\"1343.63\" cy=\"948.193\" r=\"14.4\" fill=\"#009af9\" fill-rule=\"evenodd\" fill-opacity=\"1\" stroke=\"#000000\" stroke-opacity=\"1\" stroke-width=\"3.2\"/>\n",
       "<circle clip-path=\"url(#clip562)\" cx=\"1399.72\" cy=\"993.347\" r=\"14.4\" fill=\"#009af9\" fill-rule=\"evenodd\" fill-opacity=\"1\" stroke=\"#000000\" stroke-opacity=\"1\" stroke-width=\"3.2\"/>\n",
       "<circle clip-path=\"url(#clip562)\" cx=\"1407.66\" cy=\"999.677\" r=\"14.4\" fill=\"#009af9\" fill-rule=\"evenodd\" fill-opacity=\"1\" stroke=\"#000000\" stroke-opacity=\"1\" stroke-width=\"3.2\"/>\n",
       "<circle clip-path=\"url(#clip562)\" cx=\"1426.94\" cy=\"1014.99\" r=\"14.4\" fill=\"#009af9\" fill-rule=\"evenodd\" fill-opacity=\"1\" stroke=\"#000000\" stroke-opacity=\"1\" stroke-width=\"3.2\"/>\n",
       "<circle clip-path=\"url(#clip562)\" cx=\"1476.96\" cy=\"1054.19\" r=\"14.4\" fill=\"#009af9\" fill-rule=\"evenodd\" fill-opacity=\"1\" stroke=\"#000000\" stroke-opacity=\"1\" stroke-width=\"3.2\"/>\n",
       "<circle clip-path=\"url(#clip562)\" cx=\"1936.59\" cy=\"1352.21\" r=\"14.4\" fill=\"#009af9\" fill-rule=\"evenodd\" fill-opacity=\"1\" stroke=\"#000000\" stroke-opacity=\"1\" stroke-width=\"3.2\"/>\n",
       "<circle clip-path=\"url(#clip562)\" cx=\"1968.89\" cy=\"1367.24\" r=\"14.4\" fill=\"#009af9\" fill-rule=\"evenodd\" fill-opacity=\"1\" stroke=\"#000000\" stroke-opacity=\"1\" stroke-width=\"3.2\"/>\n",
       "<circle clip-path=\"url(#clip562)\" cx=\"2046.02\" cy=\"1398.54\" r=\"14.4\" fill=\"#009af9\" fill-rule=\"evenodd\" fill-opacity=\"1\" stroke=\"#000000\" stroke-opacity=\"1\" stroke-width=\"3.2\"/>\n",
       "<circle clip-path=\"url(#clip562)\" cx=\"2068.53\" cy=\"1406.37\" r=\"14.4\" fill=\"#009af9\" fill-rule=\"evenodd\" fill-opacity=\"1\" stroke=\"#000000\" stroke-opacity=\"1\" stroke-width=\"3.2\"/>\n",
       "<circle clip-path=\"url(#clip562)\" cx=\"2159.2\" cy=\"1431.22\" r=\"14.4\" fill=\"#009af9\" fill-rule=\"evenodd\" fill-opacity=\"1\" stroke=\"#000000\" stroke-opacity=\"1\" stroke-width=\"3.2\"/>\n",
       "<circle clip-path=\"url(#clip562)\" cx=\"2291.44\" cy=\"1445.57\" r=\"14.4\" fill=\"#009af9\" fill-rule=\"evenodd\" fill-opacity=\"1\" stroke=\"#000000\" stroke-opacity=\"1\" stroke-width=\"3.2\"/>\n",
       "<polyline clip-path=\"url(#clip562)\" style=\"stroke:#e26f46; stroke-linecap:round; stroke-linejoin:round; stroke-width:4; stroke-opacity:1; fill:none\" points=\"247.59,87.9763 260.896,96.8446 383.935,181.499 457.876,234.577 520.392,280.661 588.302,331.895 650.909,380.132 718.031,432.82 795.798,494.976 864.908,551.063 925.511,600.777 991.585,655.404 1058.05,710.64 1131.54,771.825 1201.46,829.912 1274.16,889.897 1335.36,939.839 1410.08,999.811 1478.52,1053.46 1541.74,1101.61 1605.77,1148.73 1677.54,1199.13 1742.57,1242.24 1779.8,1265.65 1817.03,1288.06 1851.5,1307.83 1885.97,1326.6 1919.95,1344.05 1953.93,1360.39 1986.93,1375.13 2019.92,1388.68 2053.75,1401.28 2087.57,1412.48 2124.63,1423.06 2161.69,1431.76 2188.6,1436.83 2215.52,1440.81 2242.44,1443.64 2269.35,1445.29 2274.87,1445.48 2280.4,1445.61 2285.92,1445.69 2291.44,1445.72 \"/>\n",
       "<path clip-path=\"url(#clip560)\" d=\"M1571.53 250.738 L2280.54 250.738 L2280.54 95.2176 L1571.53 95.2176  Z\" fill=\"#ffffff\" fill-rule=\"evenodd\" fill-opacity=\"1\"/>\n",
       "<polyline clip-path=\"url(#clip560)\" style=\"stroke:#000000; stroke-linecap:round; stroke-linejoin:round; stroke-width:4; stroke-opacity:1; fill:none\" points=\"1571.53,250.738 2280.54,250.738 2280.54,95.2176 1571.53,95.2176 1571.53,250.738 \"/>\n",
       "<circle clip-path=\"url(#clip560)\" cx=\"1667.82\" cy=\"147.058\" r=\"23.04\" fill=\"#009af9\" fill-rule=\"evenodd\" fill-opacity=\"1\" stroke=\"#000000\" stroke-opacity=\"1\" stroke-width=\"5.12\"/>\n",
       "<path clip-path=\"url(#clip560)\" d=\"M1786.35 130.912 L1786.35 135.472 Q1783.69 134.199 1781.33 133.574 Q1778.97 132.949 1776.77 132.949 Q1772.95 132.949 1770.87 134.43 Q1768.81 135.912 1768.81 138.643 Q1768.81 140.935 1770.17 142.115 Q1771.56 143.273 1775.41 143.99 L1778.23 144.569 Q1783.46 145.565 1785.94 148.088 Q1788.44 150.588 1788.44 154.801 Q1788.44 159.824 1785.06 162.416 Q1781.7 165.009 1775.2 165.009 Q1772.74 165.009 1769.97 164.453 Q1767.21 163.898 1764.25 162.81 L1764.25 157.995 Q1767.1 159.592 1769.83 160.402 Q1772.56 161.213 1775.2 161.213 Q1779.2 161.213 1781.38 159.639 Q1783.55 158.064 1783.55 155.148 Q1783.55 152.602 1781.98 151.166 Q1780.43 149.731 1776.86 149.014 L1774.02 148.458 Q1768.79 147.416 1766.45 145.194 Q1764.11 142.972 1764.11 139.014 Q1764.11 134.43 1767.33 131.791 Q1770.57 129.153 1776.24 129.153 Q1778.67 129.153 1781.19 129.592 Q1783.72 130.032 1786.35 130.912 Z\" fill=\"#000000\" fill-rule=\"nonzero\" fill-opacity=\"1\" /><path clip-path=\"url(#clip560)\" d=\"M1805.59 141.398 Q1802.16 141.398 1800.17 144.083 Q1798.18 146.745 1798.18 151.398 Q1798.18 156.051 1800.15 158.736 Q1802.14 161.398 1805.59 161.398 Q1808.99 161.398 1810.98 158.713 Q1812.97 156.027 1812.97 151.398 Q1812.97 146.791 1810.98 144.106 Q1808.99 141.398 1805.59 141.398 M1805.59 137.787 Q1811.15 137.787 1814.32 141.398 Q1817.49 145.009 1817.49 151.398 Q1817.49 157.764 1814.32 161.398 Q1811.15 165.009 1805.59 165.009 Q1800.01 165.009 1796.84 161.398 Q1793.69 157.764 1793.69 151.398 Q1793.69 145.009 1796.84 141.398 Q1800.01 137.787 1805.59 137.787 Z\" fill=\"#000000\" fill-rule=\"nonzero\" fill-opacity=\"1\" /><path clip-path=\"url(#clip560)\" d=\"M1824.55 128.319 L1828.81 128.319 L1828.81 164.338 L1824.55 164.338 L1824.55 128.319 Z\" fill=\"#000000\" fill-rule=\"nonzero\" fill-opacity=\"1\" /><path clip-path=\"url(#clip560)\" d=\"M1837.28 154.106 L1837.28 138.412 L1841.54 138.412 L1841.54 153.944 Q1841.54 157.625 1842.97 159.476 Q1844.41 161.305 1847.28 161.305 Q1850.73 161.305 1852.72 159.106 Q1854.73 156.907 1854.73 153.111 L1854.73 138.412 L1858.99 138.412 L1858.99 164.338 L1854.73 164.338 L1854.73 160.356 Q1853.18 162.717 1851.12 163.875 Q1849.09 165.009 1846.38 165.009 Q1841.91 165.009 1839.6 162.231 Q1837.28 159.453 1837.28 154.106 M1848 137.787 L1848 137.787 Z\" fill=\"#000000\" fill-rule=\"nonzero\" fill-opacity=\"1\" /><path clip-path=\"url(#clip560)\" d=\"M1886.42 139.407 L1886.42 143.389 Q1884.62 142.393 1882.79 141.907 Q1880.98 141.398 1879.13 141.398 Q1874.99 141.398 1872.7 144.037 Q1870.41 146.652 1870.41 151.398 Q1870.41 156.143 1872.7 158.782 Q1874.99 161.398 1879.13 161.398 Q1880.98 161.398 1882.79 160.912 Q1884.62 160.402 1886.42 159.407 L1886.42 163.342 Q1884.64 164.176 1882.72 164.592 Q1880.82 165.009 1878.67 165.009 Q1872.81 165.009 1869.36 161.328 Q1865.91 157.648 1865.91 151.398 Q1865.91 145.055 1869.39 141.421 Q1872.88 137.787 1878.95 137.787 Q1880.91 137.787 1882.79 138.203 Q1884.66 138.597 1886.42 139.407 Z\" fill=\"#000000\" fill-rule=\"nonzero\" fill-opacity=\"1\" /><path clip-path=\"url(#clip560)\" d=\"M1893.83 138.412 L1898.09 138.412 L1898.09 164.338 L1893.83 164.338 L1893.83 138.412 M1893.83 128.319 L1898.09 128.319 L1898.09 133.713 L1893.83 133.713 L1893.83 128.319 Z\" fill=\"#000000\" fill-rule=\"nonzero\" fill-opacity=\"1\" /><path clip-path=\"url(#clip560)\" d=\"M1917.05 141.398 Q1913.62 141.398 1911.63 144.083 Q1909.64 146.745 1909.64 151.398 Q1909.64 156.051 1911.61 158.736 Q1913.6 161.398 1917.05 161.398 Q1920.45 161.398 1922.44 158.713 Q1924.43 156.027 1924.43 151.398 Q1924.43 146.791 1922.44 144.106 Q1920.45 141.398 1917.05 141.398 M1917.05 137.787 Q1922.6 137.787 1925.78 141.398 Q1928.95 145.009 1928.95 151.398 Q1928.95 157.764 1925.78 161.398 Q1922.6 165.009 1917.05 165.009 Q1911.47 165.009 1908.3 161.398 Q1905.15 157.764 1905.15 151.398 Q1905.15 145.009 1908.3 141.398 Q1911.47 137.787 1917.05 137.787 M1920.27 126.421 L1924.87 126.421 L1917.33 135.125 L1913.78 135.125 L1920.27 126.421 Z\" fill=\"#000000\" fill-rule=\"nonzero\" fill-opacity=\"1\" /><path clip-path=\"url(#clip560)\" d=\"M1957.56 148.689 L1957.56 164.338 L1953.3 164.338 L1953.3 148.828 Q1953.3 145.148 1951.86 143.319 Q1950.43 141.49 1947.56 141.49 Q1944.11 141.49 1942.12 143.69 Q1940.13 145.889 1940.13 149.685 L1940.13 164.338 L1935.84 164.338 L1935.84 138.412 L1940.13 138.412 L1940.13 142.44 Q1941.65 140.102 1943.71 138.944 Q1945.8 137.787 1948.51 137.787 Q1952.97 137.787 1955.27 140.565 Q1957.56 143.319 1957.56 148.689 Z\" fill=\"#000000\" fill-rule=\"nonzero\" fill-opacity=\"1\" /><path clip-path=\"url(#clip560)\" d=\"M1992.86 134.384 L1986.52 151.583 L1999.22 151.583 L1992.86 134.384 M1990.22 129.778 L1995.52 129.778 L2008.69 164.338 L2003.83 164.338 L2000.68 155.472 L1985.1 155.472 L1981.96 164.338 L1977.02 164.338 L1990.22 129.778 Z\" fill=\"#000000\" fill-rule=\"nonzero\" fill-opacity=\"1\" /><path clip-path=\"url(#clip560)\" d=\"M2017.67 160.449 L2017.67 174.199 L2013.39 174.199 L2013.39 138.412 L2017.67 138.412 L2017.67 142.347 Q2019.02 140.032 2021.05 138.921 Q2023.11 137.787 2025.96 137.787 Q2030.68 137.787 2033.62 141.537 Q2036.58 145.287 2036.58 151.398 Q2036.58 157.509 2033.62 161.259 Q2030.68 165.009 2025.96 165.009 Q2023.11 165.009 2021.05 163.898 Q2019.02 162.763 2017.67 160.449 M2032.16 151.398 Q2032.16 146.699 2030.22 144.037 Q2028.3 141.352 2024.92 141.352 Q2021.54 141.352 2019.59 144.037 Q2017.67 146.699 2017.67 151.398 Q2017.67 156.097 2019.59 158.782 Q2021.54 161.444 2024.92 161.444 Q2028.3 161.444 2030.22 158.782 Q2032.16 156.097 2032.16 151.398 Z\" fill=\"#000000\" fill-rule=\"nonzero\" fill-opacity=\"1\" /><path clip-path=\"url(#clip560)\" d=\"M2058.67 142.393 Q2057.95 141.977 2057.09 141.791 Q2056.26 141.583 2055.24 141.583 Q2051.63 141.583 2049.69 143.944 Q2047.77 146.282 2047.77 150.68 L2047.77 164.338 L2043.48 164.338 L2043.48 138.412 L2047.77 138.412 L2047.77 142.44 Q2049.11 140.078 2051.26 138.944 Q2053.41 137.787 2056.49 137.787 Q2056.93 137.787 2057.46 137.856 Q2058 137.903 2058.64 138.018 L2058.67 142.393 Z\" fill=\"#000000\" fill-rule=\"nonzero\" fill-opacity=\"1\" /><path clip-path=\"url(#clip560)\" d=\"M2072.14 141.398 Q2068.71 141.398 2066.72 144.083 Q2064.73 146.745 2064.73 151.398 Q2064.73 156.051 2066.7 158.736 Q2068.69 161.398 2072.14 161.398 Q2075.54 161.398 2077.53 158.713 Q2079.52 156.027 2079.52 151.398 Q2079.52 146.791 2077.53 144.106 Q2075.54 141.398 2072.14 141.398 M2072.14 137.787 Q2077.7 137.787 2080.87 141.398 Q2084.04 145.009 2084.04 151.398 Q2084.04 157.764 2080.87 161.398 Q2077.7 165.009 2072.14 165.009 Q2066.56 165.009 2063.39 161.398 Q2060.24 157.764 2060.24 151.398 Q2060.24 145.009 2063.39 141.398 Q2066.56 137.787 2072.14 137.787 Z\" fill=\"#000000\" fill-rule=\"nonzero\" fill-opacity=\"1\" /><path clip-path=\"url(#clip560)\" d=\"M2111.19 138.412 L2101.82 151.027 L2111.68 164.338 L2106.65 164.338 L2099.11 154.152 L2091.56 164.338 L2086.54 164.338 L2096.61 150.773 L2087.39 138.412 L2092.42 138.412 L2099.29 147.648 L2106.17 138.412 L2111.19 138.412 Z\" fill=\"#000000\" fill-rule=\"nonzero\" fill-opacity=\"1\" /><path clip-path=\"url(#clip560)\" d=\"M2117.7 138.412 L2121.95 138.412 L2121.95 164.338 L2117.7 164.338 L2117.7 138.412 M2117.7 128.319 L2121.95 128.319 L2121.95 133.713 L2117.7 133.713 L2117.7 128.319 Z\" fill=\"#000000\" fill-rule=\"nonzero\" fill-opacity=\"1\" /><path clip-path=\"url(#clip560)\" d=\"M2151.05 143.389 Q2152.65 140.518 2154.87 139.153 Q2157.09 137.787 2160.1 137.787 Q2164.15 137.787 2166.35 140.634 Q2168.55 143.458 2168.55 148.689 L2168.55 164.338 L2164.27 164.338 L2164.27 148.828 Q2164.27 145.102 2162.95 143.296 Q2161.63 141.49 2158.92 141.49 Q2155.61 141.49 2153.69 143.69 Q2151.77 145.889 2151.77 149.685 L2151.77 164.338 L2147.49 164.338 L2147.49 148.828 Q2147.49 145.078 2146.17 143.296 Q2144.85 141.49 2142.09 141.49 Q2138.83 141.49 2136.91 143.713 Q2134.99 145.912 2134.99 149.685 L2134.99 164.338 L2130.7 164.338 L2130.7 138.412 L2134.99 138.412 L2134.99 142.44 Q2136.45 140.055 2138.48 138.921 Q2140.52 137.787 2143.32 137.787 Q2146.14 137.787 2148.11 139.222 Q2150.1 140.657 2151.05 143.389 Z\" fill=\"#000000\" fill-rule=\"nonzero\" fill-opacity=\"1\" /><path clip-path=\"url(#clip560)\" d=\"M2188.83 151.305 Q2183.67 151.305 2181.68 152.486 Q2179.69 153.666 2179.69 156.514 Q2179.69 158.782 2181.17 160.125 Q2182.67 161.444 2185.24 161.444 Q2188.78 161.444 2190.91 158.944 Q2193.07 156.421 2193.07 152.254 L2193.07 151.305 L2188.83 151.305 M2197.32 149.546 L2197.32 164.338 L2193.07 164.338 L2193.07 160.402 Q2191.61 162.763 2189.43 163.898 Q2187.26 165.009 2184.11 165.009 Q2180.13 165.009 2177.76 162.787 Q2175.43 160.541 2175.43 156.791 Q2175.43 152.416 2178.34 150.194 Q2181.28 147.972 2187.09 147.972 L2193.07 147.972 L2193.07 147.555 Q2193.07 144.615 2191.12 143.018 Q2189.2 141.398 2185.7 141.398 Q2183.48 141.398 2181.38 141.93 Q2179.27 142.463 2177.32 143.527 L2177.32 139.592 Q2179.66 138.69 2181.86 138.25 Q2184.06 137.787 2186.14 137.787 Q2191.77 137.787 2194.55 140.703 Q2197.32 143.62 2197.32 149.546 Z\" fill=\"#000000\" fill-rule=\"nonzero\" fill-opacity=\"1\" /><path clip-path=\"url(#clip560)\" d=\"M2223.16 142.347 L2223.16 128.319 L2227.42 128.319 L2227.42 164.338 L2223.16 164.338 L2223.16 160.449 Q2221.82 162.763 2219.76 163.898 Q2217.72 165.009 2214.85 165.009 Q2210.15 165.009 2207.19 161.259 Q2204.25 157.509 2204.25 151.398 Q2204.25 145.287 2207.19 141.537 Q2210.15 137.787 2214.85 137.787 Q2217.72 137.787 2219.76 138.921 Q2221.82 140.032 2223.16 142.347 M2208.64 151.398 Q2208.64 156.097 2210.57 158.782 Q2212.51 161.444 2215.89 161.444 Q2219.27 161.444 2221.21 158.782 Q2223.16 156.097 2223.16 151.398 Q2223.16 146.699 2221.21 144.037 Q2219.27 141.352 2215.89 141.352 Q2212.51 141.352 2210.57 144.037 Q2208.64 146.699 2208.64 151.398 Z\" fill=\"#000000\" fill-rule=\"nonzero\" fill-opacity=\"1\" /><path clip-path=\"url(#clip560)\" d=\"M2247.97 151.305 Q2242.81 151.305 2240.82 152.486 Q2238.83 153.666 2238.83 156.514 Q2238.83 158.782 2240.31 160.125 Q2241.82 161.444 2244.38 161.444 Q2247.93 161.444 2250.06 158.944 Q2252.21 156.421 2252.21 152.254 L2252.21 151.305 L2247.97 151.305 M2256.47 149.546 L2256.47 164.338 L2252.21 164.338 L2252.21 160.402 Q2250.75 162.763 2248.57 163.898 Q2246.4 165.009 2243.25 165.009 Q2239.27 165.009 2236.91 162.787 Q2234.57 160.541 2234.57 156.791 Q2234.57 152.416 2237.49 150.194 Q2240.43 147.972 2246.24 147.972 L2252.21 147.972 L2252.21 147.555 Q2252.21 144.615 2250.26 143.018 Q2248.34 141.398 2244.85 141.398 Q2242.63 141.398 2240.52 141.93 Q2238.41 142.463 2236.47 143.527 L2236.47 139.592 Q2238.81 138.69 2241 138.25 Q2243.2 137.787 2245.29 137.787 Q2250.91 137.787 2253.69 140.703 Q2256.47 143.62 2256.47 149.546 Z\" fill=\"#000000\" fill-rule=\"nonzero\" fill-opacity=\"1\" /><polyline clip-path=\"url(#clip560)\" style=\"stroke:#e26f46; stroke-linecap:round; stroke-linejoin:round; stroke-width:4; stroke-opacity:1; fill:none\" points=\"1595.61,198.898 1740.04,198.898 \"/>\n",
       "<path clip-path=\"url(#clip560)\" d=\"M1786.35 182.752 L1786.35 187.312 Q1783.69 186.039 1781.33 185.414 Q1778.97 184.789 1776.77 184.789 Q1772.95 184.789 1770.87 186.27 Q1768.81 187.752 1768.81 190.483 Q1768.81 192.775 1770.17 193.955 Q1771.56 195.113 1775.41 195.83 L1778.23 196.409 Q1783.46 197.405 1785.94 199.928 Q1788.44 202.428 1788.44 206.641 Q1788.44 211.664 1785.06 214.256 Q1781.7 216.849 1775.2 216.849 Q1772.74 216.849 1769.97 216.293 Q1767.21 215.738 1764.25 214.65 L1764.25 209.835 Q1767.1 211.432 1769.83 212.242 Q1772.56 213.053 1775.2 213.053 Q1779.2 213.053 1781.38 211.479 Q1783.55 209.904 1783.55 206.988 Q1783.55 204.442 1781.98 203.006 Q1780.43 201.571 1776.86 200.854 L1774.02 200.298 Q1768.79 199.256 1766.45 197.034 Q1764.11 194.812 1764.11 190.854 Q1764.11 186.27 1767.33 183.631 Q1770.57 180.993 1776.24 180.993 Q1778.67 180.993 1781.19 181.432 Q1783.72 181.872 1786.35 182.752 Z\" fill=\"#000000\" fill-rule=\"nonzero\" fill-opacity=\"1\" /><path clip-path=\"url(#clip560)\" d=\"M1805.59 193.238 Q1802.16 193.238 1800.17 195.923 Q1798.18 198.585 1798.18 203.238 Q1798.18 207.891 1800.15 210.576 Q1802.14 213.238 1805.59 213.238 Q1808.99 213.238 1810.98 210.553 Q1812.97 207.867 1812.97 203.238 Q1812.97 198.631 1810.98 195.946 Q1808.99 193.238 1805.59 193.238 M1805.59 189.627 Q1811.15 189.627 1814.32 193.238 Q1817.49 196.849 1817.49 203.238 Q1817.49 209.604 1814.32 213.238 Q1811.15 216.849 1805.59 216.849 Q1800.01 216.849 1796.84 213.238 Q1793.69 209.604 1793.69 203.238 Q1793.69 196.849 1796.84 193.238 Q1800.01 189.627 1805.59 189.627 Z\" fill=\"#000000\" fill-rule=\"nonzero\" fill-opacity=\"1\" /><path clip-path=\"url(#clip560)\" d=\"M1824.55 180.159 L1828.81 180.159 L1828.81 216.178 L1824.55 216.178 L1824.55 180.159 Z\" fill=\"#000000\" fill-rule=\"nonzero\" fill-opacity=\"1\" /><path clip-path=\"url(#clip560)\" d=\"M1837.28 205.946 L1837.28 190.252 L1841.54 190.252 L1841.54 205.784 Q1841.54 209.465 1842.97 211.316 Q1844.41 213.145 1847.28 213.145 Q1850.73 213.145 1852.72 210.946 Q1854.73 208.747 1854.73 204.951 L1854.73 190.252 L1858.99 190.252 L1858.99 216.178 L1854.73 216.178 L1854.73 212.196 Q1853.18 214.557 1851.12 215.715 Q1849.09 216.849 1846.38 216.849 Q1841.91 216.849 1839.6 214.071 Q1837.28 211.293 1837.28 205.946 M1848 189.627 L1848 189.627 Z\" fill=\"#000000\" fill-rule=\"nonzero\" fill-opacity=\"1\" /><path clip-path=\"url(#clip560)\" d=\"M1886.42 191.247 L1886.42 195.229 Q1884.62 194.233 1882.79 193.747 Q1880.98 193.238 1879.13 193.238 Q1874.99 193.238 1872.7 195.877 Q1870.41 198.492 1870.41 203.238 Q1870.41 207.983 1872.7 210.622 Q1874.99 213.238 1879.13 213.238 Q1880.98 213.238 1882.79 212.752 Q1884.62 212.242 1886.42 211.247 L1886.42 215.182 Q1884.64 216.016 1882.72 216.432 Q1880.82 216.849 1878.67 216.849 Q1872.81 216.849 1869.36 213.168 Q1865.91 209.488 1865.91 203.238 Q1865.91 196.895 1869.39 193.261 Q1872.88 189.627 1878.95 189.627 Q1880.91 189.627 1882.79 190.043 Q1884.66 190.437 1886.42 191.247 Z\" fill=\"#000000\" fill-rule=\"nonzero\" fill-opacity=\"1\" /><path clip-path=\"url(#clip560)\" d=\"M1893.83 190.252 L1898.09 190.252 L1898.09 216.178 L1893.83 216.178 L1893.83 190.252 M1893.83 180.159 L1898.09 180.159 L1898.09 185.553 L1893.83 185.553 L1893.83 180.159 Z\" fill=\"#000000\" fill-rule=\"nonzero\" fill-opacity=\"1\" /><path clip-path=\"url(#clip560)\" d=\"M1917.05 193.238 Q1913.62 193.238 1911.63 195.923 Q1909.64 198.585 1909.64 203.238 Q1909.64 207.891 1911.61 210.576 Q1913.6 213.238 1917.05 213.238 Q1920.45 213.238 1922.44 210.553 Q1924.43 207.867 1924.43 203.238 Q1924.43 198.631 1922.44 195.946 Q1920.45 193.238 1917.05 193.238 M1917.05 189.627 Q1922.6 189.627 1925.78 193.238 Q1928.95 196.849 1928.95 203.238 Q1928.95 209.604 1925.78 213.238 Q1922.6 216.849 1917.05 216.849 Q1911.47 216.849 1908.3 213.238 Q1905.15 209.604 1905.15 203.238 Q1905.15 196.849 1908.3 193.238 Q1911.47 189.627 1917.05 189.627 M1920.27 178.261 L1924.87 178.261 L1917.33 186.965 L1913.78 186.965 L1920.27 178.261 Z\" fill=\"#000000\" fill-rule=\"nonzero\" fill-opacity=\"1\" /><path clip-path=\"url(#clip560)\" d=\"M1957.56 200.529 L1957.56 216.178 L1953.3 216.178 L1953.3 200.668 Q1953.3 196.988 1951.86 195.159 Q1950.43 193.33 1947.56 193.33 Q1944.11 193.33 1942.12 195.53 Q1940.13 197.729 1940.13 201.525 L1940.13 216.178 L1935.84 216.178 L1935.84 190.252 L1940.13 190.252 L1940.13 194.28 Q1941.65 191.942 1943.71 190.784 Q1945.8 189.627 1948.51 189.627 Q1952.97 189.627 1955.27 192.405 Q1957.56 195.159 1957.56 200.529 Z\" fill=\"#000000\" fill-rule=\"nonzero\" fill-opacity=\"1\" /><path clip-path=\"url(#clip560)\" d=\"M1981.31 181.618 L2003.16 181.618 L2003.16 185.553 L1985.98 185.553 L1985.98 195.784 L2002.44 195.784 L2002.44 199.719 L1985.98 199.719 L1985.98 212.242 L2003.58 212.242 L2003.58 216.178 L1981.31 216.178 L1981.31 181.618 Z\" fill=\"#000000\" fill-rule=\"nonzero\" fill-opacity=\"1\" /><path clip-path=\"url(#clip560)\" d=\"M2032.63 190.252 L2023.25 202.867 L2033.11 216.178 L2028.09 216.178 L2020.54 205.992 L2013 216.178 L2007.97 216.178 L2018.04 202.613 L2008.83 190.252 L2013.85 190.252 L2020.73 199.488 L2027.6 190.252 L2032.63 190.252 Z\" fill=\"#000000\" fill-rule=\"nonzero\" fill-opacity=\"1\" /><path clip-path=\"url(#clip560)\" d=\"M2050.91 203.145 Q2045.75 203.145 2043.76 204.326 Q2041.77 205.506 2041.77 208.354 Q2041.77 210.622 2043.25 211.965 Q2044.76 213.284 2047.33 213.284 Q2050.87 213.284 2053 210.784 Q2055.15 208.261 2055.15 204.094 L2055.15 203.145 L2050.91 203.145 M2059.41 201.386 L2059.41 216.178 L2055.15 216.178 L2055.15 212.242 Q2053.69 214.603 2051.52 215.738 Q2049.34 216.849 2046.19 216.849 Q2042.21 216.849 2039.85 214.627 Q2037.51 212.381 2037.51 208.631 Q2037.51 204.256 2040.43 202.034 Q2043.37 199.812 2049.18 199.812 L2055.15 199.812 L2055.15 199.395 Q2055.15 196.455 2053.21 194.858 Q2051.28 193.238 2047.79 193.238 Q2045.57 193.238 2043.46 193.77 Q2041.35 194.303 2039.41 195.367 L2039.41 191.432 Q2041.75 190.53 2043.95 190.09 Q2046.14 189.627 2048.23 189.627 Q2053.85 189.627 2056.63 192.543 Q2059.41 195.46 2059.41 201.386 Z\" fill=\"#000000\" fill-rule=\"nonzero\" fill-opacity=\"1\" /><path clip-path=\"url(#clip560)\" d=\"M2086.84 191.247 L2086.84 195.229 Q2085.03 194.233 2083.2 193.747 Q2081.4 193.238 2079.55 193.238 Q2075.4 193.238 2073.11 195.877 Q2070.82 198.492 2070.82 203.238 Q2070.82 207.983 2073.11 210.622 Q2075.4 213.238 2079.55 213.238 Q2081.4 213.238 2083.2 212.752 Q2085.03 212.242 2086.84 211.247 L2086.84 215.182 Q2085.06 216.016 2083.14 216.432 Q2081.24 216.849 2079.08 216.849 Q2073.23 216.849 2069.78 213.168 Q2066.33 209.488 2066.33 203.238 Q2066.33 196.895 2069.8 193.261 Q2073.3 189.627 2079.36 189.627 Q2081.33 189.627 2083.2 190.043 Q2085.08 190.437 2086.84 191.247 Z\" fill=\"#000000\" fill-rule=\"nonzero\" fill-opacity=\"1\" /><path clip-path=\"url(#clip560)\" d=\"M2098.46 182.891 L2098.46 190.252 L2107.23 190.252 L2107.23 193.562 L2098.46 193.562 L2098.46 207.636 Q2098.46 210.807 2099.32 211.71 Q2100.2 212.613 2102.86 212.613 L2107.23 212.613 L2107.23 216.178 L2102.86 216.178 Q2097.93 216.178 2096.05 214.349 Q2094.18 212.497 2094.18 207.636 L2094.18 193.562 L2091.05 193.562 L2091.05 190.252 L2094.18 190.252 L2094.18 182.891 L2098.46 182.891 Z\" fill=\"#000000\" fill-rule=\"nonzero\" fill-opacity=\"1\" /><path clip-path=\"url(#clip560)\" d=\"M2124.62 203.145 Q2119.45 203.145 2117.46 204.326 Q2115.47 205.506 2115.47 208.354 Q2115.47 210.622 2116.95 211.965 Q2118.46 213.284 2121.03 213.284 Q2124.57 213.284 2126.7 210.784 Q2128.85 208.261 2128.85 204.094 L2128.85 203.145 L2124.62 203.145 M2133.11 201.386 L2133.11 216.178 L2128.85 216.178 L2128.85 212.242 Q2127.39 214.603 2125.22 215.738 Q2123.04 216.849 2119.89 216.849 Q2115.91 216.849 2113.55 214.627 Q2111.21 212.381 2111.21 208.631 Q2111.21 204.256 2114.13 202.034 Q2117.07 199.812 2122.88 199.812 L2128.85 199.812 L2128.85 199.395 Q2128.85 196.455 2126.91 194.858 Q2124.99 193.238 2121.49 193.238 Q2119.27 193.238 2117.16 193.77 Q2115.06 194.303 2113.11 195.367 L2113.11 191.432 Q2115.45 190.53 2117.65 190.09 Q2119.85 189.627 2121.93 189.627 Q2127.56 189.627 2130.33 192.543 Q2133.11 195.46 2133.11 201.386 Z\" fill=\"#000000\" fill-rule=\"nonzero\" fill-opacity=\"1\" /></svg>\n"
      ]
     },
     "execution_count": 9,
     "metadata": {},
     "output_type": "execute_result"
    }
   ],
   "source": [
    "scatter(x, u_h, label = \"Solución Aproximada\")\n",
    "plot!(u_exact, label = \"Solución Exacta\")"
   ]
  },
  {
   "cell_type": "markdown",
   "id": "38e946ad",
   "metadata": {},
   "source": [
    "### Cálculo de errores de aproximación en norma $L^2$ y la seminorma $H^1$ `refina`"
   ]
  },
  {
   "cell_type": "code",
   "execution_count": 10,
   "id": "116e92d4",
   "metadata": {},
   "outputs": [
    {
     "data": {
      "text/plain": [
       "refina"
      ]
     },
     "execution_count": 10,
     "metadata": {},
     "output_type": "execute_result"
    }
   ],
   "source": [
    "\"\"\"\n",
    "Función que calcula los errores de aproximación en norma L² y la seminorma H¹,\n",
    "y las tasas de convergencia en ambas normas, para un determinado\n",
    "números de ciclos de refinamiento. \n",
    "\n",
    "Input:\n",
    "- `nI_approx_init`: número inicial de subintervalos en el mallado.\n",
    "- `n_cicles`: número de ciclos de refinamiento a realizar.\n",
    "\n",
    "Output:\n",
    "- `L²_error_vec`: vector con error en L² para cada ciclo de refinamiento.\n",
    "- `err_rate_L²`: vector con tasa de convergencia en L² para cada ciclo de refinamiento.\n",
    "- `H¹_error_vec`: vector con error en H¹ para cada ciclo de refinamiento.\n",
    "- `err_rate_H¹`: vector con tasa de convergencia en H¹ para cada ciclo de refinamiento.\n",
    "\"\"\"\n",
    "function refina(nI_approx_init, n_cicles)\n",
    "    # Construimos un vector que contiene el número total de puntos en el mallado.\n",
    "    # Para cada ciclo de refinamiento el siguiente contiene el doble de puntos que el anterior\n",
    "    # El primer ciclo no se refina\n",
    "    nI_approx_vec = [2^i*nI_approx_init for i in 0:n_cicles-1]\n",
    "    \n",
    "    # Vector que contiene el error en L² para cada ciclo de refinamiento\n",
    "    L²_error_vec = zeros(n_cicles);\n",
    "\n",
    "    # Vector que contiene el error en H¹ para cada ciclo de refinamiento\n",
    "    H¹_error_vec = zeros(n_cicles);\n",
    "    \n",
    "    # Ciclos de refinamiento\n",
    "    for k = 1:n_cicles\n",
    "        # Número de subintervalos en el mallado para aproximar\n",
    "        nI_approx = nI_approx_vec[k]\n",
    "\n",
    "        # Nodos de la malla, vector fila\n",
    "        # Valores aproximados de la función u en los nodos de la malla\n",
    "        nodes, dofs = solve_u(nI_approx)\n",
    "        \n",
    "        # Incialización del error en L² y H¹\n",
    "        error_L² = 0.0\n",
    "        error_H¹ = 0.0\n",
    "\n",
    "        ## Calculo del error ||u - u_h||_2 en la norma L²\n",
    "        ## Calculo del error ||u' - u'_h||_2 en la seminorma H¹\n",
    "        for i = 1:nI_approx\n",
    "            errorL², errorH¹ = error_elemento(nodes, dofs, i)\n",
    "            error_L² += errorL²\n",
    "            error_H¹ += errorH¹\n",
    "        end\n",
    "        error_L² = sqrt(error_L²)\n",
    "        error_H¹ = sqrt(error_H¹)\n",
    "        L²_error_vec[k] = error_L²\n",
    "        H¹_error_vec[k] = error_H¹\n",
    "    end\n",
    "    \n",
    "    # Cálculo de la tasa de convergencia\n",
    "    err_rate_L² = zeros(n_cicles)\n",
    "    err_rate_L²[1] = 1\n",
    "    err_rate_H¹ = zeros(n_cicles)\n",
    "    err_rate_H¹[1] = 1\n",
    "\n",
    "    for i = 2:n_cicles\n",
    "        err_rate_L²[i] = log(L²_error_vec[i]/L²_error_vec[i-1])/log(1/2)\n",
    "        err_rate_H¹[i] = log(H¹_error_vec[i]/H¹_error_vec[i-1])/log(1/2)\n",
    "    end\n",
    "    return nI_approx_vec, L²_error_vec, err_rate_L², H¹_error_vec, err_rate_H¹\n",
    "end"
   ]
  },
  {
   "cell_type": "markdown",
   "id": "2f43a032",
   "metadata": {},
   "source": [
    "### Impresión de la tabla de resultados `tabla`"
   ]
  },
  {
   "cell_type": "code",
   "execution_count": 11,
   "id": "0d154387",
   "metadata": {},
   "outputs": [
    {
     "data": {
      "text/plain": [
       "tabla (generic function with 1 method)"
      ]
     },
     "execution_count": 11,
     "metadata": {},
     "output_type": "execute_result"
    }
   ],
   "source": [
    "using Printf\n",
    "function tabla(nI, L², r_L², H¹, r_H¹)\n",
    "    # Impresión de la tabla de resultados\n",
    "    println(\"     n   L²_error   L²_err_rate   H¹_error   H¹_err_rate\\n\")\n",
    "        s = @sprintf \"| %4d | %1.3e | %1.4e | %1.3e | %1.4e |\" nI[1] L²[1] r_L²[1] H¹[1] r_H¹[1];\n",
    "        println(s)\n",
    "    for i = 2:n_cicles\n",
    "        s = @sprintf \"| %4d | %1.3e | %1.4e | %1.3e | %1.4e |\" nI[i] L²[i] r_L²[i] H¹[i] r_H¹[i];\n",
    "        println(s)\n",
    "    end\n",
    "end"
   ]
  },
  {
   "cell_type": "code",
   "execution_count": 12,
   "id": "328c1479",
   "metadata": {},
   "outputs": [
    {
     "data": {
      "text/plain": [
       "8"
      ]
     },
     "execution_count": 12,
     "metadata": {},
     "output_type": "execute_result"
    }
   ],
   "source": [
    "# Numero inicial de subintervalos en el mallado\n",
    "nI_approx_init = 10\n",
    "# Número de ciclos que corre el algoritmo numérico\n",
    "n_cicles = 8"
   ]
  },
  {
   "cell_type": "code",
   "execution_count": 13,
   "id": "718b1300",
   "metadata": {},
   "outputs": [
    {
     "name": "stdout",
     "output_type": "stream",
     "text": [
      "     n   L²_error   L²_err_rate   H¹_error   H¹_err_rate\n",
      "\n",
      "|   10 | 1.685e-03 | 1.0000e+00 | 5.948e-02 | 1.0000e+00 |\n",
      "|   20 | 4.232e-04 | 1.9935e+00 | 2.986e-02 | 9.9406e-01 |\n",
      "|   40 | 1.059e-04 | 1.9984e+00 | 1.495e-02 | 9.9852e-01 |\n",
      "|   80 | 2.649e-05 | 1.9996e+00 | 7.475e-03 | 9.9963e-01 |\n",
      "|  160 | 6.623e-06 | 1.9999e+00 | 3.738e-03 | 9.9991e-01 |\n",
      "|  320 | 1.656e-06 | 2.0000e+00 | 1.869e-03 | 9.9998e-01 |\n",
      "|  640 | 4.139e-07 | 2.0000e+00 | 9.344e-04 | 9.9999e-01 |\n",
      "| 1280 | 1.035e-07 | 2.0000e+00 | 4.672e-04 | 1.0000e+00 |\n"
     ]
    }
   ],
   "source": [
    "nI, L², r_L², H¹, r_H¹ = refina(nI_approx_init, n_cicles);  \n",
    "\n",
    "tabla(nI, L², r_L², H¹, r_H¹)"
   ]
  }
 ],
 "metadata": {
  "kernelspec": {
   "display_name": "Julia 1.8.5",
   "language": "julia",
   "name": "julia-1.8"
  },
  "language_info": {
   "file_extension": ".jl",
   "mimetype": "application/julia",
   "name": "julia",
   "version": "1.8.5"
  }
 },
 "nbformat": 4,
 "nbformat_minor": 5
}

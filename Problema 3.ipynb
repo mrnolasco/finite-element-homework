{
 "cells": [
  {
   "cell_type": "markdown",
   "id": "2c7ecf89",
   "metadata": {},
   "source": [
    "# Teoría, Práctica y Aplicaciones de los Elementos Finitos\n",
    "## Tarea I\n",
    "### Curso de Posgrado en Matemáticas-UNAM\n",
    "\n",
    "> Profesor: Daniel Castañon Quiroz. daniel.castanon@iimas.unam.mx\n",
    "\n",
    "> Alumno: Mario Rafael Nolasco Estrada. mnolasco@ciencias.unam.mx"
   ]
  },
  {
   "cell_type": "markdown",
   "id": "e3a062e0",
   "metadata": {},
   "source": [
    "# Problema 3\n",
    "\n",
    "\n",
    "Obtener el interpolador $v_I(x)$ de la funcion $v(x)= \\cos(4\\pi x)$ para el intervalo $D:= (0,1)$ utilizando los elementos finitos de Lagrange de segundo orden. \n",
    "\n",
    "* Obtener entonces la tasa de convergencia para el error $e:= v_I-v$ en la norma $L^2(D)$ y la seminorma $H^1(D)$ para $N \\in \\left\\lbrace 10, 20, 40, 80, 160\\right\\rbrace $ donde $N$ es el número de subintervalos que dividen a $D$."
   ]
  },
  {
   "cell_type": "markdown",
   "id": "deea22f7",
   "metadata": {},
   "source": [
    "## Solución\n",
    "\n",
    "El código comienza definiendo las funciones `u_exact(x)` y `du_exact(x)`, que devuelven el valor exacto de la solución `u(x) = cos (4π x)` y su derivada `u'(x) = -4πsin (4π x)` en un punto `x` dado.\n",
    "\n",
    "A continuación, se define la función `error(nodes, dofs, i)` que calcula el error entre la solución exacta `u(x)` y su aproximación en el i-ésimo subintervalo, en la norma `L²` y la seminorma `H¹`, utilizando una aproximación por elementos finitos de Lagrange de segundo orden. \n",
    "\n",
    "La función utiliza una cuadratura Gaussiana de 3 puntos para aproximar la integral y tres funciones sombrero anónimas para aproximar la solución en cada subintervalo.\n",
    "\n",
    "Luego, el código define varias variables y vectores para realizar un ciclo de refinamiento de la malla. En cada ciclo, se divide el intervalo `[0,1]` en un número creciente de subintervalos, se calcula la solución aproximada en cada subintervalo utilizando la función `error`, y se calcula el error cuadrático medio global. Los errores se almacenan en los vectores `L²_error_vec` y `H¹_error_vec`.\n",
    "\n",
    "Finalmente, se calcula la tasa de convergencia del método y se almacena en los vectores `err_rate_L²` y `err_rate_H¹`. La tasa de convergencia se calcula como el logaritmo del cociente de errores cuadráticos medios consecutivos dividido por el logaritmo de `1/2` (que es la razón de refinamiento de la malla)."
   ]
  },
  {
   "cell_type": "markdown",
   "id": "61b97692",
   "metadata": {},
   "source": [
    "### Solución exacta `u_exact`"
   ]
  },
  {
   "cell_type": "code",
   "execution_count": 1,
   "id": "2f0fd30b",
   "metadata": {},
   "outputs": [
    {
     "data": {
      "text/plain": [
       "u_exact (generic function with 1 method)"
      ]
     },
     "execution_count": 1,
     "metadata": {},
     "output_type": "execute_result"
    }
   ],
   "source": [
    "function u_exact(x)\n",
    "    return cos(4π*x)\n",
    "end"
   ]
  },
  {
   "cell_type": "markdown",
   "id": "4864d86c",
   "metadata": {},
   "source": [
    "### Derivada de la solución exacta `du_exact`"
   ]
  },
  {
   "cell_type": "code",
   "execution_count": 2,
   "id": "949863ff",
   "metadata": {},
   "outputs": [
    {
     "data": {
      "text/plain": [
       "du_exact (generic function with 1 method)"
      ]
     },
     "execution_count": 2,
     "metadata": {},
     "output_type": "execute_result"
    }
   ],
   "source": [
    "function du_exact(x)\n",
    "    return -4π*sin(4π*x)\n",
    "end"
   ]
  },
  {
   "cell_type": "markdown",
   "id": "76adc1b8",
   "metadata": {},
   "source": [
    "### Cálculo del error de aproximación en un elemento de la malla `error_elemento`"
   ]
  },
  {
   "cell_type": "code",
   "execution_count": 3,
   "id": "4d751fd3",
   "metadata": {},
   "outputs": [
    {
     "data": {
      "text/plain": [
       "error_elemento"
      ]
     },
     "execution_count": 3,
     "metadata": {},
     "output_type": "execute_result"
    }
   ],
   "source": [
    "\"\"\"\n",
    "Función que calcula el error de aproximación en la norma `L²`\n",
    "y en la seminorma `H¹` en un elemento de la malla.\n",
    "\n",
    "Input:\n",
    "- `nodes`: vector con los nodos de la malla\n",
    "- `dofs`: vector con los grados de libertad de la solución\n",
    "- `i`: índice del elemento en la malla\n",
    "\n",
    "Output:\n",
    "- `val_L²`: valor del error L² en el elemento\n",
    "- `val_H¹`: valor del error H¹ en el elemento\n",
    "\"\"\"\n",
    "function error_elemento(nodes, dofs, i)\n",
    "    xᵢ = nodes[i]\n",
    "    xᵢ₊₁ = nodes[i+1]\n",
    "    uᵢ = dofs[i]\n",
    "    uᵢ₊₁ = dofs[i+1]\n",
    "    h = 0.5*(xᵢ₊₁-xᵢ)/3\n",
    "    xₘ = 0.5*(xᵢ₊₁+xᵢ)\n",
    "    uₘ = u_exact(xₘ)\n",
    "    \n",
    "    # Definición de funciones sombrero anónimas\n",
    "    hatᵢ = x -> uᵢ*(x - xₘ)*(x - xᵢ₊₁)/((xᵢ - xₘ)*(xᵢ - xᵢ₊₁))\n",
    "    hatₘ = x -> uₘ*(x - xᵢ)*(x - xᵢ₊₁)/((xₘ - xᵢ)*(xₘ - xᵢ₊₁))\n",
    "    hatᵢ₊₁ = x -> uᵢ₊₁*(x - xᵢ)*(x - xₘ)/((xᵢ₊₁ - xᵢ)*(xᵢ₊₁ - xₘ))\n",
    "    \n",
    "    dhatᵢ = x -> uᵢ*(2*x - xₘ- xᵢ₊₁)/((xᵢ - xₘ)*(xᵢ - xᵢ₊₁))\n",
    "    dhatₘ = x -> uₘ*(2*x - xᵢ- xᵢ₊₁)/((xₘ - xᵢ)*(xₘ - xᵢ₊₁))\n",
    "    dhatᵢ₊₁ = x -> uᵢ₊₁*(2*x - xᵢ - xₘ)/((xᵢ₊₁ - xᵢ)*(xᵢ₊₁ - xₘ))\n",
    "\n",
    "    # Nodos de la cuadratura gaussiana de tres puntos\n",
    "        x₁ = 0.5*(xᵢ₊₁-xᵢ)*(1-sqrt(3/5)) + xᵢ\n",
    "        x₂ = xₘ\n",
    "        x₃ = 0.5*(xᵢ₊₁-xᵢ)*(1+sqrt(3/5)) + xᵢ\n",
    "    # Solución y derivada en los nodos\n",
    "        u₁ = u_exact(x₁)\n",
    "        u₂ = u_exact(x₂)\n",
    "        u₃ = u_exact(x₃)\n",
    "        du₁ = du_exact(x₁)\n",
    "        du₂ = du_exact(x₂)\n",
    "        du₃ = du_exact(x₃)\n",
    "    # Cálculo del error L² y H¹\n",
    "        val_L² = 5*(u₁ - hatᵢ(x₁) - hatₘ(x₁) - hatᵢ₊₁(x₁))^2\n",
    "        val_L² += 8*(u₂ - hatᵢ(x₂) - hatₘ(x₂) - hatᵢ₊₁(x₂))^2\n",
    "        val_L² += 5*(u₃ - hatᵢ(x₃) - hatₘ(x₃) -hatᵢ₊₁(x₃))^2\n",
    "        val_L² = (1/9)*(0.5)*(xᵢ₊₁-xᵢ)*val_L²\n",
    "        \n",
    "        val_H¹ = 5*(du₁ - dhatᵢ(x₁) -dhatₘ(x₁) - dhatᵢ₊₁(x₁))^2\n",
    "        val_H¹ += 8*(du₂ - dhatᵢ(x₂) -dhatₘ(x₂) - dhatᵢ₊₁(x₂))^2\n",
    "        val_H¹ += 5*(du₃ - dhatᵢ(x₃) -dhatₘ(x₃) - dhatᵢ₊₁(x₃))^2\n",
    "        val_H¹ = (1/9)*(0.5)*(xᵢ₊₁-xᵢ)*val_H¹\n",
    "        \n",
    "    return val_L², val_H¹\n",
    "end"
   ]
  },
  {
   "cell_type": "markdown",
   "id": "7157b53e",
   "metadata": {},
   "source": [
    "### Cálculo de errores de aproximación en norma $L^2$ y la seminorma $H^1$ `refina`"
   ]
  },
  {
   "cell_type": "code",
   "execution_count": 4,
   "id": "1f995831",
   "metadata": {},
   "outputs": [
    {
     "data": {
      "text/plain": [
       "refina"
      ]
     },
     "execution_count": 4,
     "metadata": {},
     "output_type": "execute_result"
    }
   ],
   "source": [
    "\"\"\"\n",
    "Función que calcula los errores de aproximación en norma L² y la seminorma H¹,\n",
    "y las tasas de convergencia en ambas normas, para un determinado\n",
    "números de ciclos de refinamiento. \n",
    "\n",
    "Input:\n",
    "- `nI_approx_init`: número inicial de subintervalos en el mallado.\n",
    "- `n_cicles`: número de ciclos de refinamiento a realizar.\n",
    "\n",
    "Output:\n",
    "- `L²_error_vec`: vector con error en L² para cada ciclo de refinamiento.\n",
    "- `err_rate_L²`: vector con tasa de convergencia en L² para cada ciclo de refinamiento.\n",
    "- `H¹_error_vec`: vector con error en H¹ para cada ciclo de refinamiento.\n",
    "- `err_rate_H¹`: vector con tasa de convergencia en H¹ para cada ciclo de refinamiento.\n",
    "\n",
    "\"\"\"\n",
    "function refina(nI_approx_init, n_cicles)\n",
    "    # Construimos un vector que contiene el número total de puntos en el mallado.\n",
    "    # Para cada ciclo de refinamiento el siguiente contiene el doble de puntos que el anterior\n",
    "    \n",
    "    # El primer ciclo no se refina\n",
    "    nI_approx_vec = [2^i*nI_approx_init for i in 0:n_cicles-1]\n",
    "    \n",
    "    # Vector que contiene el error en L² para cada ciclo de refinamiento\n",
    "    L²_error_vec = zeros(n_cicles);\n",
    "    \n",
    "    # Vector que contiene el error en H¹ para cada ciclo de refinamiento\n",
    "    H¹_error_vec = zeros(n_cicles);\n",
    "    \n",
    "    # Ciclos de refinamiento\n",
    "    for k = 1:n_cicles\n",
    "        # Número de subintervalos en el mallado para aproximar\n",
    "        nI_approx = nI_approx_vec[k]\n",
    "        \n",
    "        # Nodos de la malla, vector fila\n",
    "        nodes = LinRange(0, 1, nI_approx+1)\n",
    "        \n",
    "        # Valores exactos de la función u en los nodos de la malla\n",
    "        dofs = u_exact.(nodes)\n",
    "        \n",
    "        # Incialización del error en L² y H¹\n",
    "        error_L² = 0.0\n",
    "        error_H¹ = 0.0\n",
    "\n",
    "        ## Calculo del error ||u - u_h||_2 en la norma L²\n",
    "        ## Calculo del error ||u' - u'_h||_2 en la seminorma H¹\n",
    "        for i = 1:nI_approx\n",
    "            errorL², errorH¹ = error_elemento(nodes, dofs, i)\n",
    "            error_L² += errorL²\n",
    "            error_H¹ += errorH¹\n",
    "        end\n",
    "        error_L² = sqrt(error_L²)\n",
    "        error_H¹ = sqrt(error_H¹)\n",
    "        L²_error_vec[k] = error_L²\n",
    "        H¹_error_vec[k] = error_H¹\n",
    "    end\n",
    "\n",
    "    # Cálculo de la tasa de convergencia\n",
    "    err_rate_L² = zeros(n_cicles)\n",
    "    err_rate_L²[1] = 1\n",
    "    err_rate_H¹ = zeros(n_cicles)\n",
    "    err_rate_H¹[1] = 1\n",
    "\n",
    "    for i = 2:n_cicles\n",
    "        err_rate_L²[i] = log(L²_error_vec[i]/L²_error_vec[i-1])/log(1/2)\n",
    "        err_rate_H¹[i] = log(H¹_error_vec[i]/H¹_error_vec[i-1])/log(1/2)\n",
    "    end\n",
    "    return nI_approx_vec, L²_error_vec, err_rate_L², H¹_error_vec, err_rate_H¹\n",
    "end"
   ]
  },
  {
   "cell_type": "markdown",
   "id": "02d7f401",
   "metadata": {},
   "source": [
    "### Impresión de la tabla de resultados `tabla`"
   ]
  },
  {
   "cell_type": "code",
   "execution_count": 5,
   "id": "e933870a",
   "metadata": {},
   "outputs": [
    {
     "data": {
      "text/plain": [
       "tabla (generic function with 1 method)"
      ]
     },
     "execution_count": 5,
     "metadata": {},
     "output_type": "execute_result"
    }
   ],
   "source": [
    "using Printf\n",
    "function tabla(nI, L², r_L², H¹, r_H¹)\n",
    "    # Impresión de la tabla de resultados\n",
    "    println(\"     n   L²_error   L²_err_rate   H¹_error   H¹_err_rate\\n\")\n",
    "        s = @sprintf \"| %4d | %1.3e | %1.4e | %1.3e | %1.4e |\" nI[1] L²[1] r_L²[1] H¹[1] r_H¹[1];\n",
    "        println(s)\n",
    "    for i = 2:n_cicles\n",
    "        s = @sprintf \"| %4d | %1.3e | %1.4e | %1.3e | %1.4e |\" nI[i] L²[i] r_L²[i] H¹[i] r_H¹[i];\n",
    "        println(s)\n",
    "    end\n",
    "end"
   ]
  },
  {
   "cell_type": "code",
   "execution_count": 6,
   "id": "e67fce04",
   "metadata": {},
   "outputs": [
    {
     "data": {
      "text/plain": [
       "8"
      ]
     },
     "execution_count": 6,
     "metadata": {},
     "output_type": "execute_result"
    }
   ],
   "source": [
    "# Numero inicial de subintervalos en el mallado\n",
    "nI_approx_init = 10\n",
    "# Número de ciclos que corre el algoritmo numérico\n",
    "n_cicles = 8"
   ]
  },
  {
   "cell_type": "code",
   "execution_count": 7,
   "id": "413f6095",
   "metadata": {},
   "outputs": [
    {
     "name": "stdout",
     "output_type": "stream",
     "text": [
      "     n   L²_error   L²_err_rate   H¹_error   H¹_err_rate\n",
      "\n",
      "|   10 | 6.590e-03 | 1.0000e+00 | 5.131e-01 | 1.0000e+00 |\n",
      "|   20 | 8.388e-04 | 2.9738e+00 | 1.301e-01 | 1.9795e+00 |\n",
      "|   40 | 1.053e-04 | 2.9935e+00 | 3.264e-02 | 1.9949e+00 |\n",
      "|   80 | 1.318e-05 | 2.9984e+00 | 8.168e-03 | 1.9987e+00 |\n",
      "|  160 | 1.648e-06 | 2.9996e+00 | 2.043e-03 | 1.9997e+00 |\n",
      "|  320 | 2.060e-07 | 2.9999e+00 | 5.107e-04 | 1.9999e+00 |\n",
      "|  640 | 2.575e-08 | 3.0000e+00 | 1.277e-04 | 2.0000e+00 |\n",
      "| 1280 | 3.219e-09 | 3.0000e+00 | 3.192e-05 | 2.0000e+00 |\n"
     ]
    }
   ],
   "source": [
    "nI, L², r_L², H¹, r_H¹ = refina(nI_approx_init, n_cicles);  \n",
    "\n",
    "tabla(nI, L², r_L², H¹, r_H¹)"
   ]
  }
 ],
 "metadata": {
  "kernelspec": {
   "display_name": "Julia 1.8.5",
   "language": "julia",
   "name": "julia-1.8"
  },
  "language_info": {
   "file_extension": ".jl",
   "mimetype": "application/julia",
   "name": "julia",
   "version": "1.8.5"
  }
 },
 "nbformat": 4,
 "nbformat_minor": 5
}
